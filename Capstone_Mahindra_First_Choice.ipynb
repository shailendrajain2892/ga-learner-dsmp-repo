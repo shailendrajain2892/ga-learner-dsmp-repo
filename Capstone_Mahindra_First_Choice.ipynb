{
  "nbformat": 4,
  "nbformat_minor": 0,
  "metadata": {
    "colab": {
      "name": "Capstone_Mahindra_First_Choice.ipynb",
      "version": "0.3.2",
      "provenance": [],
      "collapsed_sections": [],
      "include_colab_link": true
    },
    "kernelspec": {
      "name": "python3",
      "display_name": "Python 3"
    }
  },
  "cells": [
    {
      "cell_type": "markdown",
      "metadata": {
        "id": "view-in-github",
        "colab_type": "text"
      },
      "source": [
        "<a href=\"https://colab.research.google.com/github/shailendrajain2892/ga-learner-dsmp-repo/blob/master/Capstone_Mahindra_First_Choice.ipynb\" target=\"_parent\"><img src=\"https://colab.research.google.com/assets/colab-badge.svg\" alt=\"Open In Colab\"/></a>"
      ]
    },
    {
      "cell_type": "code",
      "metadata": {
        "id": "ijiRV1yciq_5",
        "colab_type": "code",
        "colab": {}
      },
      "source": [
        "import pandas as pd\n",
        "import numpy as np"
      ],
      "execution_count": 0,
      "outputs": []
    },
    {
      "cell_type": "code",
      "metadata": {
        "id": "N4N3OoCEiylL",
        "colab_type": "code",
        "outputId": "9183908f-06c8-4905-af5c-6be1a93c63b5",
        "colab": {
          "base_uri": "https://localhost:8080/",
          "height": 34
        }
      },
      "source": [
        "from google.colab import drive\n",
        "drive.mount('/content/drive')"
      ],
      "execution_count": 0,
      "outputs": [
        {
          "output_type": "stream",
          "text": [
            "Drive already mounted at /content/drive; to attempt to forcibly remount, call drive.mount(\"/content/drive\", force_remount=True).\n"
          ],
          "name": "stdout"
        }
      ]
    },
    {
      "cell_type": "markdown",
      "metadata": {
        "id": "RP-Ew7HwbmCa",
        "colab_type": "text"
      },
      "source": [
        "##Load Plant data \n",
        "**remove duplicate and null columns.**"
      ]
    },
    {
      "cell_type": "code",
      "metadata": {
        "id": "8N057FhYjY3K",
        "colab_type": "code",
        "colab": {}
      },
      "source": [
        "plant_full_data = pd.read_csv('./drive/My Drive/Colab Notebooks/data/final_csv/plant.csv', index_col=0)"
      ],
      "execution_count": 0,
      "outputs": []
    },
    {
      "cell_type": "code",
      "metadata": {
        "id": "yEPSpLibktkQ",
        "colab_type": "code",
        "outputId": "0a6aeca8-f3f3-4dc3-f37d-104e87871c6e",
        "colab": {
          "base_uri": "https://localhost:8080/",
          "height": 340
        }
      },
      "source": [
        "plant_full_data.head()"
      ],
      "execution_count": 0,
      "outputs": [
        {
          "output_type": "execute_result",
          "data": {
            "text/html": [
              "<div>\n",
              "<style scoped>\n",
              "    .dataframe tbody tr th:only-of-type {\n",
              "        vertical-align: middle;\n",
              "    }\n",
              "\n",
              "    .dataframe tbody tr th {\n",
              "        vertical-align: top;\n",
              "    }\n",
              "\n",
              "    .dataframe thead th {\n",
              "        text-align: right;\n",
              "    }\n",
              "</style>\n",
              "<table border=\"1\" class=\"dataframe\">\n",
              "  <thead>\n",
              "    <tr style=\"text-align: right;\">\n",
              "      <th></th>\n",
              "      <th>Plant</th>\n",
              "      <th>Name 1</th>\n",
              "      <th>Valuation Area</th>\n",
              "      <th>Customer no. - plant</th>\n",
              "      <th>Vendor number plant</th>\n",
              "      <th>Factory calendar</th>\n",
              "      <th>Name 2</th>\n",
              "      <th>House number and street</th>\n",
              "      <th>PO Box</th>\n",
              "      <th>Postal Code</th>\n",
              "      <th>City</th>\n",
              "      <th>Sales organization</th>\n",
              "      <th>State</th>\n",
              "    </tr>\n",
              "  </thead>\n",
              "  <tbody>\n",
              "    <tr>\n",
              "      <th>0</th>\n",
              "      <td>BC07</td>\n",
              "      <td>NERKUNDRAM</td>\n",
              "      <td>BC07</td>\n",
              "      <td>PLBC07</td>\n",
              "      <td>PLBC07</td>\n",
              "      <td>IN</td>\n",
              "      <td>NaN</td>\n",
              "      <td>No.117 Poonamallee High Road,</td>\n",
              "      <td>600107.0</td>\n",
              "      <td>600107</td>\n",
              "      <td>Chennai</td>\n",
              "      <td>MFCS</td>\n",
              "      <td>Tamil Nadu</td>\n",
              "    </tr>\n",
              "    <tr>\n",
              "      <th>1</th>\n",
              "      <td>BC30</td>\n",
              "      <td>SAS NAGAR - MOHALI</td>\n",
              "      <td>BC30</td>\n",
              "      <td>PLBC30</td>\n",
              "      <td>PLBC30</td>\n",
              "      <td>IN</td>\n",
              "      <td>NaN</td>\n",
              "      <td>C-118, Phase 07,</td>\n",
              "      <td>160055.0</td>\n",
              "      <td>160055</td>\n",
              "      <td>Mohali</td>\n",
              "      <td>MFCS</td>\n",
              "      <td>Punjab</td>\n",
              "    </tr>\n",
              "    <tr>\n",
              "      <th>2</th>\n",
              "      <td>X001</td>\n",
              "      <td>X001 - AUTO PLANET WHEELS</td>\n",
              "      <td>X001</td>\n",
              "      <td>PLX001</td>\n",
              "      <td>NaN</td>\n",
              "      <td>IN</td>\n",
              "      <td>Thane</td>\n",
              "      <td>Unit No.3, Kothari Compound,</td>\n",
              "      <td>400610.0</td>\n",
              "      <td>400610</td>\n",
              "      <td>Thane</td>\n",
              "      <td>MFCA</td>\n",
              "      <td>Maharashtra</td>\n",
              "    </tr>\n",
              "    <tr>\n",
              "      <th>3</th>\n",
              "      <td>X002</td>\n",
              "      <td>X002 - BHANDARI INDUSTRIES PVT</td>\n",
              "      <td>X002</td>\n",
              "      <td>PLX002</td>\n",
              "      <td>NaN</td>\n",
              "      <td>IN</td>\n",
              "      <td>Ghaziabad</td>\n",
              "      <td>18/1, C Site 4, Sahibabad</td>\n",
              "      <td>201010.0</td>\n",
              "      <td>201010</td>\n",
              "      <td>Ghaziabad</td>\n",
              "      <td>MFCA</td>\n",
              "      <td>Uttar Pradesh</td>\n",
              "    </tr>\n",
              "    <tr>\n",
              "      <th>4</th>\n",
              "      <td>X003</td>\n",
              "      <td>X003 - Om Sri Satya Sai Automo</td>\n",
              "      <td>X003</td>\n",
              "      <td>PLX003</td>\n",
              "      <td>NaN</td>\n",
              "      <td>IN</td>\n",
              "      <td>Bengaluru</td>\n",
              "      <td>#75, Sy.No. 83/2, Panathur Mai</td>\n",
              "      <td>560087.0</td>\n",
              "      <td>560087</td>\n",
              "      <td>Bengaluru</td>\n",
              "      <td>MFCB</td>\n",
              "      <td>Karnataka</td>\n",
              "    </tr>\n",
              "  </tbody>\n",
              "</table>\n",
              "</div>"
            ],
            "text/plain": [
              "  Plant                          Name 1  ... Sales organization          State\n",
              "0  BC07                      NERKUNDRAM  ...               MFCS     Tamil Nadu\n",
              "1  BC30              SAS NAGAR - MOHALI  ...               MFCS         Punjab\n",
              "2  X001       X001 - AUTO PLANET WHEELS  ...               MFCA    Maharashtra\n",
              "3  X002  X002 - BHANDARI INDUSTRIES PVT  ...               MFCA  Uttar Pradesh\n",
              "4  X003  X003 - Om Sri Satya Sai Automo  ...               MFCB      Karnataka\n",
              "\n",
              "[5 rows x 13 columns]"
            ]
          },
          "metadata": {
            "tags": []
          },
          "execution_count": 110
        }
      ]
    },
    {
      "cell_type": "code",
      "metadata": {
        "id": "R21BLM_DacpH",
        "colab_type": "code",
        "outputId": "15729f00-0b3f-47f5-e5fe-ca2b43d41160",
        "colab": {
          "base_uri": "https://localhost:8080/",
          "height": 255
        }
      },
      "source": [
        "plant_full_data.isnull().sum()"
      ],
      "execution_count": 0,
      "outputs": [
        {
          "output_type": "execute_result",
          "data": {
            "text/plain": [
              "Plant                        0\n",
              "Name 1                       0\n",
              "Valuation Area               0\n",
              "Customer no. - plant         0\n",
              "Vendor number plant        436\n",
              "Factory calendar             0\n",
              "Name 2                       2\n",
              "House number and street      2\n",
              "PO Box                       1\n",
              "Postal Code                  0\n",
              "City                         0\n",
              "Sales organization           5\n",
              "State                        0\n",
              "dtype: int64"
            ]
          },
          "metadata": {
            "tags": []
          },
          "execution_count": 111
        }
      ]
    },
    {
      "cell_type": "code",
      "metadata": {
        "id": "kg1VM_-RaikQ",
        "colab_type": "code",
        "outputId": "c8075e81-2174-4315-e059-812e8640c08f",
        "colab": {
          "base_uri": "https://localhost:8080/",
          "height": 34
        }
      },
      "source": [
        "plant_full_data.shape"
      ],
      "execution_count": 0,
      "outputs": [
        {
          "output_type": "execute_result",
          "data": {
            "text/plain": [
              "(438, 13)"
            ]
          },
          "metadata": {
            "tags": []
          },
          "execution_count": 112
        }
      ]
    },
    {
      "cell_type": "markdown",
      "metadata": {
        "id": "BrLsb6wLc6tK",
        "colab_type": "text"
      },
      "source": [
        "**Drop columns=['Vendor number plant', 'Valuation Area', 'Factory calendar', 'Name 2', 'House number and street', 'PO Box', 'Sales organization']**"
      ]
    },
    {
      "cell_type": "code",
      "metadata": {
        "id": "xiOmysjbam9V",
        "colab_type": "code",
        "colab": {}
      },
      "source": [
        "plant = plant_full_data.drop(columns=['Vendor number plant', 'Valuation Area', 'Factory calendar', 'Name 2', 'House number and street', 'PO Box', 'Sales organization', 'Customer no. - plant'])"
      ],
      "execution_count": 0,
      "outputs": []
    },
    {
      "cell_type": "code",
      "metadata": {
        "id": "x-g1ppOOavsV",
        "colab_type": "code",
        "outputId": "ccbb8da6-5d26-4b90-e81d-9446b6775a0f",
        "colab": {
          "base_uri": "https://localhost:8080/",
          "height": 34
        }
      },
      "source": [
        "plant.shape"
      ],
      "execution_count": 0,
      "outputs": [
        {
          "output_type": "execute_result",
          "data": {
            "text/plain": [
              "(438, 5)"
            ]
          },
          "metadata": {
            "tags": []
          },
          "execution_count": 114
        }
      ]
    },
    {
      "cell_type": "code",
      "metadata": {
        "id": "fxctlvb1dMy5",
        "colab_type": "code",
        "outputId": "c16993c3-8e8f-4e6d-b100-d09b7eddb3f9",
        "colab": {
          "base_uri": "https://localhost:8080/",
          "height": 119
        }
      },
      "source": [
        "plant.isnull().sum()"
      ],
      "execution_count": 0,
      "outputs": [
        {
          "output_type": "execute_result",
          "data": {
            "text/plain": [
              "Plant          0\n",
              "Name 1         0\n",
              "Postal Code    0\n",
              "City           0\n",
              "State          0\n",
              "dtype: int64"
            ]
          },
          "metadata": {
            "tags": []
          },
          "execution_count": 115
        }
      ]
    },
    {
      "cell_type": "markdown",
      "metadata": {
        "id": "xVqML_yzdr1o",
        "colab_type": "text"
      },
      "source": [
        "##Read Customer Data. \n",
        "**Remove Duplicate and Missing values columns**."
      ]
    },
    {
      "cell_type": "code",
      "metadata": {
        "id": "Ae7b-ddplUqh",
        "colab_type": "code",
        "outputId": "70cd0ceb-6576-46f7-c824-0e2dea85bf26",
        "colab": {
          "base_uri": "https://localhost:8080/",
          "height": 71
        }
      },
      "source": [
        "customer_full_data = pd.read_csv('./drive/My Drive/Colab Notebooks/data/final_csv/customer.csv', index_col=0)"
      ],
      "execution_count": 0,
      "outputs": [
        {
          "output_type": "stream",
          "text": [
            "/usr/local/lib/python3.6/dist-packages/IPython/core/interactiveshell.py:2718: DtypeWarning: Columns (1,2) have mixed types. Specify dtype option on import or set low_memory=False.\n",
            "  interactivity=interactivity, compiler=compiler, result=result)\n"
          ],
          "name": "stderr"
        }
      ]
    },
    {
      "cell_type": "code",
      "metadata": {
        "id": "pzB4RwgXlxrM",
        "colab_type": "code",
        "outputId": "c0f95c34-f21f-46cf-cea9-5ccd788e1e44",
        "colab": {
          "base_uri": "https://localhost:8080/",
          "height": 204
        }
      },
      "source": [
        "customer_full_data.head()"
      ],
      "execution_count": 0,
      "outputs": [
        {
          "output_type": "execute_result",
          "data": {
            "text/html": [
              "<div>\n",
              "<style scoped>\n",
              "    .dataframe tbody tr th:only-of-type {\n",
              "        vertical-align: middle;\n",
              "    }\n",
              "\n",
              "    .dataframe tbody tr th {\n",
              "        vertical-align: top;\n",
              "    }\n",
              "\n",
              "    .dataframe thead th {\n",
              "        text-align: right;\n",
              "    }\n",
              "</style>\n",
              "<table border=\"1\" class=\"dataframe\">\n",
              "  <thead>\n",
              "    <tr style=\"text-align: right;\">\n",
              "      <th></th>\n",
              "      <th>Business Partner</th>\n",
              "      <th>Customer No.</th>\n",
              "      <th>Partner Type</th>\n",
              "      <th>Data Origin</th>\n",
              "      <th>Title</th>\n",
              "      <th>Marital Status</th>\n",
              "      <th>Occupation</th>\n",
              "      <th>Date of Birth</th>\n",
              "      <th>Death date</th>\n",
              "    </tr>\n",
              "  </thead>\n",
              "  <tbody>\n",
              "    <tr>\n",
              "      <th>0</th>\n",
              "      <td>31</td>\n",
              "      <td>1</td>\n",
              "      <td>1.0</td>\n",
              "      <td>Z001</td>\n",
              "      <td>NaN</td>\n",
              "      <td>NaN</td>\n",
              "      <td>NaN</td>\n",
              "      <td>NaN</td>\n",
              "      <td>NaN</td>\n",
              "    </tr>\n",
              "    <tr>\n",
              "      <th>1</th>\n",
              "      <td>32</td>\n",
              "      <td>2</td>\n",
              "      <td>1.0</td>\n",
              "      <td>Z005</td>\n",
              "      <td>NaN</td>\n",
              "      <td>NaN</td>\n",
              "      <td>NaN</td>\n",
              "      <td>NaN</td>\n",
              "      <td>NaN</td>\n",
              "    </tr>\n",
              "    <tr>\n",
              "      <th>2</th>\n",
              "      <td>34</td>\n",
              "      <td>4</td>\n",
              "      <td>1.0</td>\n",
              "      <td>Z005</td>\n",
              "      <td>NaN</td>\n",
              "      <td>2.0</td>\n",
              "      <td>NaN</td>\n",
              "      <td>NaN</td>\n",
              "      <td>NaN</td>\n",
              "    </tr>\n",
              "    <tr>\n",
              "      <th>3</th>\n",
              "      <td>35</td>\n",
              "      <td>5</td>\n",
              "      <td>1.0</td>\n",
              "      <td>Z005</td>\n",
              "      <td>NaN</td>\n",
              "      <td>NaN</td>\n",
              "      <td>NaN</td>\n",
              "      <td>NaN</td>\n",
              "      <td>NaN</td>\n",
              "    </tr>\n",
              "    <tr>\n",
              "      <th>4</th>\n",
              "      <td>42</td>\n",
              "      <td>7</td>\n",
              "      <td>1.0</td>\n",
              "      <td>Z008</td>\n",
              "      <td>NaN</td>\n",
              "      <td>NaN</td>\n",
              "      <td>NaN</td>\n",
              "      <td>NaN</td>\n",
              "      <td>NaN</td>\n",
              "    </tr>\n",
              "  </tbody>\n",
              "</table>\n",
              "</div>"
            ],
            "text/plain": [
              "  Business Partner Customer No.  ...  Date of Birth Death date\n",
              "0               31            1  ...            NaN        NaN\n",
              "1               32            2  ...            NaN        NaN\n",
              "2               34            4  ...            NaN        NaN\n",
              "3               35            5  ...            NaN        NaN\n",
              "4               42            7  ...            NaN        NaN\n",
              "\n",
              "[5 rows x 9 columns]"
            ]
          },
          "metadata": {
            "tags": []
          },
          "execution_count": 117
        }
      ]
    },
    {
      "cell_type": "code",
      "metadata": {
        "id": "m9o7xFETe5OI",
        "colab_type": "code",
        "outputId": "79e629e0-0760-4553-c284-5e44dfc94c7c",
        "colab": {
          "base_uri": "https://localhost:8080/",
          "height": 34
        }
      },
      "source": [
        "customer_full_data.shape"
      ],
      "execution_count": 0,
      "outputs": [
        {
          "output_type": "execute_result",
          "data": {
            "text/plain": [
              "(555338, 9)"
            ]
          },
          "metadata": {
            "tags": []
          },
          "execution_count": 118
        }
      ]
    },
    {
      "cell_type": "code",
      "metadata": {
        "id": "1wojI66kVXjs",
        "colab_type": "code",
        "outputId": "4fa4e1ba-0ad6-44e2-c275-3d9cddce5482",
        "colab": {
          "base_uri": "https://localhost:8080/",
          "height": 187
        }
      },
      "source": [
        "customer_full_data.isnull().sum()"
      ],
      "execution_count": 0,
      "outputs": [
        {
          "output_type": "execute_result",
          "data": {
            "text/plain": [
              "Business Partner         0\n",
              "Customer No.             0\n",
              "Partner Type            78\n",
              "Data Origin            136\n",
              "Title                46307\n",
              "Marital Status      539301\n",
              "Occupation          540780\n",
              "Date of Birth       541894\n",
              "Death date          554675\n",
              "dtype: int64"
            ]
          },
          "metadata": {
            "tags": []
          },
          "execution_count": 119
        }
      ]
    },
    {
      "cell_type": "code",
      "metadata": {
        "id": "mC2YZ6mmgA0q",
        "colab_type": "code",
        "colab": {}
      },
      "source": [
        "customer = customer_full_data.drop(columns = ['Marital Status', 'Occupation', 'Date of Birth', 'Death date', 'Business Partner'])"
      ],
      "execution_count": 0,
      "outputs": []
    },
    {
      "cell_type": "code",
      "metadata": {
        "id": "H9JXOWb-jJxr",
        "colab_type": "code",
        "outputId": "8305a793-35d1-4427-a577-6341558fb01a",
        "colab": {
          "base_uri": "https://localhost:8080/",
          "height": 102
        }
      },
      "source": [
        "customer.dtypes"
      ],
      "execution_count": 0,
      "outputs": [
        {
          "output_type": "execute_result",
          "data": {
            "text/plain": [
              "Customer No.     object\n",
              "Partner Type    float64\n",
              "Data Origin      object\n",
              "Title           float64\n",
              "dtype: object"
            ]
          },
          "metadata": {
            "tags": []
          },
          "execution_count": 121
        }
      ]
    },
    {
      "cell_type": "code",
      "metadata": {
        "id": "6qOtHQd0gUHt",
        "colab_type": "code",
        "outputId": "403bac79-2065-4839-f1a8-d9633d43cc4f",
        "colab": {
          "base_uri": "https://localhost:8080/",
          "height": 102
        }
      },
      "source": [
        "customer.isnull().sum()"
      ],
      "execution_count": 0,
      "outputs": [
        {
          "output_type": "execute_result",
          "data": {
            "text/plain": [
              "Customer No.        0\n",
              "Partner Type       78\n",
              "Data Origin       136\n",
              "Title           46307\n",
              "dtype: int64"
            ]
          },
          "metadata": {
            "tags": []
          },
          "execution_count": 122
        }
      ]
    },
    {
      "cell_type": "markdown",
      "metadata": {
        "id": "BJs7yJAjlwP2",
        "colab_type": "text"
      },
      "source": [
        "**FIll Missing Values in Partner Type, Data Origin, Title columns with most_frequently used values.**"
      ]
    },
    {
      "cell_type": "code",
      "metadata": {
        "id": "_ezt1434hKqd",
        "colab_type": "code",
        "colab": {}
      },
      "source": [
        "most_frequent_value = customer['Partner Type'].mode()\n",
        "customer['Partner Type'] = customer['Partner Type'].fillna(most_frequent_value[0])"
      ],
      "execution_count": 0,
      "outputs": []
    },
    {
      "cell_type": "code",
      "metadata": {
        "id": "fC5xpwkRlVtZ",
        "colab_type": "code",
        "colab": {}
      },
      "source": [
        "customer['Data Origin'] = customer['Data Origin'].fillna(customer['Data Origin'].mode()[0])"
      ],
      "execution_count": 0,
      "outputs": []
    },
    {
      "cell_type": "code",
      "metadata": {
        "id": "1bT6C0ZnlgUI",
        "colab_type": "code",
        "colab": {}
      },
      "source": [
        "customer['Title'] = customer['Title'].fillna(customer['Title'].mode()[0])"
      ],
      "execution_count": 0,
      "outputs": []
    },
    {
      "cell_type": "code",
      "metadata": {
        "id": "zTUNWHj8lvTE",
        "colab_type": "code",
        "outputId": "aa1ffd37-f023-4205-b748-c4c1b679d234",
        "colab": {
          "base_uri": "https://localhost:8080/",
          "height": 102
        }
      },
      "source": [
        "customer.isnull().sum()"
      ],
      "execution_count": 0,
      "outputs": [
        {
          "output_type": "execute_result",
          "data": {
            "text/plain": [
              "Customer No.    0\n",
              "Partner Type    0\n",
              "Data Origin     0\n",
              "Title           0\n",
              "dtype: int64"
            ]
          },
          "metadata": {
            "tags": []
          },
          "execution_count": 126
        }
      ]
    },
    {
      "cell_type": "markdown",
      "metadata": {
        "id": "_SjzdmPwoaq4",
        "colab_type": "text"
      },
      "source": [
        "##Load Vehicle Data. \n",
        "**Treat missing and nan values.**"
      ]
    },
    {
      "cell_type": "code",
      "metadata": {
        "id": "N1SGaJcDl5xE",
        "colab_type": "code",
        "outputId": "ed585a6e-4440-4f2f-c559-e0d81cd8190a",
        "colab": {
          "base_uri": "https://localhost:8080/",
          "height": 71
        }
      },
      "source": [
        "vehicles_full_data = pd.read_csv('./drive/My Drive/Colab Notebooks/data/final_csv/vehicles.csv', index_col=0)"
      ],
      "execution_count": 0,
      "outputs": [
        {
          "output_type": "stream",
          "text": [
            "/usr/local/lib/python3.6/dist-packages/IPython/core/interactiveshell.py:2718: DtypeWarning: Columns (4) have mixed types. Specify dtype option on import or set low_memory=False.\n",
            "  interactivity=interactivity, compiler=compiler, result=result)\n"
          ],
          "name": "stderr"
        }
      ]
    },
    {
      "cell_type": "code",
      "metadata": {
        "id": "e_wT8KtYsVDr",
        "colab_type": "code",
        "outputId": "a93da3a2-7ca1-421e-a094-4583dfce778c",
        "colab": {
          "base_uri": "https://localhost:8080/",
          "height": 204
        }
      },
      "source": [
        "vehicles_full_data.head()"
      ],
      "execution_count": 0,
      "outputs": [
        {
          "output_type": "execute_result",
          "data": {
            "text/html": [
              "<div>\n",
              "<style scoped>\n",
              "    .dataframe tbody tr th:only-of-type {\n",
              "        vertical-align: middle;\n",
              "    }\n",
              "\n",
              "    .dataframe tbody tr th {\n",
              "        vertical-align: top;\n",
              "    }\n",
              "\n",
              "    .dataframe thead th {\n",
              "        text-align: right;\n",
              "    }\n",
              "</style>\n",
              "<table border=\"1\" class=\"dataframe\">\n",
              "  <thead>\n",
              "    <tr style=\"text-align: right;\">\n",
              "      <th></th>\n",
              "      <th>Vehicle Model</th>\n",
              "      <th>Product GUID</th>\n",
              "      <th>License Plate Number</th>\n",
              "      <th>Fuel Type</th>\n",
              "    </tr>\n",
              "  </thead>\n",
              "  <tbody>\n",
              "    <tr>\n",
              "      <th>0</th>\n",
              "      <td>Z_MAHINDRA</td>\n",
              "      <td>000C2937F0991ED493A0CC3579ED97ED</td>\n",
              "      <td>MH12HN2835</td>\n",
              "      <td>2</td>\n",
              "    </tr>\n",
              "    <tr>\n",
              "      <th>1</th>\n",
              "      <td>Z_TATA</td>\n",
              "      <td>000C2937F0991ED493A19620CB69DDA0</td>\n",
              "      <td>TN10AL3462</td>\n",
              "      <td>2</td>\n",
              "    </tr>\n",
              "    <tr>\n",
              "      <th>2</th>\n",
              "      <td>Z_MARUTI</td>\n",
              "      <td>000C2937F0991ED493A28DAFBFBA870E</td>\n",
              "      <td>AP28DG9695</td>\n",
              "      <td>1</td>\n",
              "    </tr>\n",
              "    <tr>\n",
              "      <th>3</th>\n",
              "      <td>Z_HONDA</td>\n",
              "      <td>000C2937F0991ED493A496B779A143D3</td>\n",
              "      <td>MH15DS9580</td>\n",
              "      <td>1</td>\n",
              "    </tr>\n",
              "    <tr>\n",
              "      <th>4</th>\n",
              "      <td>Z_MARUTI</td>\n",
              "      <td>000C2937F0991ED493A58273B92EC2F8</td>\n",
              "      <td>MH14CK0669</td>\n",
              "      <td>2</td>\n",
              "    </tr>\n",
              "  </tbody>\n",
              "</table>\n",
              "</div>"
            ],
            "text/plain": [
              "  Vehicle Model  ... Fuel Type\n",
              "0    Z_MAHINDRA  ...         2\n",
              "1        Z_TATA  ...         2\n",
              "2      Z_MARUTI  ...         1\n",
              "3       Z_HONDA  ...         1\n",
              "4      Z_MARUTI  ...         2\n",
              "\n",
              "[5 rows x 4 columns]"
            ]
          },
          "metadata": {
            "tags": []
          },
          "execution_count": 128
        }
      ]
    },
    {
      "cell_type": "code",
      "metadata": {
        "id": "KeshmvEGpTBC",
        "colab_type": "code",
        "outputId": "03ae361d-9985-4f2e-e374-58b0eb9396c5",
        "colab": {
          "base_uri": "https://localhost:8080/",
          "height": 34
        }
      },
      "source": [
        "vehicles_full_data.shape"
      ],
      "execution_count": 0,
      "outputs": [
        {
          "output_type": "execute_result",
          "data": {
            "text/plain": [
              "(588761, 4)"
            ]
          },
          "metadata": {
            "tags": []
          },
          "execution_count": 129
        }
      ]
    },
    {
      "cell_type": "code",
      "metadata": {
        "id": "5e2KQAa9pLKC",
        "colab_type": "code",
        "outputId": "0f6226a4-4bca-40cd-8812-49075efc9f21",
        "colab": {
          "base_uri": "https://localhost:8080/",
          "height": 102
        }
      },
      "source": [
        "vehicles_full_data.isnull().sum()"
      ],
      "execution_count": 0,
      "outputs": [
        {
          "output_type": "execute_result",
          "data": {
            "text/plain": [
              "Vehicle Model               0\n",
              "Product GUID                0\n",
              "License Plate Number     2058\n",
              "Fuel Type               15627\n",
              "dtype: int64"
            ]
          },
          "metadata": {
            "tags": []
          },
          "execution_count": 130
        }
      ]
    },
    {
      "cell_type": "markdown",
      "metadata": {
        "id": "61U8R8REqiYL",
        "colab_type": "text"
      },
      "source": [
        "***`Remove Product GUID column`***"
      ]
    },
    {
      "cell_type": "code",
      "metadata": {
        "id": "kzii6AKApzLH",
        "colab_type": "code",
        "colab": {}
      },
      "source": [
        "vehicles = vehicles_full_data.drop(columns='Product GUID')"
      ],
      "execution_count": 0,
      "outputs": []
    },
    {
      "cell_type": "code",
      "metadata": {
        "id": "rxylrfdyqhtv",
        "colab_type": "code",
        "outputId": "07162c10-adea-4f03-8e5a-1e9d88c39c06",
        "colab": {
          "base_uri": "https://localhost:8080/",
          "height": 34
        }
      },
      "source": [
        "vehicles.shape"
      ],
      "execution_count": 0,
      "outputs": [
        {
          "output_type": "execute_result",
          "data": {
            "text/plain": [
              "(588761, 3)"
            ]
          },
          "metadata": {
            "tags": []
          },
          "execution_count": 132
        }
      ]
    },
    {
      "cell_type": "code",
      "metadata": {
        "id": "w4___Ep9qw2h",
        "colab_type": "code",
        "outputId": "65c456a3-2ca8-489a-f0d3-2836bca58e70",
        "colab": {
          "base_uri": "https://localhost:8080/",
          "height": 85
        }
      },
      "source": [
        "vehicles.isnull().sum()"
      ],
      "execution_count": 0,
      "outputs": [
        {
          "output_type": "execute_result",
          "data": {
            "text/plain": [
              "Vehicle Model               0\n",
              "License Plate Number     2058\n",
              "Fuel Type               15627\n",
              "dtype: int64"
            ]
          },
          "metadata": {
            "tags": []
          },
          "execution_count": 133
        }
      ]
    },
    {
      "cell_type": "code",
      "metadata": {
        "id": "AV3T2ddjq4dO",
        "colab_type": "code",
        "outputId": "c55c8a4b-3ac0-422c-9ee3-55fbc8efc6b7",
        "colab": {
          "base_uri": "https://localhost:8080/",
          "height": 85
        }
      },
      "source": [
        "vehicles.dtypes"
      ],
      "execution_count": 0,
      "outputs": [
        {
          "output_type": "execute_result",
          "data": {
            "text/plain": [
              "Vehicle Model           object\n",
              "License Plate Number    object\n",
              "Fuel Type               object\n",
              "dtype: object"
            ]
          },
          "metadata": {
            "tags": []
          },
          "execution_count": 134
        }
      ]
    },
    {
      "cell_type": "markdown",
      "metadata": {
        "id": "cdjfWR-rrN5s",
        "colab_type": "text"
      },
      "source": [
        "***`Remove vehicles which doesn't have License Plate Number`***"
      ]
    },
    {
      "cell_type": "code",
      "metadata": {
        "id": "CdymoOowpzRB",
        "colab_type": "code",
        "colab": {}
      },
      "source": [
        "vehicles.dropna(subset=['License Plate Number'], inplace=True)"
      ],
      "execution_count": 0,
      "outputs": []
    },
    {
      "cell_type": "code",
      "metadata": {
        "id": "c7_Y8xRIrLKd",
        "colab_type": "code",
        "outputId": "1b78b8e6-d73f-4cb8-edcd-438b7844da5d",
        "colab": {
          "base_uri": "https://localhost:8080/",
          "height": 34
        }
      },
      "source": [
        "vehicles.shape"
      ],
      "execution_count": 0,
      "outputs": [
        {
          "output_type": "execute_result",
          "data": {
            "text/plain": [
              "(586703, 3)"
            ]
          },
          "metadata": {
            "tags": []
          },
          "execution_count": 136
        }
      ]
    },
    {
      "cell_type": "code",
      "metadata": {
        "id": "yIenhMf5raGy",
        "colab_type": "code",
        "colab": {}
      },
      "source": [
        "vehicles['Fuel Type'] = vehicles['Fuel Type'].fillna(vehicles['Fuel Type'].mode()[0])"
      ],
      "execution_count": 0,
      "outputs": []
    },
    {
      "cell_type": "code",
      "metadata": {
        "id": "CePgWMv-r5JV",
        "colab_type": "code",
        "outputId": "31761327-3d2b-471d-fe6a-9bf53366e909",
        "colab": {
          "base_uri": "https://localhost:8080/",
          "height": 85
        }
      },
      "source": [
        "vehicles.isnull().sum()"
      ],
      "execution_count": 0,
      "outputs": [
        {
          "output_type": "execute_result",
          "data": {
            "text/plain": [
              "Vehicle Model           0\n",
              "License Plate Number    0\n",
              "Fuel Type               0\n",
              "dtype: int64"
            ]
          },
          "metadata": {
            "tags": []
          },
          "execution_count": 138
        }
      ]
    },
    {
      "cell_type": "markdown",
      "metadata": {
        "id": "-gDSUTYQr-83",
        "colab_type": "text"
      },
      "source": [
        "## Load Invoice Data\n",
        "Handle missing, duplicate data"
      ]
    },
    {
      "cell_type": "code",
      "metadata": {
        "id": "V-e3x0M7si2Y",
        "colab_type": "code",
        "outputId": "5c60d592-7188-43b7-bf6e-81dd7ffb4e48",
        "colab": {
          "base_uri": "https://localhost:8080/",
          "height": 71
        }
      },
      "source": [
        "invoice_full_data = pd.read_csv('/content/drive/My Drive/Colab Notebooks/data/final_csv/invoice.csv',index_col=0)"
      ],
      "execution_count": 0,
      "outputs": [
        {
          "output_type": "stream",
          "text": [
            "/usr/local/lib/python3.6/dist-packages/IPython/core/interactiveshell.py:2718: DtypeWarning: Columns (9,10,14,15,21,41,51) have mixed types. Specify dtype option on import or set low_memory=False.\n",
            "  interactivity=interactivity, compiler=compiler, result=result)\n"
          ],
          "name": "stderr"
        }
      ]
    },
    {
      "cell_type": "code",
      "metadata": {
        "id": "EHceLpPfss7g",
        "colab_type": "code",
        "outputId": "6ef40cbb-3906-447e-de34-96127a95f411",
        "colab": {
          "base_uri": "https://localhost:8080/",
          "height": 428
        }
      },
      "source": [
        "invoice_full_data.head()"
      ],
      "execution_count": 0,
      "outputs": [
        {
          "output_type": "execute_result",
          "data": {
            "text/html": [
              "<div>\n",
              "<style scoped>\n",
              "    .dataframe tbody tr th:only-of-type {\n",
              "        vertical-align: middle;\n",
              "    }\n",
              "\n",
              "    .dataframe tbody tr th {\n",
              "        vertical-align: top;\n",
              "    }\n",
              "\n",
              "    .dataframe thead th {\n",
              "        text-align: right;\n",
              "    }\n",
              "</style>\n",
              "<table border=\"1\" class=\"dataframe\">\n",
              "  <thead>\n",
              "    <tr style=\"text-align: right;\">\n",
              "      <th></th>\n",
              "      <th>Amt Rcvd From Custom</th>\n",
              "      <th>Amt Rcvd From Ins Co</th>\n",
              "      <th>Area / Locality</th>\n",
              "      <th>CGST(14%)</th>\n",
              "      <th>CGST(2.5%)</th>\n",
              "      <th>CGST(6%)</th>\n",
              "      <th>CGST(9%)</th>\n",
              "      <th>CITY</th>\n",
              "      <th>Cash /Cashless Type</th>\n",
              "      <th>Claim No.</th>\n",
              "      <th>Cust Type</th>\n",
              "      <th>Customer No.</th>\n",
              "      <th>District</th>\n",
              "      <th>Expiry Date</th>\n",
              "      <th>Gate Pass Date</th>\n",
              "      <th>Gate Pass Time</th>\n",
              "      <th>IGST(12%)</th>\n",
              "      <th>IGST(18%)</th>\n",
              "      <th>IGST(28%)</th>\n",
              "      <th>IGST(5%)</th>\n",
              "      <th>Insurance Company</th>\n",
              "      <th>Invoice Date</th>\n",
              "      <th>Invoice No</th>\n",
              "      <th>Invoice Time</th>\n",
              "      <th>Job Card No</th>\n",
              "      <th>JobCard Date</th>\n",
              "      <th>JobCard Time</th>\n",
              "      <th>KMs Reading</th>\n",
              "      <th>Labour Total</th>\n",
              "      <th>Make</th>\n",
              "      <th>Misc Total</th>\n",
              "      <th>Model</th>\n",
              "      <th>ODN No.</th>\n",
              "      <th>OSL Total</th>\n",
              "      <th>Order Type</th>\n",
              "      <th>Outstanding Amt</th>\n",
              "      <th>Parts Total</th>\n",
              "      <th>Pin code</th>\n",
              "      <th>Plant</th>\n",
              "      <th>Plant Name1</th>\n",
              "      <th>Policy no.</th>\n",
              "      <th>Print Status</th>\n",
              "      <th>Recovrbl Exp</th>\n",
              "      <th>Regn No</th>\n",
              "      <th>SGST/UGST(14%)</th>\n",
              "      <th>SGST/UGST(2.5%)</th>\n",
              "      <th>SGST/UGST(6%)</th>\n",
              "      <th>SGST/UGST(9%)</th>\n",
              "      <th>Service Advisor Name</th>\n",
              "      <th>TDS amount</th>\n",
              "      <th>Technician Name</th>\n",
              "      <th>Total Amt Wtd Tax.</th>\n",
              "      <th>Total CGST</th>\n",
              "      <th>Total GST</th>\n",
              "      <th>Total IGST</th>\n",
              "      <th>Total SGST/UGST</th>\n",
              "      <th>Total Value</th>\n",
              "      <th>User ID</th>\n",
              "    </tr>\n",
              "  </thead>\n",
              "  <tbody>\n",
              "    <tr>\n",
              "      <th>0</th>\n",
              "      <td>0.0</td>\n",
              "      <td>0.0</td>\n",
              "      <td>NaN</td>\n",
              "      <td>0.0</td>\n",
              "      <td>0.0</td>\n",
              "      <td>0.0</td>\n",
              "      <td>0.0</td>\n",
              "      <td>Nashik</td>\n",
              "      <td>NaN</td>\n",
              "      <td>NaN</td>\n",
              "      <td>Retail</td>\n",
              "      <td>E14006</td>\n",
              "      <td>Maharashtra</td>\n",
              "      <td>NaN</td>\n",
              "      <td>NaN</td>\n",
              "      <td>00:00:00</td>\n",
              "      <td>0.0</td>\n",
              "      <td>0.0</td>\n",
              "      <td>0.0</td>\n",
              "      <td>0.0</td>\n",
              "      <td>NaN</td>\n",
              "      <td>2012-04-02</td>\n",
              "      <td>7000000011</td>\n",
              "      <td>17:04:33</td>\n",
              "      <td>101</td>\n",
              "      <td>2012-04-02</td>\n",
              "      <td>15:15:31</td>\n",
              "      <td>80440</td>\n",
              "      <td>420.09</td>\n",
              "      <td>HYUNDAI</td>\n",
              "      <td>0.0</td>\n",
              "      <td>SANTRO</td>\n",
              "      <td>7.000000e+09</td>\n",
              "      <td>0.00</td>\n",
              "      <td>Running Repairs</td>\n",
              "      <td>0.0</td>\n",
              "      <td>0.00</td>\n",
              "      <td>422000</td>\n",
              "      <td>BC03</td>\n",
              "      <td>NASHIK</td>\n",
              "      <td>NaN</td>\n",
              "      <td>NO</td>\n",
              "      <td>0.0</td>\n",
              "      <td>MH15BN2714</td>\n",
              "      <td>0.0</td>\n",
              "      <td>0.0</td>\n",
              "      <td>0.0</td>\n",
              "      <td>0.0</td>\n",
              "      <td>NaN</td>\n",
              "      <td>0.0</td>\n",
              "      <td>NaN</td>\n",
              "      <td>420.09</td>\n",
              "      <td>0.0</td>\n",
              "      <td>0.0</td>\n",
              "      <td>0.0</td>\n",
              "      <td>0.0</td>\n",
              "      <td>420.09</td>\n",
              "      <td>GOLIVE</td>\n",
              "    </tr>\n",
              "    <tr>\n",
              "      <th>1</th>\n",
              "      <td>0.0</td>\n",
              "      <td>0.0</td>\n",
              "      <td>NaN</td>\n",
              "      <td>0.0</td>\n",
              "      <td>0.0</td>\n",
              "      <td>0.0</td>\n",
              "      <td>0.0</td>\n",
              "      <td>THANE</td>\n",
              "      <td>NaN</td>\n",
              "      <td>NaN</td>\n",
              "      <td>Retail</td>\n",
              "      <td>0000000017</td>\n",
              "      <td>Maharashtra</td>\n",
              "      <td>NaN</td>\n",
              "      <td>NaN</td>\n",
              "      <td>00:00:00</td>\n",
              "      <td>0.0</td>\n",
              "      <td>0.0</td>\n",
              "      <td>0.0</td>\n",
              "      <td>0.0</td>\n",
              "      <td>NaN</td>\n",
              "      <td>2012-04-02</td>\n",
              "      <td>7000000014</td>\n",
              "      <td>17:26:52</td>\n",
              "      <td>105</td>\n",
              "      <td>2012-04-02</td>\n",
              "      <td>16:13:11</td>\n",
              "      <td>98474</td>\n",
              "      <td>179.75</td>\n",
              "      <td>MAHINDRA &amp;  MAHINDRA</td>\n",
              "      <td>0.0</td>\n",
              "      <td>LOGAN P</td>\n",
              "      <td>7.000000e+09</td>\n",
              "      <td>0.00</td>\n",
              "      <td>Running Repairs</td>\n",
              "      <td>0.0</td>\n",
              "      <td>0.00</td>\n",
              "      <td>401107</td>\n",
              "      <td>BC01</td>\n",
              "      <td>THANE</td>\n",
              "      <td>NaN</td>\n",
              "      <td>NO</td>\n",
              "      <td>0.0</td>\n",
              "      <td>MH04DN6210</td>\n",
              "      <td>0.0</td>\n",
              "      <td>0.0</td>\n",
              "      <td>0.0</td>\n",
              "      <td>0.0</td>\n",
              "      <td>NaN</td>\n",
              "      <td>0.0</td>\n",
              "      <td>NaN</td>\n",
              "      <td>179.75</td>\n",
              "      <td>0.0</td>\n",
              "      <td>0.0</td>\n",
              "      <td>0.0</td>\n",
              "      <td>0.0</td>\n",
              "      <td>179.75</td>\n",
              "      <td>GOLIVE</td>\n",
              "    </tr>\n",
              "    <tr>\n",
              "      <th>2</th>\n",
              "      <td>0.0</td>\n",
              "      <td>0.0</td>\n",
              "      <td>NaN</td>\n",
              "      <td>0.0</td>\n",
              "      <td>0.0</td>\n",
              "      <td>0.0</td>\n",
              "      <td>0.0</td>\n",
              "      <td>Hyderabad</td>\n",
              "      <td>NaN</td>\n",
              "      <td>NaN</td>\n",
              "      <td>Retail</td>\n",
              "      <td>0000000007</td>\n",
              "      <td>Andhra Pradesh</td>\n",
              "      <td>NaN</td>\n",
              "      <td>NaN</td>\n",
              "      <td>00:00:00</td>\n",
              "      <td>0.0</td>\n",
              "      <td>0.0</td>\n",
              "      <td>0.0</td>\n",
              "      <td>0.0</td>\n",
              "      <td>NaN</td>\n",
              "      <td>2012-04-02</td>\n",
              "      <td>7000000016</td>\n",
              "      <td>17:44:03</td>\n",
              "      <td>6</td>\n",
              "      <td>2012-04-02</td>\n",
              "      <td>12:47:59</td>\n",
              "      <td>137832</td>\n",
              "      <td>1340.37</td>\n",
              "      <td>MAHINDRA &amp;  MAHINDRA</td>\n",
              "      <td>0.0</td>\n",
              "      <td>SCORPIO CRDE</td>\n",
              "      <td>7.000000e+09</td>\n",
              "      <td>0.00</td>\n",
              "      <td>Paid Service</td>\n",
              "      <td>0.0</td>\n",
              "      <td>0.00</td>\n",
              "      <td>500038</td>\n",
              "      <td>BC04</td>\n",
              "      <td>BALANAGAR</td>\n",
              "      <td>NaN</td>\n",
              "      <td>NO</td>\n",
              "      <td>0.0</td>\n",
              "      <td>AP11AB0153</td>\n",
              "      <td>0.0</td>\n",
              "      <td>0.0</td>\n",
              "      <td>0.0</td>\n",
              "      <td>0.0</td>\n",
              "      <td>NaN</td>\n",
              "      <td>0.0</td>\n",
              "      <td>NaN</td>\n",
              "      <td>1340.37</td>\n",
              "      <td>0.0</td>\n",
              "      <td>0.0</td>\n",
              "      <td>0.0</td>\n",
              "      <td>0.0</td>\n",
              "      <td>1340.37</td>\n",
              "      <td>GOLIVE</td>\n",
              "    </tr>\n",
              "    <tr>\n",
              "      <th>3</th>\n",
              "      <td>0.0</td>\n",
              "      <td>0.0</td>\n",
              "      <td>NaN</td>\n",
              "      <td>0.0</td>\n",
              "      <td>0.0</td>\n",
              "      <td>0.0</td>\n",
              "      <td>0.0</td>\n",
              "      <td>Hyderabad</td>\n",
              "      <td>NaN</td>\n",
              "      <td>NaN</td>\n",
              "      <td>Retail</td>\n",
              "      <td>E22364</td>\n",
              "      <td>Andhra Pradesh</td>\n",
              "      <td>NaN</td>\n",
              "      <td>NaN</td>\n",
              "      <td>00:00:00</td>\n",
              "      <td>0.0</td>\n",
              "      <td>0.0</td>\n",
              "      <td>0.0</td>\n",
              "      <td>0.0</td>\n",
              "      <td>NaN</td>\n",
              "      <td>2012-04-02</td>\n",
              "      <td>7000000026</td>\n",
              "      <td>20:04:51</td>\n",
              "      <td>24</td>\n",
              "      <td>2012-04-01</td>\n",
              "      <td>16:19:32</td>\n",
              "      <td>75627</td>\n",
              "      <td>1709.06</td>\n",
              "      <td>MAHINDRA &amp;  MAHINDRA</td>\n",
              "      <td>0.0</td>\n",
              "      <td>SCORPIO CRDE</td>\n",
              "      <td>7.000000e+09</td>\n",
              "      <td>480.02</td>\n",
              "      <td>Paid Service</td>\n",
              "      <td>0.0</td>\n",
              "      <td>3317.37</td>\n",
              "      <td>500023</td>\n",
              "      <td>BC04</td>\n",
              "      <td>BALANAGAR</td>\n",
              "      <td>NaN</td>\n",
              "      <td>NO</td>\n",
              "      <td>0.0</td>\n",
              "      <td>AP9BJ4847</td>\n",
              "      <td>0.0</td>\n",
              "      <td>0.0</td>\n",
              "      <td>0.0</td>\n",
              "      <td>0.0</td>\n",
              "      <td>NaN</td>\n",
              "      <td>0.0</td>\n",
              "      <td>4302339</td>\n",
              "      <td>5506.45</td>\n",
              "      <td>0.0</td>\n",
              "      <td>0.0</td>\n",
              "      <td>0.0</td>\n",
              "      <td>0.0</td>\n",
              "      <td>5506.45</td>\n",
              "      <td>GOLIVE</td>\n",
              "    </tr>\n",
              "    <tr>\n",
              "      <th>4</th>\n",
              "      <td>0.0</td>\n",
              "      <td>0.0</td>\n",
              "      <td>NaN</td>\n",
              "      <td>0.0</td>\n",
              "      <td>0.0</td>\n",
              "      <td>0.0</td>\n",
              "      <td>0.0</td>\n",
              "      <td>Hyderabad</td>\n",
              "      <td>NaN</td>\n",
              "      <td>NaN</td>\n",
              "      <td>Retail</td>\n",
              "      <td>E25218</td>\n",
              "      <td>Andhra Pradesh</td>\n",
              "      <td>NaN</td>\n",
              "      <td>NaN</td>\n",
              "      <td>00:00:00</td>\n",
              "      <td>0.0</td>\n",
              "      <td>0.0</td>\n",
              "      <td>0.0</td>\n",
              "      <td>0.0</td>\n",
              "      <td>NaN</td>\n",
              "      <td>2012-04-02</td>\n",
              "      <td>7000000027</td>\n",
              "      <td>20:24:21</td>\n",
              "      <td>23</td>\n",
              "      <td>2012-04-01</td>\n",
              "      <td>16:19:32</td>\n",
              "      <td>1</td>\n",
              "      <td>2074.88</td>\n",
              "      <td>TATA MOTORS</td>\n",
              "      <td>0.0</td>\n",
              "      <td>INDICA</td>\n",
              "      <td>7.000000e+09</td>\n",
              "      <td>0.00</td>\n",
              "      <td>Accidental</td>\n",
              "      <td>0.0</td>\n",
              "      <td>3105.67</td>\n",
              "      <td>500045</td>\n",
              "      <td>BC04</td>\n",
              "      <td>BALANAGAR</td>\n",
              "      <td>NaN</td>\n",
              "      <td>NO</td>\n",
              "      <td>0.0</td>\n",
              "      <td>AP29BB4586</td>\n",
              "      <td>0.0</td>\n",
              "      <td>0.0</td>\n",
              "      <td>0.0</td>\n",
              "      <td>0.0</td>\n",
              "      <td>NaN</td>\n",
              "      <td>0.0</td>\n",
              "      <td>4302337</td>\n",
              "      <td>5180.55</td>\n",
              "      <td>0.0</td>\n",
              "      <td>0.0</td>\n",
              "      <td>0.0</td>\n",
              "      <td>0.0</td>\n",
              "      <td>5180.55</td>\n",
              "      <td>GOLIVE</td>\n",
              "    </tr>\n",
              "  </tbody>\n",
              "</table>\n",
              "</div>"
            ],
            "text/plain": [
              "   Amt Rcvd From Custom  Amt Rcvd From Ins Co  ... Total Value  User ID\n",
              "0                   0.0                   0.0  ...      420.09   GOLIVE\n",
              "1                   0.0                   0.0  ...      179.75   GOLIVE\n",
              "2                   0.0                   0.0  ...     1340.37   GOLIVE\n",
              "3                   0.0                   0.0  ...     5506.45   GOLIVE\n",
              "4                   0.0                   0.0  ...     5180.55   GOLIVE\n",
              "\n",
              "[5 rows x 58 columns]"
            ]
          },
          "metadata": {
            "tags": []
          },
          "execution_count": 140
        }
      ]
    },
    {
      "cell_type": "code",
      "metadata": {
        "id": "vEJjDsZOsWvd",
        "colab_type": "code",
        "outputId": "2b4470b7-a795-4844-c0b2-8d1511aed71f",
        "colab": {
          "base_uri": "https://localhost:8080/",
          "height": 34
        }
      },
      "source": [
        "invoice_full_data.shape"
      ],
      "execution_count": 0,
      "outputs": [
        {
          "output_type": "execute_result",
          "data": {
            "text/plain": [
              "(984741, 58)"
            ]
          },
          "metadata": {
            "tags": []
          },
          "execution_count": 141
        }
      ]
    },
    {
      "cell_type": "code",
      "metadata": {
        "id": "pleDGsx33iCc",
        "colab_type": "code",
        "outputId": "6f861346-6cb9-4687-f605-b50e6057359b",
        "colab": {
          "base_uri": "https://localhost:8080/",
          "height": 459
        }
      },
      "source": [
        "invoice_full_data[invoice_full_data['Customer No.']=='E14006']"
      ],
      "execution_count": 0,
      "outputs": [
        {
          "output_type": "execute_result",
          "data": {
            "text/html": [
              "<div>\n",
              "<style scoped>\n",
              "    .dataframe tbody tr th:only-of-type {\n",
              "        vertical-align: middle;\n",
              "    }\n",
              "\n",
              "    .dataframe tbody tr th {\n",
              "        vertical-align: top;\n",
              "    }\n",
              "\n",
              "    .dataframe thead th {\n",
              "        text-align: right;\n",
              "    }\n",
              "</style>\n",
              "<table border=\"1\" class=\"dataframe\">\n",
              "  <thead>\n",
              "    <tr style=\"text-align: right;\">\n",
              "      <th></th>\n",
              "      <th>Amt Rcvd From Custom</th>\n",
              "      <th>Amt Rcvd From Ins Co</th>\n",
              "      <th>Area / Locality</th>\n",
              "      <th>CGST(14%)</th>\n",
              "      <th>CGST(2.5%)</th>\n",
              "      <th>CGST(6%)</th>\n",
              "      <th>CGST(9%)</th>\n",
              "      <th>CITY</th>\n",
              "      <th>Cash /Cashless Type</th>\n",
              "      <th>Claim No.</th>\n",
              "      <th>Cust Type</th>\n",
              "      <th>Customer No.</th>\n",
              "      <th>District</th>\n",
              "      <th>Expiry Date</th>\n",
              "      <th>Gate Pass Date</th>\n",
              "      <th>Gate Pass Time</th>\n",
              "      <th>IGST(12%)</th>\n",
              "      <th>IGST(18%)</th>\n",
              "      <th>IGST(28%)</th>\n",
              "      <th>IGST(5%)</th>\n",
              "      <th>Insurance Company</th>\n",
              "      <th>Invoice Date</th>\n",
              "      <th>Invoice No</th>\n",
              "      <th>Invoice Time</th>\n",
              "      <th>Job Card No</th>\n",
              "      <th>JobCard Date</th>\n",
              "      <th>JobCard Time</th>\n",
              "      <th>KMs Reading</th>\n",
              "      <th>Labour Total</th>\n",
              "      <th>Make</th>\n",
              "      <th>Misc Total</th>\n",
              "      <th>Model</th>\n",
              "      <th>ODN No.</th>\n",
              "      <th>OSL Total</th>\n",
              "      <th>Order Type</th>\n",
              "      <th>Outstanding Amt</th>\n",
              "      <th>Parts Total</th>\n",
              "      <th>Pin code</th>\n",
              "      <th>Plant</th>\n",
              "      <th>Plant Name1</th>\n",
              "      <th>Policy no.</th>\n",
              "      <th>Print Status</th>\n",
              "      <th>Recovrbl Exp</th>\n",
              "      <th>Regn No</th>\n",
              "      <th>SGST/UGST(14%)</th>\n",
              "      <th>SGST/UGST(2.5%)</th>\n",
              "      <th>SGST/UGST(6%)</th>\n",
              "      <th>SGST/UGST(9%)</th>\n",
              "      <th>Service Advisor Name</th>\n",
              "      <th>TDS amount</th>\n",
              "      <th>Technician Name</th>\n",
              "      <th>Total Amt Wtd Tax.</th>\n",
              "      <th>Total CGST</th>\n",
              "      <th>Total GST</th>\n",
              "      <th>Total IGST</th>\n",
              "      <th>Total SGST/UGST</th>\n",
              "      <th>Total Value</th>\n",
              "      <th>User ID</th>\n",
              "    </tr>\n",
              "  </thead>\n",
              "  <tbody>\n",
              "    <tr>\n",
              "      <th>0</th>\n",
              "      <td>0.0</td>\n",
              "      <td>0.0</td>\n",
              "      <td>NaN</td>\n",
              "      <td>0.0</td>\n",
              "      <td>0.0</td>\n",
              "      <td>0.0</td>\n",
              "      <td>0.0</td>\n",
              "      <td>Nashik</td>\n",
              "      <td>NaN</td>\n",
              "      <td>NaN</td>\n",
              "      <td>Retail</td>\n",
              "      <td>E14006</td>\n",
              "      <td>Maharashtra</td>\n",
              "      <td>NaN</td>\n",
              "      <td>NaN</td>\n",
              "      <td>00:00:00</td>\n",
              "      <td>0.0</td>\n",
              "      <td>0.0</td>\n",
              "      <td>0.0</td>\n",
              "      <td>0.0</td>\n",
              "      <td>NaN</td>\n",
              "      <td>2012-04-02</td>\n",
              "      <td>7000000011</td>\n",
              "      <td>17:04:33</td>\n",
              "      <td>101</td>\n",
              "      <td>2012-04-02</td>\n",
              "      <td>15:15:31</td>\n",
              "      <td>80440</td>\n",
              "      <td>420.09</td>\n",
              "      <td>HYUNDAI</td>\n",
              "      <td>0.0</td>\n",
              "      <td>SANTRO</td>\n",
              "      <td>7.000000e+09</td>\n",
              "      <td>0.0</td>\n",
              "      <td>Running Repairs</td>\n",
              "      <td>0.0</td>\n",
              "      <td>0.00</td>\n",
              "      <td>422000</td>\n",
              "      <td>BC03</td>\n",
              "      <td>NASHIK</td>\n",
              "      <td>NaN</td>\n",
              "      <td>NO</td>\n",
              "      <td>0.0</td>\n",
              "      <td>MH15BN2714</td>\n",
              "      <td>0.0</td>\n",
              "      <td>0.0</td>\n",
              "      <td>0.0</td>\n",
              "      <td>0.0</td>\n",
              "      <td>NaN</td>\n",
              "      <td>0.0</td>\n",
              "      <td>NaN</td>\n",
              "      <td>420.09</td>\n",
              "      <td>0.0</td>\n",
              "      <td>0.0</td>\n",
              "      <td>0.0</td>\n",
              "      <td>0.0</td>\n",
              "      <td>420.09</td>\n",
              "      <td>GOLIVE</td>\n",
              "    </tr>\n",
              "    <tr>\n",
              "      <th>16267</th>\n",
              "      <td>0.0</td>\n",
              "      <td>0.0</td>\n",
              "      <td>NaN</td>\n",
              "      <td>0.0</td>\n",
              "      <td>0.0</td>\n",
              "      <td>0.0</td>\n",
              "      <td>0.0</td>\n",
              "      <td>Nashik</td>\n",
              "      <td>NaN</td>\n",
              "      <td>NaN</td>\n",
              "      <td>Retail</td>\n",
              "      <td>E14006</td>\n",
              "      <td>Maharashtra</td>\n",
              "      <td>NaN</td>\n",
              "      <td>NaN</td>\n",
              "      <td>00:00:00</td>\n",
              "      <td>0.0</td>\n",
              "      <td>0.0</td>\n",
              "      <td>0.0</td>\n",
              "      <td>0.0</td>\n",
              "      <td>NaN</td>\n",
              "      <td>2012-12-05</td>\n",
              "      <td>7000016665</td>\n",
              "      <td>17:53:56</td>\n",
              "      <td>16545</td>\n",
              "      <td>2012-12-05</td>\n",
              "      <td>10:45:16</td>\n",
              "      <td>89165</td>\n",
              "      <td>779.09</td>\n",
              "      <td>HYUNDAI</td>\n",
              "      <td>0.0</td>\n",
              "      <td>SANTRO</td>\n",
              "      <td>7.000017e+09</td>\n",
              "      <td>0.0</td>\n",
              "      <td>Paid Service</td>\n",
              "      <td>0.0</td>\n",
              "      <td>858.34</td>\n",
              "      <td>422000</td>\n",
              "      <td>BC03</td>\n",
              "      <td>NASHIK</td>\n",
              "      <td>NaN</td>\n",
              "      <td>NO</td>\n",
              "      <td>0.0</td>\n",
              "      <td>MH15BN2714</td>\n",
              "      <td>0.0</td>\n",
              "      <td>0.0</td>\n",
              "      <td>0.0</td>\n",
              "      <td>0.0</td>\n",
              "      <td>NaN</td>\n",
              "      <td>0.0</td>\n",
              "      <td>NaN</td>\n",
              "      <td>1637.43</td>\n",
              "      <td>0.0</td>\n",
              "      <td>0.0</td>\n",
              "      <td>0.0</td>\n",
              "      <td>0.0</td>\n",
              "      <td>1637.43</td>\n",
              "      <td>BC03SA3</td>\n",
              "    </tr>\n",
              "    <tr>\n",
              "      <th>109394</th>\n",
              "      <td>NaN</td>\n",
              "      <td>NaN</td>\n",
              "      <td>NaN</td>\n",
              "      <td>NaN</td>\n",
              "      <td>NaN</td>\n",
              "      <td>NaN</td>\n",
              "      <td>NaN</td>\n",
              "      <td>Nashik</td>\n",
              "      <td>NaN</td>\n",
              "      <td>NaN</td>\n",
              "      <td>Retail</td>\n",
              "      <td>E14006</td>\n",
              "      <td>Maharashtra</td>\n",
              "      <td>NaN</td>\n",
              "      <td>NaN</td>\n",
              "      <td>00:00:00</td>\n",
              "      <td>NaN</td>\n",
              "      <td>NaN</td>\n",
              "      <td>NaN</td>\n",
              "      <td>NaN</td>\n",
              "      <td>NaN</td>\n",
              "      <td>2017-04-14</td>\n",
              "      <td>7164601412</td>\n",
              "      <td>15:29:52</td>\n",
              "      <td>674656</td>\n",
              "      <td>2017-04-13</td>\n",
              "      <td>17:09:17</td>\n",
              "      <td>35165</td>\n",
              "      <td>579.13</td>\n",
              "      <td>HONDA</td>\n",
              "      <td>0.0</td>\n",
              "      <td>CITY</td>\n",
              "      <td>NaN</td>\n",
              "      <td>0.0</td>\n",
              "      <td>Paid Service</td>\n",
              "      <td>NaN</td>\n",
              "      <td>40.54</td>\n",
              "      <td>422000</td>\n",
              "      <td>X073</td>\n",
              "      <td>X073- KRITI AUTOMOBILE REPAIR</td>\n",
              "      <td>NaN</td>\n",
              "      <td>NO</td>\n",
              "      <td>0.0</td>\n",
              "      <td>MH15EB5067</td>\n",
              "      <td>NaN</td>\n",
              "      <td>NaN</td>\n",
              "      <td>NaN</td>\n",
              "      <td>NaN</td>\n",
              "      <td>NaN</td>\n",
              "      <td>NaN</td>\n",
              "      <td>NaN</td>\n",
              "      <td>619.67</td>\n",
              "      <td>NaN</td>\n",
              "      <td>NaN</td>\n",
              "      <td>NaN</td>\n",
              "      <td>NaN</td>\n",
              "      <td>NaN</td>\n",
              "      <td>X073SA1</td>\n",
              "    </tr>\n",
              "    <tr>\n",
              "      <th>422583</th>\n",
              "      <td>NaN</td>\n",
              "      <td>NaN</td>\n",
              "      <td>NaN</td>\n",
              "      <td>NaN</td>\n",
              "      <td>NaN</td>\n",
              "      <td>NaN</td>\n",
              "      <td>NaN</td>\n",
              "      <td>Nashik</td>\n",
              "      <td>NaN</td>\n",
              "      <td>NaN</td>\n",
              "      <td>Retail</td>\n",
              "      <td>E14006</td>\n",
              "      <td>Maharashtra</td>\n",
              "      <td>NaN</td>\n",
              "      <td>NaN</td>\n",
              "      <td>00:00:00</td>\n",
              "      <td>NaN</td>\n",
              "      <td>NaN</td>\n",
              "      <td>NaN</td>\n",
              "      <td>NaN</td>\n",
              "      <td>NaN</td>\n",
              "      <td>2017-07-26</td>\n",
              "      <td>7164602068</td>\n",
              "      <td>12:07:36</td>\n",
              "      <td>809011</td>\n",
              "      <td>2017-07-26</td>\n",
              "      <td>11:01:16</td>\n",
              "      <td>36165</td>\n",
              "      <td>3.46</td>\n",
              "      <td>HONDA</td>\n",
              "      <td>0.0</td>\n",
              "      <td>CITY</td>\n",
              "      <td>NaN</td>\n",
              "      <td>0.0</td>\n",
              "      <td>Running Repairs</td>\n",
              "      <td>NaN</td>\n",
              "      <td>0.00</td>\n",
              "      <td>422000</td>\n",
              "      <td>X073</td>\n",
              "      <td>X073- KRITI AUTOMOBILE REPAIR</td>\n",
              "      <td>NaN</td>\n",
              "      <td>NO</td>\n",
              "      <td>0.0</td>\n",
              "      <td>MH15EB5067</td>\n",
              "      <td>NaN</td>\n",
              "      <td>NaN</td>\n",
              "      <td>NaN</td>\n",
              "      <td>NaN</td>\n",
              "      <td>NaN</td>\n",
              "      <td>NaN</td>\n",
              "      <td>NaN</td>\n",
              "      <td>3.46</td>\n",
              "      <td>NaN</td>\n",
              "      <td>NaN</td>\n",
              "      <td>NaN</td>\n",
              "      <td>NaN</td>\n",
              "      <td>NaN</td>\n",
              "      <td>X073SA1</td>\n",
              "    </tr>\n",
              "    <tr>\n",
              "      <th>36482</th>\n",
              "      <td>0.0</td>\n",
              "      <td>0.0</td>\n",
              "      <td>NaN</td>\n",
              "      <td>0.0</td>\n",
              "      <td>0.0</td>\n",
              "      <td>0.0</td>\n",
              "      <td>0.0</td>\n",
              "      <td>Nashik</td>\n",
              "      <td>NaN</td>\n",
              "      <td>NaN</td>\n",
              "      <td>Retail</td>\n",
              "      <td>E14006</td>\n",
              "      <td>Maharashtra</td>\n",
              "      <td>NaN</td>\n",
              "      <td>NaN</td>\n",
              "      <td>00:00:00</td>\n",
              "      <td>0.0</td>\n",
              "      <td>0.0</td>\n",
              "      <td>0.0</td>\n",
              "      <td>0.0</td>\n",
              "      <td>NaN</td>\n",
              "      <td>2014-05-13</td>\n",
              "      <td>7000113010</td>\n",
              "      <td>10:18:16</td>\n",
              "      <td>113877</td>\n",
              "      <td>2014-05-12</td>\n",
              "      <td>10:09:53</td>\n",
              "      <td>104111</td>\n",
              "      <td>1539.84</td>\n",
              "      <td>HYUNDAI</td>\n",
              "      <td>0.0</td>\n",
              "      <td>SANTRO</td>\n",
              "      <td>7.000113e+09</td>\n",
              "      <td>0.0</td>\n",
              "      <td>Paid Service</td>\n",
              "      <td>0.0</td>\n",
              "      <td>1685.14</td>\n",
              "      <td>422000</td>\n",
              "      <td>BC03</td>\n",
              "      <td>NASHIK</td>\n",
              "      <td>NaN</td>\n",
              "      <td>NO</td>\n",
              "      <td>0.0</td>\n",
              "      <td>MH15BN2714</td>\n",
              "      <td>0.0</td>\n",
              "      <td>0.0</td>\n",
              "      <td>0.0</td>\n",
              "      <td>0.0</td>\n",
              "      <td>NaN</td>\n",
              "      <td>0.0</td>\n",
              "      <td>VILAS</td>\n",
              "      <td>3224.98</td>\n",
              "      <td>0.0</td>\n",
              "      <td>0.0</td>\n",
              "      <td>0.0</td>\n",
              "      <td>0.0</td>\n",
              "      <td>3224.98</td>\n",
              "      <td>BC03SA2</td>\n",
              "    </tr>\n",
              "    <tr>\n",
              "      <th>24089</th>\n",
              "      <td>0.0</td>\n",
              "      <td>0.0</td>\n",
              "      <td>NaN</td>\n",
              "      <td>0.0</td>\n",
              "      <td>0.0</td>\n",
              "      <td>0.0</td>\n",
              "      <td>0.0</td>\n",
              "      <td>Nashik</td>\n",
              "      <td>NaN</td>\n",
              "      <td>NaN</td>\n",
              "      <td>Retail</td>\n",
              "      <td>E14006</td>\n",
              "      <td>Maharashtra</td>\n",
              "      <td>NaN</td>\n",
              "      <td>NaN</td>\n",
              "      <td>00:00:00</td>\n",
              "      <td>0.0</td>\n",
              "      <td>0.0</td>\n",
              "      <td>0.0</td>\n",
              "      <td>0.0</td>\n",
              "      <td>NaN</td>\n",
              "      <td>2013-07-31</td>\n",
              "      <td>7000043586</td>\n",
              "      <td>17:27:04</td>\n",
              "      <td>43294</td>\n",
              "      <td>2013-07-30</td>\n",
              "      <td>10:38:55</td>\n",
              "      <td>99320</td>\n",
              "      <td>463.05</td>\n",
              "      <td>HYUNDAI</td>\n",
              "      <td>0.0</td>\n",
              "      <td>SANTRO</td>\n",
              "      <td>7.000044e+09</td>\n",
              "      <td>0.0</td>\n",
              "      <td>Paid Service</td>\n",
              "      <td>0.0</td>\n",
              "      <td>1340.22</td>\n",
              "      <td>422000</td>\n",
              "      <td>BC03</td>\n",
              "      <td>NASHIK</td>\n",
              "      <td>NaN</td>\n",
              "      <td>NO</td>\n",
              "      <td>0.0</td>\n",
              "      <td>MH15BN2714</td>\n",
              "      <td>0.0</td>\n",
              "      <td>0.0</td>\n",
              "      <td>0.0</td>\n",
              "      <td>0.0</td>\n",
              "      <td>NaN</td>\n",
              "      <td>0.0</td>\n",
              "      <td>CX</td>\n",
              "      <td>1803.27</td>\n",
              "      <td>0.0</td>\n",
              "      <td>0.0</td>\n",
              "      <td>0.0</td>\n",
              "      <td>0.0</td>\n",
              "      <td>1803.27</td>\n",
              "      <td>BC03SA3</td>\n",
              "    </tr>\n",
              "  </tbody>\n",
              "</table>\n",
              "</div>"
            ],
            "text/plain": [
              "        Amt Rcvd From Custom  Amt Rcvd From Ins Co  ... Total Value  User ID\n",
              "0                        0.0                   0.0  ...      420.09   GOLIVE\n",
              "16267                    0.0                   0.0  ...     1637.43  BC03SA3\n",
              "109394                   NaN                   NaN  ...         NaN  X073SA1\n",
              "422583                   NaN                   NaN  ...         NaN  X073SA1\n",
              "36482                    0.0                   0.0  ...     3224.98  BC03SA2\n",
              "24089                    0.0                   0.0  ...     1803.27  BC03SA3\n",
              "\n",
              "[6 rows x 58 columns]"
            ]
          },
          "metadata": {
            "tags": []
          },
          "execution_count": 142
        }
      ]
    },
    {
      "cell_type": "code",
      "metadata": {
        "id": "fXG5tq3bsW-x",
        "colab_type": "code",
        "colab": {}
      },
      "source": [
        "columns_to_be_removed = invoice_full_data.isnull().sum()[invoice_full_data.isnull().sum().sort_values() > 29178].index"
      ],
      "execution_count": 0,
      "outputs": []
    },
    {
      "cell_type": "code",
      "metadata": {
        "id": "NqOKaco9D_ly",
        "colab_type": "code",
        "colab": {}
      },
      "source": [
        "invoice = invoice_full_data.drop(columns=columns_to_be_removed)"
      ],
      "execution_count": 0,
      "outputs": []
    },
    {
      "cell_type": "code",
      "metadata": {
        "id": "CE-wcFK9EEhJ",
        "colab_type": "code",
        "outputId": "0391b84a-dac7-469b-832a-2848dd0ab445",
        "colab": {
          "base_uri": "https://localhost:8080/",
          "height": 34
        }
      },
      "source": [
        "invoice.shape"
      ],
      "execution_count": 0,
      "outputs": [
        {
          "output_type": "execute_result",
          "data": {
            "text/plain": [
              "(984741, 28)"
            ]
          },
          "metadata": {
            "tags": []
          },
          "execution_count": 145
        }
      ]
    },
    {
      "cell_type": "code",
      "metadata": {
        "id": "M32ZbEo5EK8s",
        "colab_type": "code",
        "outputId": "ce95af97-aa9e-4a05-f3d4-536eb9893857",
        "colab": {
          "base_uri": "https://localhost:8080/",
          "height": 411
        }
      },
      "source": [
        "invoice.head(5)"
      ],
      "execution_count": 0,
      "outputs": [
        {
          "output_type": "execute_result",
          "data": {
            "text/html": [
              "<div>\n",
              "<style scoped>\n",
              "    .dataframe tbody tr th:only-of-type {\n",
              "        vertical-align: middle;\n",
              "    }\n",
              "\n",
              "    .dataframe tbody tr th {\n",
              "        vertical-align: top;\n",
              "    }\n",
              "\n",
              "    .dataframe thead th {\n",
              "        text-align: right;\n",
              "    }\n",
              "</style>\n",
              "<table border=\"1\" class=\"dataframe\">\n",
              "  <thead>\n",
              "    <tr style=\"text-align: right;\">\n",
              "      <th></th>\n",
              "      <th>Area / Locality</th>\n",
              "      <th>CITY</th>\n",
              "      <th>Cust Type</th>\n",
              "      <th>Customer No.</th>\n",
              "      <th>District</th>\n",
              "      <th>Gate Pass Time</th>\n",
              "      <th>Invoice Date</th>\n",
              "      <th>Invoice No</th>\n",
              "      <th>Invoice Time</th>\n",
              "      <th>Job Card No</th>\n",
              "      <th>JobCard Date</th>\n",
              "      <th>JobCard Time</th>\n",
              "      <th>KMs Reading</th>\n",
              "      <th>Labour Total</th>\n",
              "      <th>Make</th>\n",
              "      <th>Misc Total</th>\n",
              "      <th>Model</th>\n",
              "      <th>OSL Total</th>\n",
              "      <th>Order Type</th>\n",
              "      <th>Parts Total</th>\n",
              "      <th>Pin code</th>\n",
              "      <th>Plant</th>\n",
              "      <th>Plant Name1</th>\n",
              "      <th>Print Status</th>\n",
              "      <th>Recovrbl Exp</th>\n",
              "      <th>Regn No</th>\n",
              "      <th>Total Amt Wtd Tax.</th>\n",
              "      <th>User ID</th>\n",
              "    </tr>\n",
              "  </thead>\n",
              "  <tbody>\n",
              "    <tr>\n",
              "      <th>0</th>\n",
              "      <td>NaN</td>\n",
              "      <td>Nashik</td>\n",
              "      <td>Retail</td>\n",
              "      <td>E14006</td>\n",
              "      <td>Maharashtra</td>\n",
              "      <td>00:00:00</td>\n",
              "      <td>2012-04-02</td>\n",
              "      <td>7000000011</td>\n",
              "      <td>17:04:33</td>\n",
              "      <td>101</td>\n",
              "      <td>2012-04-02</td>\n",
              "      <td>15:15:31</td>\n",
              "      <td>80440</td>\n",
              "      <td>420.09</td>\n",
              "      <td>HYUNDAI</td>\n",
              "      <td>0.0</td>\n",
              "      <td>SANTRO</td>\n",
              "      <td>0.00</td>\n",
              "      <td>Running Repairs</td>\n",
              "      <td>0.00</td>\n",
              "      <td>422000</td>\n",
              "      <td>BC03</td>\n",
              "      <td>NASHIK</td>\n",
              "      <td>NO</td>\n",
              "      <td>0.0</td>\n",
              "      <td>MH15BN2714</td>\n",
              "      <td>420.09</td>\n",
              "      <td>GOLIVE</td>\n",
              "    </tr>\n",
              "    <tr>\n",
              "      <th>1</th>\n",
              "      <td>NaN</td>\n",
              "      <td>THANE</td>\n",
              "      <td>Retail</td>\n",
              "      <td>0000000017</td>\n",
              "      <td>Maharashtra</td>\n",
              "      <td>00:00:00</td>\n",
              "      <td>2012-04-02</td>\n",
              "      <td>7000000014</td>\n",
              "      <td>17:26:52</td>\n",
              "      <td>105</td>\n",
              "      <td>2012-04-02</td>\n",
              "      <td>16:13:11</td>\n",
              "      <td>98474</td>\n",
              "      <td>179.75</td>\n",
              "      <td>MAHINDRA &amp;  MAHINDRA</td>\n",
              "      <td>0.0</td>\n",
              "      <td>LOGAN P</td>\n",
              "      <td>0.00</td>\n",
              "      <td>Running Repairs</td>\n",
              "      <td>0.00</td>\n",
              "      <td>401107</td>\n",
              "      <td>BC01</td>\n",
              "      <td>THANE</td>\n",
              "      <td>NO</td>\n",
              "      <td>0.0</td>\n",
              "      <td>MH04DN6210</td>\n",
              "      <td>179.75</td>\n",
              "      <td>GOLIVE</td>\n",
              "    </tr>\n",
              "    <tr>\n",
              "      <th>2</th>\n",
              "      <td>NaN</td>\n",
              "      <td>Hyderabad</td>\n",
              "      <td>Retail</td>\n",
              "      <td>0000000007</td>\n",
              "      <td>Andhra Pradesh</td>\n",
              "      <td>00:00:00</td>\n",
              "      <td>2012-04-02</td>\n",
              "      <td>7000000016</td>\n",
              "      <td>17:44:03</td>\n",
              "      <td>6</td>\n",
              "      <td>2012-04-02</td>\n",
              "      <td>12:47:59</td>\n",
              "      <td>137832</td>\n",
              "      <td>1340.37</td>\n",
              "      <td>MAHINDRA &amp;  MAHINDRA</td>\n",
              "      <td>0.0</td>\n",
              "      <td>SCORPIO CRDE</td>\n",
              "      <td>0.00</td>\n",
              "      <td>Paid Service</td>\n",
              "      <td>0.00</td>\n",
              "      <td>500038</td>\n",
              "      <td>BC04</td>\n",
              "      <td>BALANAGAR</td>\n",
              "      <td>NO</td>\n",
              "      <td>0.0</td>\n",
              "      <td>AP11AB0153</td>\n",
              "      <td>1340.37</td>\n",
              "      <td>GOLIVE</td>\n",
              "    </tr>\n",
              "    <tr>\n",
              "      <th>3</th>\n",
              "      <td>NaN</td>\n",
              "      <td>Hyderabad</td>\n",
              "      <td>Retail</td>\n",
              "      <td>E22364</td>\n",
              "      <td>Andhra Pradesh</td>\n",
              "      <td>00:00:00</td>\n",
              "      <td>2012-04-02</td>\n",
              "      <td>7000000026</td>\n",
              "      <td>20:04:51</td>\n",
              "      <td>24</td>\n",
              "      <td>2012-04-01</td>\n",
              "      <td>16:19:32</td>\n",
              "      <td>75627</td>\n",
              "      <td>1709.06</td>\n",
              "      <td>MAHINDRA &amp;  MAHINDRA</td>\n",
              "      <td>0.0</td>\n",
              "      <td>SCORPIO CRDE</td>\n",
              "      <td>480.02</td>\n",
              "      <td>Paid Service</td>\n",
              "      <td>3317.37</td>\n",
              "      <td>500023</td>\n",
              "      <td>BC04</td>\n",
              "      <td>BALANAGAR</td>\n",
              "      <td>NO</td>\n",
              "      <td>0.0</td>\n",
              "      <td>AP9BJ4847</td>\n",
              "      <td>5506.45</td>\n",
              "      <td>GOLIVE</td>\n",
              "    </tr>\n",
              "    <tr>\n",
              "      <th>4</th>\n",
              "      <td>NaN</td>\n",
              "      <td>Hyderabad</td>\n",
              "      <td>Retail</td>\n",
              "      <td>E25218</td>\n",
              "      <td>Andhra Pradesh</td>\n",
              "      <td>00:00:00</td>\n",
              "      <td>2012-04-02</td>\n",
              "      <td>7000000027</td>\n",
              "      <td>20:24:21</td>\n",
              "      <td>23</td>\n",
              "      <td>2012-04-01</td>\n",
              "      <td>16:19:32</td>\n",
              "      <td>1</td>\n",
              "      <td>2074.88</td>\n",
              "      <td>TATA MOTORS</td>\n",
              "      <td>0.0</td>\n",
              "      <td>INDICA</td>\n",
              "      <td>0.00</td>\n",
              "      <td>Accidental</td>\n",
              "      <td>3105.67</td>\n",
              "      <td>500045</td>\n",
              "      <td>BC04</td>\n",
              "      <td>BALANAGAR</td>\n",
              "      <td>NO</td>\n",
              "      <td>0.0</td>\n",
              "      <td>AP29BB4586</td>\n",
              "      <td>5180.55</td>\n",
              "      <td>GOLIVE</td>\n",
              "    </tr>\n",
              "  </tbody>\n",
              "</table>\n",
              "</div>"
            ],
            "text/plain": [
              "  Area / Locality       CITY Cust Type  ...     Regn No Total Amt Wtd Tax. User ID\n",
              "0             NaN     Nashik    Retail  ...  MH15BN2714             420.09  GOLIVE\n",
              "1             NaN      THANE    Retail  ...  MH04DN6210             179.75  GOLIVE\n",
              "2             NaN  Hyderabad    Retail  ...  AP11AB0153            1340.37  GOLIVE\n",
              "3             NaN  Hyderabad    Retail  ...   AP9BJ4847            5506.45  GOLIVE\n",
              "4             NaN  Hyderabad    Retail  ...  AP29BB4586            5180.55  GOLIVE\n",
              "\n",
              "[5 rows x 28 columns]"
            ]
          },
          "metadata": {
            "tags": []
          },
          "execution_count": 146
        }
      ]
    },
    {
      "cell_type": "code",
      "metadata": {
        "id": "ADyVxU0TLKJb",
        "colab_type": "code",
        "colab": {}
      },
      "source": [
        "columns_irrelevant = ['Area / Locality', 'Print Status', 'Gate Pass Time', 'Recovrbl Exp']"
      ],
      "execution_count": 0,
      "outputs": []
    },
    {
      "cell_type": "code",
      "metadata": {
        "id": "owC2gn0thq_P",
        "colab_type": "code",
        "colab": {}
      },
      "source": [
        "invoice = invoice.drop(columns=columns_irrelevant)"
      ],
      "execution_count": 0,
      "outputs": []
    },
    {
      "cell_type": "code",
      "metadata": {
        "id": "UIxpmur3jQkx",
        "colab_type": "code",
        "colab": {}
      },
      "source": [
        "invoice.dropna(subset=['Regn No'], inplace=True)"
      ],
      "execution_count": 0,
      "outputs": []
    },
    {
      "cell_type": "code",
      "metadata": {
        "id": "KthPw8BoLX7G",
        "colab_type": "code",
        "outputId": "6bf6a14a-c15b-4d2b-abc1-55c5bcf39396",
        "colab": {
          "base_uri": "https://localhost:8080/",
          "height": 442
        }
      },
      "source": [
        "invoice.isnull().sum().sort_values()"
      ],
      "execution_count": 0,
      "outputs": [
        {
          "output_type": "execute_result",
          "data": {
            "text/plain": [
              "Labour Total             0\n",
              "Regn No                  0\n",
              "Plant Name1              0\n",
              "Plant                    0\n",
              "Pin code                 0\n",
              "Parts Total              0\n",
              "Order Type               0\n",
              "OSL Total                0\n",
              "Misc Total               0\n",
              "Make                     0\n",
              "Total Amt Wtd Tax.       0\n",
              "User ID                  0\n",
              "JobCard Time             0\n",
              "JobCard Date             0\n",
              "Job Card No              0\n",
              "Invoice Time             0\n",
              "Invoice No               0\n",
              "Invoice Date             0\n",
              "District                 0\n",
              "Customer No.             0\n",
              "KMs Reading              0\n",
              "Cust Type                4\n",
              "CITY                     4\n",
              "Model                 1524\n",
              "dtype: int64"
            ]
          },
          "metadata": {
            "tags": []
          },
          "execution_count": 150
        }
      ]
    },
    {
      "cell_type": "code",
      "metadata": {
        "id": "kCGj8yMNcc7I",
        "colab_type": "code",
        "colab": {}
      },
      "source": [
        "invoice['Cust Type'] = invoice['Cust Type'].fillna(invoice['Cust Type'].mode()[0])\n",
        "invoice['CITY'] = invoice['CITY'].fillna(invoice['CITY'].mode()[0])\n",
        "invoice['Model']  = invoice['Model'].fillna(invoice['Model'].mode()[0])"
      ],
      "execution_count": 0,
      "outputs": []
    },
    {
      "cell_type": "code",
      "metadata": {
        "id": "9BPxLAzujpTb",
        "colab_type": "code",
        "outputId": "45c6a2c3-c5ac-42bc-9c31-9a18433b2173",
        "colab": {
          "base_uri": "https://localhost:8080/",
          "height": 442
        }
      },
      "source": [
        "invoice.isnull().sum().sort_values()"
      ],
      "execution_count": 0,
      "outputs": [
        {
          "output_type": "execute_result",
          "data": {
            "text/plain": [
              "CITY                  0\n",
              "Regn No               0\n",
              "Plant Name1           0\n",
              "Plant                 0\n",
              "Pin code              0\n",
              "Parts Total           0\n",
              "Order Type            0\n",
              "OSL Total             0\n",
              "Model                 0\n",
              "Misc Total            0\n",
              "Make                  0\n",
              "Labour Total          0\n",
              "KMs Reading           0\n",
              "JobCard Time          0\n",
              "JobCard Date          0\n",
              "Job Card No           0\n",
              "Invoice Time          0\n",
              "Invoice No            0\n",
              "Invoice Date          0\n",
              "District              0\n",
              "Customer No.          0\n",
              "Cust Type             0\n",
              "Total Amt Wtd Tax.    0\n",
              "User ID               0\n",
              "dtype: int64"
            ]
          },
          "metadata": {
            "tags": []
          },
          "execution_count": 152
        }
      ]
    },
    {
      "cell_type": "code",
      "metadata": {
        "id": "R7uIJ9nuAM_t",
        "colab_type": "code",
        "outputId": "110f9889-6818-4ee7-b2e7-6186326fc678",
        "colab": {
          "base_uri": "https://localhost:8080/",
          "height": 187
        }
      },
      "source": [
        "invoice['Order Type'].value_counts()"
      ],
      "execution_count": 0,
      "outputs": [
        {
          "output_type": "execute_result",
          "data": {
            "text/plain": [
              "Running Repairs      551850\n",
              "Paid Service         291507\n",
              "Accidental            88396\n",
              "SMC Redemption        20038\n",
              "Mechanical            15100\n",
              "SMC Value Package     14091\n",
              "Repeat Order           3473\n",
              "WBW Order               252\n",
              "Workshop Damage          18\n",
              "Name: Order Type, dtype: int64"
            ]
          },
          "metadata": {
            "tags": []
          },
          "execution_count": 153
        }
      ]
    },
    {
      "cell_type": "code",
      "metadata": {
        "id": "NOHqYW6-3QYI",
        "colab_type": "code",
        "colab": {}
      },
      "source": [
        "import matplotlib.pyplot as plt\n",
        "import seaborn as sns"
      ],
      "execution_count": 0,
      "outputs": []
    },
    {
      "cell_type": "code",
      "metadata": {
        "id": "ZfcAT76cunDV",
        "colab_type": "code",
        "outputId": "6f1d7336-d0ac-4921-ead5-65c17bcbabb7",
        "colab": {
          "base_uri": "https://localhost:8080/",
          "height": 340
        }
      },
      "source": [
        "customer_city_wise = invoice.groupby('CITY')['Customer No.'].agg(['count']).sort_values(['count'], ascending=False).reset_index().head(10)\n",
        "city = customer_city_wise['CITY']\n",
        "count = customer_city_wise['count']\n",
        "plt.title('CUSTOMERS CITY WISE')\n",
        "sns.barplot(x=city, y=count,)\n",
        "plt.xticks(rotation=45)\n",
        "plt.show()"
      ],
      "execution_count": 0,
      "outputs": [
        {
          "output_type": "display_data",
          "data": {
            "image/png": "[encoded data removed]",
            "text/plain": [
              "<Figure size 432x288 with 1 Axes>"
            ]
          },
          "metadata": {
            "tags": []
          }
        }
      ]
    },
    {
      "cell_type": "markdown",
      "metadata": {
        "id": "2J0JfMJ8kfkx",
        "colab_type": "text"
      },
      "source": [
        "## Read JTD data\n",
        "* Handle missing and duplicate data."
      ]
    },
    {
      "cell_type": "code",
      "metadata": {
        "id": "Q5YbQqDus6dw",
        "colab_type": "code",
        "outputId": "942710aa-277d-45a5-be33-eb05d91f1b6d",
        "colab": {
          "base_uri": "https://localhost:8080/",
          "height": 71
        }
      },
      "source": [
        "jtd = pd.read_csv('/content/drive/My Drive/Colab Notebooks/data/final_csv/jtd.csv', index_col=0)"
      ],
      "execution_count": 0,
      "outputs": [
        {
          "output_type": "stream",
          "text": [
            "/usr/local/lib/python3.6/dist-packages/numpy/lib/arraysetops.py:569: FutureWarning: elementwise comparison failed; returning scalar instead, but in the future will perform elementwise comparison\n",
            "  mask |= (ar1 == a)\n"
          ],
          "name": "stderr"
        }
      ]
    },
    {
      "cell_type": "code",
      "metadata": {
        "id": "LjHXSKGcBkJA",
        "colab_type": "code",
        "outputId": "de75869b-aeb6-445a-94da-9e6f304841f4",
        "colab": {
          "base_uri": "https://localhost:8080/",
          "height": 34
        }
      },
      "source": [
        "jtd.shape"
      ],
      "execution_count": 0,
      "outputs": [
        {
          "output_type": "execute_result",
          "data": {
            "text/plain": [
              "(5619484, 9)"
            ]
          },
          "metadata": {
            "tags": []
          },
          "execution_count": 157
        }
      ]
    },
    {
      "cell_type": "code",
      "metadata": {
        "id": "4SceHKu8tAEn",
        "colab_type": "code",
        "outputId": "3649e632-78ba-4a2d-892f-5f744d8e0bd2",
        "colab": {
          "base_uri": "https://localhost:8080/",
          "height": 204
        }
      },
      "source": [
        "jtd[jtd['DBM Order']==98050]"
      ],
      "execution_count": 0,
      "outputs": [
        {
          "output_type": "execute_result",
          "data": {
            "text/html": [
              "<div>\n",
              "<style scoped>\n",
              "    .dataframe tbody tr th:only-of-type {\n",
              "        vertical-align: middle;\n",
              "    }\n",
              "\n",
              "    .dataframe tbody tr th {\n",
              "        vertical-align: top;\n",
              "    }\n",
              "\n",
              "    .dataframe thead th {\n",
              "        text-align: right;\n",
              "    }\n",
              "</style>\n",
              "<table border=\"1\" class=\"dataframe\">\n",
              "  <thead>\n",
              "    <tr style=\"text-align: right;\">\n",
              "      <th></th>\n",
              "      <th>DBM Order</th>\n",
              "      <th>Order Item</th>\n",
              "      <th>Material</th>\n",
              "      <th>Labor Value Number</th>\n",
              "      <th>Description</th>\n",
              "      <th>Item Category</th>\n",
              "      <th>Order Quantity</th>\n",
              "      <th>Target quantity UoM</th>\n",
              "      <th>Net value</th>\n",
              "    </tr>\n",
              "  </thead>\n",
              "  <tbody>\n",
              "    <tr>\n",
              "      <th>0</th>\n",
              "      <td>98050</td>\n",
              "      <td>10</td>\n",
              "      <td>1EMJ96615412</td>\n",
              "      <td>NaN</td>\n",
              "      <td>SWITCH A-A/C CONTROL</td>\n",
              "      <td>P002</td>\n",
              "      <td>1.0</td>\n",
              "      <td>EA</td>\n",
              "      <td>5185.92</td>\n",
              "    </tr>\n",
              "    <tr>\n",
              "      <th>1</th>\n",
              "      <td>98050</td>\n",
              "      <td>20</td>\n",
              "      <td>1EMJ96548238</td>\n",
              "      <td>NaN</td>\n",
              "      <td>WEATHER STRIP A-REAR DOOR LH</td>\n",
              "      <td>P002</td>\n",
              "      <td>1.0</td>\n",
              "      <td>EA</td>\n",
              "      <td>1433.49</td>\n",
              "    </tr>\n",
              "    <tr>\n",
              "      <th>2</th>\n",
              "      <td>98050</td>\n",
              "      <td>30</td>\n",
              "      <td>1EMJ96548102</td>\n",
              "      <td>NaN</td>\n",
              "      <td>WEATHER STRIP A-FRONT DOOR LH</td>\n",
              "      <td>P002</td>\n",
              "      <td>1.0</td>\n",
              "      <td>EA</td>\n",
              "      <td>1526.88</td>\n",
              "    </tr>\n",
              "    <tr>\n",
              "      <th>3</th>\n",
              "      <td>98050</td>\n",
              "      <td>40</td>\n",
              "      <td>1EMJ96548239</td>\n",
              "      <td>NaN</td>\n",
              "      <td>WEATHER STRIP A-REAR DOOR RH</td>\n",
              "      <td>P002</td>\n",
              "      <td>1.0</td>\n",
              "      <td>EA</td>\n",
              "      <td>1433.49</td>\n",
              "    </tr>\n",
              "    <tr>\n",
              "      <th>4</th>\n",
              "      <td>98050</td>\n",
              "      <td>50</td>\n",
              "      <td>1EMJ96548103</td>\n",
              "      <td>NaN</td>\n",
              "      <td>WEATHER STRIP A-FRONT DOOR RH</td>\n",
              "      <td>P002</td>\n",
              "      <td>1.0</td>\n",
              "      <td>EA</td>\n",
              "      <td>1526.88</td>\n",
              "    </tr>\n",
              "  </tbody>\n",
              "</table>\n",
              "</div>"
            ],
            "text/plain": [
              "   DBM Order  Order Item  ... Target quantity UoM Net value\n",
              "0      98050          10  ...                  EA   5185.92\n",
              "1      98050          20  ...                  EA   1433.49\n",
              "2      98050          30  ...                  EA   1526.88\n",
              "3      98050          40  ...                  EA   1433.49\n",
              "4      98050          50  ...                  EA   1526.88\n",
              "\n",
              "[5 rows x 9 columns]"
            ]
          },
          "metadata": {
            "tags": []
          },
          "execution_count": 158
        }
      ]
    },
    {
      "cell_type": "code",
      "metadata": {
        "id": "qHFfLOjxBbAd",
        "colab_type": "code",
        "outputId": "340e6358-28e7-4bcd-9b0d-df50b332f4ad",
        "colab": {
          "base_uri": "https://localhost:8080/",
          "height": 34
        }
      },
      "source": [
        "len(jtd['Order Quantity'].unique())"
      ],
      "execution_count": 0,
      "outputs": [
        {
          "output_type": "execute_result",
          "data": {
            "text/plain": [
              "3604"
            ]
          },
          "metadata": {
            "tags": []
          },
          "execution_count": 159
        }
      ]
    },
    {
      "cell_type": "code",
      "metadata": {
        "id": "cJHJl3m5BpPN",
        "colab_type": "code",
        "outputId": "34ae9c96-9ccc-43a4-c77c-b106fd9a67c3",
        "colab": {
          "base_uri": "https://localhost:8080/",
          "height": 71
        }
      },
      "source": [
        "aggregation_jtd_dbno={ 'Description' : {'Description' : lambda x: str(set(x)).strip('{}').replace(\"'\",\"\")},\n",
        "                      'Item Category' : {'Item Category' : lambda x: str(set(x)).strip('{}').replace(\"'\",\"\")}, \n",
        "                      'Order Quantity' : {'Order Quantity' : 'sum'},\n",
        "                      'Net value' : {'Net value' : 'sum'} }\n",
        "jtd_grouped = jtd.groupby('DBM Order')['Description','Item Category','Order Quantity','Net value'].agg(aggregation_jtd_dbno).reset_index()"
      ],
      "execution_count": 0,
      "outputs": [
        {
          "output_type": "stream",
          "text": [
            "/usr/local/lib/python3.6/dist-packages/pandas/core/groupby/generic.py:1315: FutureWarning: using a dict with renaming is deprecated and will be removed in a future version\n",
            "  return super(DataFrameGroupBy, self).aggregate(arg, *args, **kwargs)\n"
          ],
          "name": "stderr"
        }
      ]
    },
    {
      "cell_type": "code",
      "metadata": {
        "id": "5dNL96UcDkig",
        "colab_type": "code",
        "outputId": "e9ce2f22-c3b4-402f-9963-eaad40ae4d0c",
        "colab": {
          "base_uri": "https://localhost:8080/",
          "height": 204
        }
      },
      "source": [
        "jtd_grouped.head()"
      ],
      "execution_count": 0,
      "outputs": [
        {
          "output_type": "execute_result",
          "data": {
            "text/html": [
              "<div>\n",
              "<style scoped>\n",
              "    .dataframe tbody tr th:only-of-type {\n",
              "        vertical-align: middle;\n",
              "    }\n",
              "\n",
              "    .dataframe tbody tr th {\n",
              "        vertical-align: top;\n",
              "    }\n",
              "\n",
              "    .dataframe thead th {\n",
              "        text-align: right;\n",
              "    }\n",
              "</style>\n",
              "<table border=\"1\" class=\"dataframe\">\n",
              "  <thead>\n",
              "    <tr style=\"text-align: right;\">\n",
              "      <th></th>\n",
              "      <th>DBM Order</th>\n",
              "      <th>Description</th>\n",
              "      <th>Item Category</th>\n",
              "      <th>Order Quantity</th>\n",
              "      <th>Net value</th>\n",
              "    </tr>\n",
              "  </thead>\n",
              "  <tbody>\n",
              "    <tr>\n",
              "      <th>0</th>\n",
              "      <td>4</td>\n",
              "      <td>KIT-ENGINE UPR REPAIRED SEAL, AFTER SEL, OVERH...</td>\n",
              "      <td>P001, P011, P010, P002</td>\n",
              "      <td>731.6</td>\n",
              "      <td>16998.49</td>\n",
              "    </tr>\n",
              "    <tr>\n",
              "      <th>1</th>\n",
              "      <td>5</td>\n",
              "      <td>FILTER A-OIL ENG, MISC LABOR 0.5 HOURS, REPLAC...</td>\n",
              "      <td>P001, P002</td>\n",
              "      <td>290.2</td>\n",
              "      <td>3779.80</td>\n",
              "    </tr>\n",
              "    <tr>\n",
              "      <th>2</th>\n",
              "      <td>6</td>\n",
              "      <td>Paid Service-Minor, MISC LABOR 0.5 HOURS, REPL...</td>\n",
              "      <td>P001</td>\n",
              "      <td>109.0</td>\n",
              "      <td>1340.37</td>\n",
              "    </tr>\n",
              "    <tr>\n",
              "      <th>3</th>\n",
              "      <td>7</td>\n",
              "      <td>MISC LABOR 0.25 HOURS</td>\n",
              "      <td>P001</td>\n",
              "      <td>36.5</td>\n",
              "      <td>167.36</td>\n",
              "    </tr>\n",
              "    <tr>\n",
              "      <th>4</th>\n",
              "      <td>8</td>\n",
              "      <td>WASHER 14MM, DISTILLED WATER, ELF Synthetic En...</td>\n",
              "      <td>P001, P002</td>\n",
              "      <td>69.0</td>\n",
              "      <td>2306.94</td>\n",
              "    </tr>\n",
              "  </tbody>\n",
              "</table>\n",
              "</div>"
            ],
            "text/plain": [
              "   DBM Order  ... Net value\n",
              "0          4  ...  16998.49\n",
              "1          5  ...   3779.80\n",
              "2          6  ...   1340.37\n",
              "3          7  ...    167.36\n",
              "4          8  ...   2306.94\n",
              "\n",
              "[5 rows x 5 columns]"
            ]
          },
          "metadata": {
            "tags": []
          },
          "execution_count": 161
        }
      ]
    },
    {
      "cell_type": "code",
      "metadata": {
        "id": "vXKN_vGvDpv7",
        "colab_type": "code",
        "outputId": "cf461775-ef44-430d-db1a-9ded8f09c2b0",
        "colab": {
          "base_uri": "https://localhost:8080/",
          "height": 34
        }
      },
      "source": [
        "jtd_grouped.shape"
      ],
      "execution_count": 0,
      "outputs": [
        {
          "output_type": "execute_result",
          "data": {
            "text/plain": [
              "(973473, 5)"
            ]
          },
          "metadata": {
            "tags": []
          },
          "execution_count": 162
        }
      ]
    },
    {
      "cell_type": "code",
      "metadata": {
        "id": "XLGX1WsI4LBo",
        "colab_type": "code",
        "outputId": "7d27a8e8-f536-48b3-811d-2b372571458b",
        "colab": {
          "base_uri": "https://localhost:8080/",
          "height": 884
        }
      },
      "source": [
        "jtd['Description'].value_counts().head(50)"
      ],
      "execution_count": 0,
      "outputs": [
        {
          "output_type": "execute_result",
          "data": {
            "text/plain": [
              "MISC_OTHER CHARGES                        270563\n",
              "Paid Service-Minor                        201857\n",
              "WASHING                                   199068\n",
              "Wheel Alignment                           191211\n",
              "OIL FILTER                                154387\n",
              "URANIA SUPREMO CI 4 15W 40                122218\n",
              "MFC PROLEUM CI4/SL 15W40                   92091\n",
              "AIR FILTER                                 80211\n",
              "Wheel Balancing (5 Wheels)                 79970\n",
              "MISC LABOR 0.5 HOURS                       62982\n",
              "General Check up                           62459\n",
              "Paid Service-Major                         60369\n",
              "WINDSHIELD LIQUID WASHER                   55352\n",
              "MISC LABOR 0.25 HOURS                      50143\n",
              "DISTILLED WATER                            46919\n",
              "Interior & Upholstery Cleaning             44864\n",
              "REPLACE BRAKE PAD (BOTH SIDE)              38552\n",
              "PAINTING CHARGES                           34187\n",
              "MISC LABOR 1 HOUR                          33993\n",
              "BALANCE WEIGHT 15GRAM                      31791\n",
              "MISC LABOR 2 HOURS                         31761\n",
              "BALANCE WEIGHT 20 GRAM                     29524\n",
              "BALANCE WEIGHT 25GRAM                      28774\n",
              "CLIP                                       28714\n",
              "BALANCE WEIGHT 10GRAM                      27962\n",
              "ANTIFREEZE COOLANT-GREEN                   27403\n",
              "BALANCE WEIGHT 30GRAM                      26724\n",
              "REPAIRING CHARGES                          23669\n",
              "PROFAR CONCENTRATED ANTIFREEZE COOLANT     22536\n",
              "Brake service - All 4 Wheels               21236\n",
              "FUEL FILTER                                20818\n",
              "BALANCE WEIGHT 35 GRAM                     20798\n",
              "RUST SPRAY                                 20731\n",
              "TIE CLIP                                   19829\n",
              "Clutch Overhaul                            19696\n",
              "Oil Filter-Spin On Petrol                  19610\n",
              "MISC_ON ROAD ASSISTANCE                    18991\n",
              "REPLACE ENGINE OIL & OIL FILTER            18268\n",
              "BRAKE OIL DOT 4                            17929\n",
              "BALANCE WEIGHT 5 GRAM                      17139\n",
              "TUTELA TRANSMISSIONS EPYX 90               16945\n",
              "BALANCE WEIGHT 40GRAM                      16278\n",
              "CLEANING INJECTOR PETROL (EACH)            15436\n",
              "REPLACE COOLANT                            14524\n",
              "Engine Flush                               13900\n",
              "FEVIQUIK 3 GM                              13479\n",
              "MFC PROLEUM GL-4 80W-90 - 26 Ltr           13188\n",
              "BULB 1016(12V 21/5W)                       12619\n",
              "MISC_COST OF WEIGHT (EACH)                 12530\n",
              "TYRE ROTATION                              12529\n",
              "Name: Description, dtype: int64"
            ]
          },
          "metadata": {
            "tags": []
          },
          "execution_count": 163
        }
      ]
    },
    {
      "cell_type": "code",
      "metadata": {
        "id": "BL1V-0c4kvyz",
        "colab_type": "code",
        "outputId": "a35d628c-ad7a-4188-f120-ec3818f64c6f",
        "colab": {
          "base_uri": "https://localhost:8080/",
          "height": 34
        }
      },
      "source": [
        "jtd.shape"
      ],
      "execution_count": 0,
      "outputs": [
        {
          "output_type": "execute_result",
          "data": {
            "text/plain": [
              "(5619484, 9)"
            ]
          },
          "metadata": {
            "tags": []
          },
          "execution_count": 164
        }
      ]
    },
    {
      "cell_type": "code",
      "metadata": {
        "id": "yAdjItftkrm3",
        "colab_type": "code",
        "outputId": "ed6aecc9-bb2e-4716-d029-60d8c6d8d107",
        "colab": {
          "base_uri": "https://localhost:8080/",
          "height": 187
        }
      },
      "source": [
        "jtd.isnull().sum().sort_values()"
      ],
      "execution_count": 0,
      "outputs": [
        {
          "output_type": "execute_result",
          "data": {
            "text/plain": [
              "DBM Order                    0\n",
              "Order Item                   0\n",
              "Item Category                0\n",
              "Order Quantity               0\n",
              "Net value                    0\n",
              "Material                 51629\n",
              "Description              51629\n",
              "Target quantity UoM      51629\n",
              "Labor Value Number     3774033\n",
              "dtype: int64"
            ]
          },
          "metadata": {
            "tags": []
          },
          "execution_count": 165
        }
      ]
    },
    {
      "cell_type": "markdown",
      "metadata": {
        "id": "E_ANL4TJmjIM",
        "colab_type": "text"
      },
      "source": [
        "## Merge the Data\n",
        "**Merge Invoice and Customer Data on Customer No. Key**"
      ]
    },
    {
      "cell_type": "code",
      "metadata": {
        "id": "v9IP3WO9v_uT",
        "colab_type": "code",
        "colab": {}
      },
      "source": [
        "invoice['Customer No.'] = invoice['Customer No.'].str.lstrip('0')"
      ],
      "execution_count": 0,
      "outputs": []
    },
    {
      "cell_type": "code",
      "metadata": {
        "id": "1zgxfmYZsMUo",
        "colab_type": "code",
        "colab": {}
      },
      "source": [
        "customer['Customer No.'] = customer['Customer No.'].astype(str)"
      ],
      "execution_count": 0,
      "outputs": []
    },
    {
      "cell_type": "code",
      "metadata": {
        "id": "4ecC8PX-xsDZ",
        "colab_type": "code",
        "colab": {}
      },
      "source": [
        "invoice_customer = pd.merge(invoice, customer, on='Customer No.')"
      ],
      "execution_count": 0,
      "outputs": []
    },
    {
      "cell_type": "code",
      "metadata": {
        "id": "oVDs_BjwxuoL",
        "colab_type": "code",
        "outputId": "62768433-483e-446f-9bf0-11c37e190343",
        "colab": {
          "base_uri": "https://localhost:8080/",
          "height": 34
        }
      },
      "source": [
        "invoice_customer.shape, len(invoice['Customer No.'].unique()), len(customer['Customer No.'].unique()), len(invoice_customer['Customer No.'].unique())"
      ],
      "execution_count": 0,
      "outputs": [
        {
          "output_type": "execute_result",
          "data": {
            "text/plain": [
              "((981217, 27), 502770, 555338, 502480)"
            ]
          },
          "metadata": {
            "tags": []
          },
          "execution_count": 169
        }
      ]
    },
    {
      "cell_type": "code",
      "metadata": {
        "id": "T_7DAYhv_ULl",
        "colab_type": "code",
        "outputId": "ecb9e164-1606-4a19-bdfe-1f24491fb9ae",
        "colab": {
          "base_uri": "https://localhost:8080/",
          "height": 493
        }
      },
      "source": [
        "invoice_customer.isnull().sum()"
      ],
      "execution_count": 0,
      "outputs": [
        {
          "output_type": "execute_result",
          "data": {
            "text/plain": [
              "CITY                  0\n",
              "Cust Type             0\n",
              "Customer No.          0\n",
              "District              0\n",
              "Invoice Date          0\n",
              "Invoice No            0\n",
              "Invoice Time          0\n",
              "Job Card No           0\n",
              "JobCard Date          0\n",
              "JobCard Time          0\n",
              "KMs Reading           0\n",
              "Labour Total          0\n",
              "Make                  0\n",
              "Misc Total            0\n",
              "Model                 0\n",
              "OSL Total             0\n",
              "Order Type            0\n",
              "Parts Total           0\n",
              "Pin code              0\n",
              "Plant                 0\n",
              "Plant Name1           0\n",
              "Regn No               0\n",
              "Total Amt Wtd Tax.    0\n",
              "User ID               0\n",
              "Partner Type          0\n",
              "Data Origin           0\n",
              "Title                 0\n",
              "dtype: int64"
            ]
          },
          "metadata": {
            "tags": []
          },
          "execution_count": 170
        }
      ]
    },
    {
      "cell_type": "markdown",
      "metadata": {
        "id": "q2Q2GdF6mwiD",
        "colab_type": "text"
      },
      "source": [
        "**Merge Vehicle and Invoice Customer df based on Registration number and License plat number**"
      ]
    },
    {
      "cell_type": "code",
      "metadata": {
        "id": "Q_k4JBrUmvcB",
        "colab_type": "code",
        "outputId": "1969216c-af24-40e2-b998-78d4d40a2930",
        "colab": {
          "base_uri": "https://localhost:8080/",
          "height": 394
        }
      },
      "source": [
        "invoice_customer.head()"
      ],
      "execution_count": 0,
      "outputs": [
        {
          "output_type": "execute_result",
          "data": {
            "text/html": [
              "<div>\n",
              "<style scoped>\n",
              "    .dataframe tbody tr th:only-of-type {\n",
              "        vertical-align: middle;\n",
              "    }\n",
              "\n",
              "    .dataframe tbody tr th {\n",
              "        vertical-align: top;\n",
              "    }\n",
              "\n",
              "    .dataframe thead th {\n",
              "        text-align: right;\n",
              "    }\n",
              "</style>\n",
              "<table border=\"1\" class=\"dataframe\">\n",
              "  <thead>\n",
              "    <tr style=\"text-align: right;\">\n",
              "      <th></th>\n",
              "      <th>CITY</th>\n",
              "      <th>Cust Type</th>\n",
              "      <th>Customer No.</th>\n",
              "      <th>District</th>\n",
              "      <th>Invoice Date</th>\n",
              "      <th>Invoice No</th>\n",
              "      <th>Invoice Time</th>\n",
              "      <th>Job Card No</th>\n",
              "      <th>JobCard Date</th>\n",
              "      <th>JobCard Time</th>\n",
              "      <th>KMs Reading</th>\n",
              "      <th>Labour Total</th>\n",
              "      <th>Make</th>\n",
              "      <th>Misc Total</th>\n",
              "      <th>Model</th>\n",
              "      <th>OSL Total</th>\n",
              "      <th>Order Type</th>\n",
              "      <th>Parts Total</th>\n",
              "      <th>Pin code</th>\n",
              "      <th>Plant</th>\n",
              "      <th>Plant Name1</th>\n",
              "      <th>Regn No</th>\n",
              "      <th>Total Amt Wtd Tax.</th>\n",
              "      <th>User ID</th>\n",
              "      <th>Partner Type</th>\n",
              "      <th>Data Origin</th>\n",
              "      <th>Title</th>\n",
              "    </tr>\n",
              "  </thead>\n",
              "  <tbody>\n",
              "    <tr>\n",
              "      <th>0</th>\n",
              "      <td>Nashik</td>\n",
              "      <td>Retail</td>\n",
              "      <td>E14006</td>\n",
              "      <td>Maharashtra</td>\n",
              "      <td>2012-04-02</td>\n",
              "      <td>7000000011</td>\n",
              "      <td>17:04:33</td>\n",
              "      <td>101</td>\n",
              "      <td>2012-04-02</td>\n",
              "      <td>15:15:31</td>\n",
              "      <td>80440</td>\n",
              "      <td>420.09</td>\n",
              "      <td>HYUNDAI</td>\n",
              "      <td>0.0</td>\n",
              "      <td>SANTRO</td>\n",
              "      <td>0.0</td>\n",
              "      <td>Running Repairs</td>\n",
              "      <td>0.00</td>\n",
              "      <td>422000</td>\n",
              "      <td>BC03</td>\n",
              "      <td>NASHIK</td>\n",
              "      <td>MH15BN2714</td>\n",
              "      <td>420.09</td>\n",
              "      <td>GOLIVE</td>\n",
              "      <td>1.0</td>\n",
              "      <td>Z001</td>\n",
              "      <td>2.0</td>\n",
              "    </tr>\n",
              "    <tr>\n",
              "      <th>1</th>\n",
              "      <td>Nashik</td>\n",
              "      <td>Retail</td>\n",
              "      <td>E14006</td>\n",
              "      <td>Maharashtra</td>\n",
              "      <td>2012-12-05</td>\n",
              "      <td>7000016665</td>\n",
              "      <td>17:53:56</td>\n",
              "      <td>16545</td>\n",
              "      <td>2012-12-05</td>\n",
              "      <td>10:45:16</td>\n",
              "      <td>89165</td>\n",
              "      <td>779.09</td>\n",
              "      <td>HYUNDAI</td>\n",
              "      <td>0.0</td>\n",
              "      <td>SANTRO</td>\n",
              "      <td>0.0</td>\n",
              "      <td>Paid Service</td>\n",
              "      <td>858.34</td>\n",
              "      <td>422000</td>\n",
              "      <td>BC03</td>\n",
              "      <td>NASHIK</td>\n",
              "      <td>MH15BN2714</td>\n",
              "      <td>1637.43</td>\n",
              "      <td>BC03SA3</td>\n",
              "      <td>1.0</td>\n",
              "      <td>Z001</td>\n",
              "      <td>2.0</td>\n",
              "    </tr>\n",
              "    <tr>\n",
              "      <th>2</th>\n",
              "      <td>Nashik</td>\n",
              "      <td>Retail</td>\n",
              "      <td>E14006</td>\n",
              "      <td>Maharashtra</td>\n",
              "      <td>2017-04-14</td>\n",
              "      <td>7164601412</td>\n",
              "      <td>15:29:52</td>\n",
              "      <td>674656</td>\n",
              "      <td>2017-04-13</td>\n",
              "      <td>17:09:17</td>\n",
              "      <td>35165</td>\n",
              "      <td>579.13</td>\n",
              "      <td>HONDA</td>\n",
              "      <td>0.0</td>\n",
              "      <td>CITY</td>\n",
              "      <td>0.0</td>\n",
              "      <td>Paid Service</td>\n",
              "      <td>40.54</td>\n",
              "      <td>422000</td>\n",
              "      <td>X073</td>\n",
              "      <td>X073- KRITI AUTOMOBILE REPAIR</td>\n",
              "      <td>MH15EB5067</td>\n",
              "      <td>619.67</td>\n",
              "      <td>X073SA1</td>\n",
              "      <td>1.0</td>\n",
              "      <td>Z001</td>\n",
              "      <td>2.0</td>\n",
              "    </tr>\n",
              "    <tr>\n",
              "      <th>3</th>\n",
              "      <td>Nashik</td>\n",
              "      <td>Retail</td>\n",
              "      <td>E14006</td>\n",
              "      <td>Maharashtra</td>\n",
              "      <td>2017-07-26</td>\n",
              "      <td>7164602068</td>\n",
              "      <td>12:07:36</td>\n",
              "      <td>809011</td>\n",
              "      <td>2017-07-26</td>\n",
              "      <td>11:01:16</td>\n",
              "      <td>36165</td>\n",
              "      <td>3.46</td>\n",
              "      <td>HONDA</td>\n",
              "      <td>0.0</td>\n",
              "      <td>CITY</td>\n",
              "      <td>0.0</td>\n",
              "      <td>Running Repairs</td>\n",
              "      <td>0.00</td>\n",
              "      <td>422000</td>\n",
              "      <td>X073</td>\n",
              "      <td>X073- KRITI AUTOMOBILE REPAIR</td>\n",
              "      <td>MH15EB5067</td>\n",
              "      <td>3.46</td>\n",
              "      <td>X073SA1</td>\n",
              "      <td>1.0</td>\n",
              "      <td>Z001</td>\n",
              "      <td>2.0</td>\n",
              "    </tr>\n",
              "    <tr>\n",
              "      <th>4</th>\n",
              "      <td>Nashik</td>\n",
              "      <td>Retail</td>\n",
              "      <td>E14006</td>\n",
              "      <td>Maharashtra</td>\n",
              "      <td>2014-05-13</td>\n",
              "      <td>7000113010</td>\n",
              "      <td>10:18:16</td>\n",
              "      <td>113877</td>\n",
              "      <td>2014-05-12</td>\n",
              "      <td>10:09:53</td>\n",
              "      <td>104111</td>\n",
              "      <td>1539.84</td>\n",
              "      <td>HYUNDAI</td>\n",
              "      <td>0.0</td>\n",
              "      <td>SANTRO</td>\n",
              "      <td>0.0</td>\n",
              "      <td>Paid Service</td>\n",
              "      <td>1685.14</td>\n",
              "      <td>422000</td>\n",
              "      <td>BC03</td>\n",
              "      <td>NASHIK</td>\n",
              "      <td>MH15BN2714</td>\n",
              "      <td>3224.98</td>\n",
              "      <td>BC03SA2</td>\n",
              "      <td>1.0</td>\n",
              "      <td>Z001</td>\n",
              "      <td>2.0</td>\n",
              "    </tr>\n",
              "  </tbody>\n",
              "</table>\n",
              "</div>"
            ],
            "text/plain": [
              "     CITY Cust Type Customer No.  ... Partner Type Data Origin  Title\n",
              "0  Nashik    Retail       E14006  ...          1.0        Z001    2.0\n",
              "1  Nashik    Retail       E14006  ...          1.0        Z001    2.0\n",
              "2  Nashik    Retail       E14006  ...          1.0        Z001    2.0\n",
              "3  Nashik    Retail       E14006  ...          1.0        Z001    2.0\n",
              "4  Nashik    Retail       E14006  ...          1.0        Z001    2.0\n",
              "\n",
              "[5 rows x 27 columns]"
            ]
          },
          "metadata": {
            "tags": []
          },
          "execution_count": 171
        }
      ]
    },
    {
      "cell_type": "code",
      "metadata": {
        "id": "MdXw7L2S3DQY",
        "colab_type": "code",
        "colab": {}
      },
      "source": [
        "invoice_customer['Regn No'] = invoice_customer['Regn No'].astype(str)"
      ],
      "execution_count": 0,
      "outputs": []
    },
    {
      "cell_type": "code",
      "metadata": {
        "id": "3rXdqugiUhoH",
        "colab_type": "code",
        "colab": {}
      },
      "source": [
        "vehicles['License Plate Number'] = vehicles['License Plate Number'].astype(str)"
      ],
      "execution_count": 0,
      "outputs": []
    },
    {
      "cell_type": "code",
      "metadata": {
        "id": "lzQQ2GUP3Ma6",
        "colab_type": "code",
        "outputId": "3f107b29-3f22-4c4e-cbfb-5ec09addac2f",
        "colab": {
          "base_uri": "https://localhost:8080/",
          "height": 51
        }
      },
      "source": [
        "vehicles['License Plate Number'].unique()"
      ],
      "execution_count": 0,
      "outputs": [
        {
          "output_type": "execute_result",
          "data": {
            "text/plain": [
              "array(['MH12HN2835', 'TN10AL3462', 'AP28DG9695', ..., 'KA09Z6087',\n",
              "       'TN30K7112', 'KA09MB290'], dtype=object)"
            ]
          },
          "metadata": {
            "tags": []
          },
          "execution_count": 174
        }
      ]
    },
    {
      "cell_type": "code",
      "metadata": {
        "id": "MEABAJsECyV2",
        "colab_type": "code",
        "outputId": "d0b22834-176f-481a-f2da-47ae62e1c714",
        "colab": {
          "base_uri": "https://localhost:8080/",
          "height": 34
        }
      },
      "source": [
        "invoice_customer.shape"
      ],
      "execution_count": 0,
      "outputs": [
        {
          "output_type": "execute_result",
          "data": {
            "text/plain": [
              "(981217, 27)"
            ]
          },
          "metadata": {
            "tags": []
          },
          "execution_count": 175
        }
      ]
    },
    {
      "cell_type": "code",
      "metadata": {
        "id": "O_rVbCif3fLx",
        "colab_type": "code",
        "colab": {}
      },
      "source": [
        "invoice_customer_vehicles = pd.merge(invoice_customer, vehicles, left_on='Regn No', right_on='License Plate Number')"
      ],
      "execution_count": 0,
      "outputs": []
    },
    {
      "cell_type": "code",
      "metadata": {
        "id": "d3ZGvPXG3tiX",
        "colab_type": "code",
        "colab": {}
      },
      "source": [
        "invoice_customer_vehicles.drop(columns='Regn No', inplace=True)"
      ],
      "execution_count": 0,
      "outputs": []
    },
    {
      "cell_type": "code",
      "metadata": {
        "id": "vU4KJFwUP2M8",
        "colab_type": "code",
        "outputId": "0a9a0409-9c2a-4532-97e2-eed60537c176",
        "colab": {
          "base_uri": "https://localhost:8080/",
          "height": 85
        }
      },
      "source": [
        "vehicles.isnull().sum()"
      ],
      "execution_count": 0,
      "outputs": [
        {
          "output_type": "execute_result",
          "data": {
            "text/plain": [
              "Vehicle Model           0\n",
              "License Plate Number    0\n",
              "Fuel Type               0\n",
              "dtype: int64"
            ]
          },
          "metadata": {
            "tags": []
          },
          "execution_count": 178
        }
      ]
    },
    {
      "cell_type": "code",
      "metadata": {
        "id": "xdslQ3ljE16a",
        "colab_type": "code",
        "outputId": "30e9f9ac-f108-4eb5-f6d4-2a6f561f3739",
        "colab": {
          "base_uri": "https://localhost:8080/",
          "height": 527
        }
      },
      "source": [
        "invoice_customer_vehicles.isnull().sum()"
      ],
      "execution_count": 0,
      "outputs": [
        {
          "output_type": "execute_result",
          "data": {
            "text/plain": [
              "CITY                    0\n",
              "Cust Type               0\n",
              "Customer No.            0\n",
              "District                0\n",
              "Invoice Date            0\n",
              "Invoice No              0\n",
              "Invoice Time            0\n",
              "Job Card No             0\n",
              "JobCard Date            0\n",
              "JobCard Time            0\n",
              "KMs Reading             0\n",
              "Labour Total            0\n",
              "Make                    0\n",
              "Misc Total              0\n",
              "Model                   0\n",
              "OSL Total               0\n",
              "Order Type              0\n",
              "Parts Total             0\n",
              "Pin code                0\n",
              "Plant                   0\n",
              "Plant Name1             0\n",
              "Total Amt Wtd Tax.      0\n",
              "User ID                 0\n",
              "Partner Type            0\n",
              "Data Origin             0\n",
              "Title                   0\n",
              "Vehicle Model           0\n",
              "License Plate Number    0\n",
              "Fuel Type               0\n",
              "dtype: int64"
            ]
          },
          "metadata": {
            "tags": []
          },
          "execution_count": 179
        }
      ]
    },
    {
      "cell_type": "code",
      "metadata": {
        "id": "XTFhuwhcvmNB",
        "colab_type": "code",
        "outputId": "16ce09bc-fdec-4402-8a5b-24fd5c83327a",
        "colab": {
          "base_uri": "https://localhost:8080/",
          "height": 34
        }
      },
      "source": [
        "invoice_customer_vehicles.shape"
      ],
      "execution_count": 0,
      "outputs": [
        {
          "output_type": "execute_result",
          "data": {
            "text/plain": [
              "(984165, 29)"
            ]
          },
          "metadata": {
            "tags": []
          },
          "execution_count": 180
        }
      ]
    },
    {
      "cell_type": "markdown",
      "metadata": {
        "id": "vP32h0DvvFtp",
        "colab_type": "text"
      },
      "source": [
        "**Merge invoice_customer_vehicles and Plant**"
      ]
    },
    {
      "cell_type": "code",
      "metadata": {
        "id": "xmxkFlXMu9Hc",
        "colab_type": "code",
        "outputId": "1d7947a6-6125-45ee-d53b-616fc8a775e6",
        "colab": {
          "base_uri": "https://localhost:8080/",
          "height": 34
        }
      },
      "source": [
        "plant.shape"
      ],
      "execution_count": 0,
      "outputs": [
        {
          "output_type": "execute_result",
          "data": {
            "text/plain": [
              "(438, 5)"
            ]
          },
          "metadata": {
            "tags": []
          },
          "execution_count": 181
        }
      ]
    },
    {
      "cell_type": "code",
      "metadata": {
        "id": "IcKRbfOlwaVJ",
        "colab_type": "code",
        "outputId": "3c5ab8e1-e7ae-4db9-d2fd-ce8109504aba",
        "colab": {
          "base_uri": "https://localhost:8080/",
          "height": 34
        }
      },
      "source": [
        "len(invoice_customer_vehicles.Plant.unique()), len(plant.Plant.unique())"
      ],
      "execution_count": 0,
      "outputs": [
        {
          "output_type": "execute_result",
          "data": {
            "text/plain": [
              "(431, 438)"
            ]
          },
          "metadata": {
            "tags": []
          },
          "execution_count": 182
        }
      ]
    },
    {
      "cell_type": "code",
      "metadata": {
        "id": "mt9d-E4kvLmL",
        "colab_type": "code",
        "colab": {}
      },
      "source": [
        "invoice_customer_vehicles_plant = pd.merge(invoice_customer_vehicles, plant, on='Plant')"
      ],
      "execution_count": 0,
      "outputs": []
    },
    {
      "cell_type": "code",
      "metadata": {
        "id": "jZ5UrVXqvgU5",
        "colab_type": "code",
        "outputId": "5eefa018-83fa-4670-bd70-ff760a1a4cc0",
        "colab": {
          "base_uri": "https://localhost:8080/",
          "height": 34
        }
      },
      "source": [
        "invoice_customer_vehicles_plant.shape"
      ],
      "execution_count": 0,
      "outputs": [
        {
          "output_type": "execute_result",
          "data": {
            "text/plain": [
              "(743801, 33)"
            ]
          },
          "metadata": {
            "tags": []
          },
          "execution_count": 184
        }
      ]
    },
    {
      "cell_type": "markdown",
      "metadata": {
        "id": "ruWzuxIsoaC7",
        "colab_type": "text"
      },
      "source": [
        "## Visualization\n",
        "\n",
        "\n",
        "\n",
        "\n"
      ]
    },
    {
      "cell_type": "code",
      "metadata": {
        "id": "8H6q5jdioiMM",
        "colab_type": "code",
        "colab": {}
      },
      "source": [
        ""
      ],
      "execution_count": 0,
      "outputs": []
    },
    {
      "cell_type": "code",
      "metadata": {
        "id": "-SueEcdtrCu6",
        "colab_type": "code",
        "outputId": "fecce1af-3369-4f04-9cb0-7076ab9e60f5",
        "colab": {
          "base_uri": "https://localhost:8080/",
          "height": 595
        }
      },
      "source": [
        "invoice_customer_vehicles_plant.isnull().sum()"
      ],
      "execution_count": 0,
      "outputs": [
        {
          "output_type": "execute_result",
          "data": {
            "text/plain": [
              "CITY                    0\n",
              "Cust Type               0\n",
              "Customer No.            0\n",
              "District                0\n",
              "Invoice Date            0\n",
              "Invoice No              0\n",
              "Invoice Time            0\n",
              "Job Card No             0\n",
              "JobCard Date            0\n",
              "JobCard Time            0\n",
              "KMs Reading             0\n",
              "Labour Total            0\n",
              "Make                    0\n",
              "Misc Total              0\n",
              "Model                   0\n",
              "OSL Total               0\n",
              "Order Type              0\n",
              "Parts Total             0\n",
              "Pin code                0\n",
              "Plant                   0\n",
              "Plant Name1             0\n",
              "Total Amt Wtd Tax.      0\n",
              "User ID                 0\n",
              "Partner Type            0\n",
              "Data Origin             0\n",
              "Title                   0\n",
              "Vehicle Model           0\n",
              "License Plate Number    0\n",
              "Fuel Type               0\n",
              "Name 1                  0\n",
              "Postal Code             0\n",
              "City                    0\n",
              "State                   0\n",
              "dtype: int64"
            ]
          },
          "metadata": {
            "tags": []
          },
          "execution_count": 185
        }
      ]
    },
    {
      "cell_type": "markdown",
      "metadata": {
        "id": "xboWtcYxLV3J",
        "colab_type": "text"
      },
      "source": [
        "## Prepare Data for Clustering after cleaning merged data"
      ]
    },
    {
      "cell_type": "code",
      "metadata": {
        "id": "aPVhZ7MVLPbU",
        "colab_type": "code",
        "outputId": "b63f6570-60ef-4aa3-952a-9e9ae11deed9",
        "colab": {
          "base_uri": "https://localhost:8080/",
          "height": 445
        }
      },
      "source": [
        "invoice_customer_vehicles_plant.head()"
      ],
      "execution_count": 0,
      "outputs": [
        {
          "output_type": "execute_result",
          "data": {
            "text/html": [
              "<div>\n",
              "<style scoped>\n",
              "    .dataframe tbody tr th:only-of-type {\n",
              "        vertical-align: middle;\n",
              "    }\n",
              "\n",
              "    .dataframe tbody tr th {\n",
              "        vertical-align: top;\n",
              "    }\n",
              "\n",
              "    .dataframe thead th {\n",
              "        text-align: right;\n",
              "    }\n",
              "</style>\n",
              "<table border=\"1\" class=\"dataframe\">\n",
              "  <thead>\n",
              "    <tr style=\"text-align: right;\">\n",
              "      <th></th>\n",
              "      <th>CITY</th>\n",
              "      <th>Cust Type</th>\n",
              "      <th>Customer No.</th>\n",
              "      <th>District</th>\n",
              "      <th>Invoice Date</th>\n",
              "      <th>Invoice No</th>\n",
              "      <th>Invoice Time</th>\n",
              "      <th>Job Card No</th>\n",
              "      <th>JobCard Date</th>\n",
              "      <th>JobCard Time</th>\n",
              "      <th>KMs Reading</th>\n",
              "      <th>Labour Total</th>\n",
              "      <th>Make</th>\n",
              "      <th>Misc Total</th>\n",
              "      <th>Model</th>\n",
              "      <th>OSL Total</th>\n",
              "      <th>Order Type</th>\n",
              "      <th>Parts Total</th>\n",
              "      <th>Pin code</th>\n",
              "      <th>Plant</th>\n",
              "      <th>Plant Name1</th>\n",
              "      <th>Total Amt Wtd Tax.</th>\n",
              "      <th>User ID</th>\n",
              "      <th>Partner Type</th>\n",
              "      <th>Data Origin</th>\n",
              "      <th>Title</th>\n",
              "      <th>Vehicle Model</th>\n",
              "      <th>License Plate Number</th>\n",
              "      <th>Fuel Type</th>\n",
              "      <th>Name 1</th>\n",
              "      <th>Postal Code</th>\n",
              "      <th>City</th>\n",
              "      <th>State</th>\n",
              "    </tr>\n",
              "  </thead>\n",
              "  <tbody>\n",
              "    <tr>\n",
              "      <th>0</th>\n",
              "      <td>Nashik</td>\n",
              "      <td>Retail</td>\n",
              "      <td>E14006</td>\n",
              "      <td>Maharashtra</td>\n",
              "      <td>2017-04-14</td>\n",
              "      <td>7164601412</td>\n",
              "      <td>15:29:52</td>\n",
              "      <td>674656</td>\n",
              "      <td>2017-04-13</td>\n",
              "      <td>17:09:17</td>\n",
              "      <td>35165</td>\n",
              "      <td>579.13</td>\n",
              "      <td>HONDA</td>\n",
              "      <td>0.0</td>\n",
              "      <td>CITY</td>\n",
              "      <td>0.0</td>\n",
              "      <td>Paid Service</td>\n",
              "      <td>40.54</td>\n",
              "      <td>422000</td>\n",
              "      <td>X073</td>\n",
              "      <td>X073- KRITI AUTOMOBILE REPAIR</td>\n",
              "      <td>619.67</td>\n",
              "      <td>X073SA1</td>\n",
              "      <td>1.0</td>\n",
              "      <td>Z001</td>\n",
              "      <td>2.0</td>\n",
              "      <td>Z_HONDA</td>\n",
              "      <td>MH15EB5067</td>\n",
              "      <td>2</td>\n",
              "      <td>X073- KRITI AUTOMOBILE REPAIR</td>\n",
              "      <td>422007</td>\n",
              "      <td>Nashik</td>\n",
              "      <td>Maharashtra</td>\n",
              "    </tr>\n",
              "    <tr>\n",
              "      <th>1</th>\n",
              "      <td>Nashik</td>\n",
              "      <td>Retail</td>\n",
              "      <td>E14006</td>\n",
              "      <td>Maharashtra</td>\n",
              "      <td>2017-07-26</td>\n",
              "      <td>7164602068</td>\n",
              "      <td>12:07:36</td>\n",
              "      <td>809011</td>\n",
              "      <td>2017-07-26</td>\n",
              "      <td>11:01:16</td>\n",
              "      <td>36165</td>\n",
              "      <td>3.46</td>\n",
              "      <td>HONDA</td>\n",
              "      <td>0.0</td>\n",
              "      <td>CITY</td>\n",
              "      <td>0.0</td>\n",
              "      <td>Running Repairs</td>\n",
              "      <td>0.00</td>\n",
              "      <td>422000</td>\n",
              "      <td>X073</td>\n",
              "      <td>X073- KRITI AUTOMOBILE REPAIR</td>\n",
              "      <td>3.46</td>\n",
              "      <td>X073SA1</td>\n",
              "      <td>1.0</td>\n",
              "      <td>Z001</td>\n",
              "      <td>2.0</td>\n",
              "      <td>Z_HONDA</td>\n",
              "      <td>MH15EB5067</td>\n",
              "      <td>2</td>\n",
              "      <td>X073- KRITI AUTOMOBILE REPAIR</td>\n",
              "      <td>422007</td>\n",
              "      <td>Nashik</td>\n",
              "      <td>Maharashtra</td>\n",
              "    </tr>\n",
              "    <tr>\n",
              "      <th>2</th>\n",
              "      <td>Nashik</td>\n",
              "      <td>Retail</td>\n",
              "      <td>E27136</td>\n",
              "      <td>Maharashtra</td>\n",
              "      <td>2017-08-16</td>\n",
              "      <td>7164602334</td>\n",
              "      <td>18:49:05</td>\n",
              "      <td>836012</td>\n",
              "      <td>2017-08-16</td>\n",
              "      <td>16:16:12</td>\n",
              "      <td>89944</td>\n",
              "      <td>3.46</td>\n",
              "      <td>MARUTI SUZUKI</td>\n",
              "      <td>0.0</td>\n",
              "      <td>WAGONR</td>\n",
              "      <td>0.0</td>\n",
              "      <td>Paid Service</td>\n",
              "      <td>0.00</td>\n",
              "      <td>422009</td>\n",
              "      <td>X073</td>\n",
              "      <td>X073- KRITI AUTOMOBILE REPAIR</td>\n",
              "      <td>3.46</td>\n",
              "      <td>X073SA1</td>\n",
              "      <td>1.0</td>\n",
              "      <td>Z001</td>\n",
              "      <td>2.0</td>\n",
              "      <td>Z_MARUTI</td>\n",
              "      <td>MH04BK0425</td>\n",
              "      <td>2</td>\n",
              "      <td>X073- KRITI AUTOMOBILE REPAIR</td>\n",
              "      <td>422007</td>\n",
              "      <td>Nashik</td>\n",
              "      <td>Maharashtra</td>\n",
              "    </tr>\n",
              "    <tr>\n",
              "      <th>3</th>\n",
              "      <td>Pune</td>\n",
              "      <td>Retail</td>\n",
              "      <td>E26786</td>\n",
              "      <td>Maharashtra</td>\n",
              "      <td>2017-03-18</td>\n",
              "      <td>7164601170</td>\n",
              "      <td>14:46:31</td>\n",
              "      <td>626932</td>\n",
              "      <td>2017-03-04</td>\n",
              "      <td>11:41:33</td>\n",
              "      <td>30796</td>\n",
              "      <td>150.48</td>\n",
              "      <td>MARUTI SUZUKI</td>\n",
              "      <td>0.0</td>\n",
              "      <td>WAGONR</td>\n",
              "      <td>0.0</td>\n",
              "      <td>Running Repairs</td>\n",
              "      <td>0.00</td>\n",
              "      <td>411056</td>\n",
              "      <td>X073</td>\n",
              "      <td>X073- KRITI AUTOMOBILE REPAIR</td>\n",
              "      <td>150.48</td>\n",
              "      <td>X073SA1</td>\n",
              "      <td>1.0</td>\n",
              "      <td>Z001</td>\n",
              "      <td>2.0</td>\n",
              "      <td>Z_MARUTI</td>\n",
              "      <td>MH15EB6209</td>\n",
              "      <td>1</td>\n",
              "      <td>X073- KRITI AUTOMOBILE REPAIR</td>\n",
              "      <td>422007</td>\n",
              "      <td>Nashik</td>\n",
              "      <td>Maharashtra</td>\n",
              "    </tr>\n",
              "    <tr>\n",
              "      <th>4</th>\n",
              "      <td>NASIK</td>\n",
              "      <td>Retail</td>\n",
              "      <td>131</td>\n",
              "      <td>Maharashtra</td>\n",
              "      <td>2016-12-31</td>\n",
              "      <td>7164600695</td>\n",
              "      <td>11:55:07</td>\n",
              "      <td>554552</td>\n",
              "      <td>2016-12-28</td>\n",
              "      <td>16:50:13</td>\n",
              "      <td>177260</td>\n",
              "      <td>1519.08</td>\n",
              "      <td>MARUTI SUZUKI</td>\n",
              "      <td>0.0</td>\n",
              "      <td>ALTO</td>\n",
              "      <td>0.0</td>\n",
              "      <td>Paid Service</td>\n",
              "      <td>889.92</td>\n",
              "      <td>422000</td>\n",
              "      <td>X073</td>\n",
              "      <td>X073- KRITI AUTOMOBILE REPAIR</td>\n",
              "      <td>2409.00</td>\n",
              "      <td>X073SA1</td>\n",
              "      <td>1.0</td>\n",
              "      <td>Z005</td>\n",
              "      <td>2.0</td>\n",
              "      <td>Z_MARUTI</td>\n",
              "      <td>MH15BD6287</td>\n",
              "      <td>1</td>\n",
              "      <td>X073- KRITI AUTOMOBILE REPAIR</td>\n",
              "      <td>422007</td>\n",
              "      <td>Nashik</td>\n",
              "      <td>Maharashtra</td>\n",
              "    </tr>\n",
              "  </tbody>\n",
              "</table>\n",
              "</div>"
            ],
            "text/plain": [
              "     CITY Cust Type Customer No.  ... Postal Code    City        State\n",
              "0  Nashik    Retail       E14006  ...      422007  Nashik  Maharashtra\n",
              "1  Nashik    Retail       E14006  ...      422007  Nashik  Maharashtra\n",
              "2  Nashik    Retail       E27136  ...      422007  Nashik  Maharashtra\n",
              "3    Pune    Retail       E26786  ...      422007  Nashik  Maharashtra\n",
              "4   NASIK    Retail          131  ...      422007  Nashik  Maharashtra\n",
              "\n",
              "[5 rows x 33 columns]"
            ]
          },
          "metadata": {
            "tags": []
          },
          "execution_count": 186
        }
      ]
    },
    {
      "cell_type": "code",
      "metadata": {
        "id": "uzWSlzcuDFqd",
        "colab_type": "code",
        "colab": {}
      },
      "source": [
        "invoice_customer_vehicles_plant['Fuel Type'] = invoice_customer_vehicles_plant['Fuel Type'].astype(int)"
      ],
      "execution_count": 0,
      "outputs": []
    },
    {
      "cell_type": "code",
      "metadata": {
        "id": "hgLWLRlrDXhE",
        "colab_type": "code",
        "outputId": "47d565df-dbb4-4e7b-e03c-2b0ed89f7dc8",
        "colab": {
          "base_uri": "https://localhost:8080/",
          "height": 119
        }
      },
      "source": [
        "(invoice_customer_vehicles_plant['Fuel Type'].value_counts()/len(invoice_customer_vehicles_plant['Fuel Type']))*100"
      ],
      "execution_count": 0,
      "outputs": [
        {
          "output_type": "execute_result",
          "data": {
            "text/plain": [
              "2    63.509460\n",
              "1    33.995787\n",
              "3     1.524198\n",
              "4     0.968135\n",
              "5     0.002420\n",
              "Name: Fuel Type, dtype: float64"
            ]
          },
          "metadata": {
            "tags": []
          },
          "execution_count": 188
        }
      ]
    },
    {
      "cell_type": "code",
      "metadata": {
        "id": "EoJbcAPpv-uD",
        "colab_type": "code",
        "outputId": "8a3ec096-856f-41ff-a151-397e2d5fa99b",
        "colab": {
          "base_uri": "https://localhost:8080/",
          "height": 34
        }
      },
      "source": [
        "invoice_customer_vehicles_plant.shape"
      ],
      "execution_count": 0,
      "outputs": [
        {
          "output_type": "execute_result",
          "data": {
            "text/plain": [
              "(743801, 33)"
            ]
          },
          "metadata": {
            "tags": []
          },
          "execution_count": 189
        }
      ]
    },
    {
      "cell_type": "code",
      "metadata": {
        "id": "l_gyEZDhw2hM",
        "colab_type": "code",
        "outputId": "dcd5669f-abad-4e4f-e7a8-94afc7f9232d",
        "colab": {
          "base_uri": "https://localhost:8080/",
          "height": 334
        }
      },
      "source": [
        "invoice_customer_vehicles_plant.describe()"
      ],
      "execution_count": 0,
      "outputs": [
        {
          "output_type": "execute_result",
          "data": {
            "text/html": [
              "<div>\n",
              "<style scoped>\n",
              "    .dataframe tbody tr th:only-of-type {\n",
              "        vertical-align: middle;\n",
              "    }\n",
              "\n",
              "    .dataframe tbody tr th {\n",
              "        vertical-align: top;\n",
              "    }\n",
              "\n",
              "    .dataframe thead th {\n",
              "        text-align: right;\n",
              "    }\n",
              "</style>\n",
              "<table border=\"1\" class=\"dataframe\">\n",
              "  <thead>\n",
              "    <tr style=\"text-align: right;\">\n",
              "      <th></th>\n",
              "      <th>Invoice No</th>\n",
              "      <th>Job Card No</th>\n",
              "      <th>KMs Reading</th>\n",
              "      <th>Labour Total</th>\n",
              "      <th>Misc Total</th>\n",
              "      <th>OSL Total</th>\n",
              "      <th>Parts Total</th>\n",
              "      <th>Pin code</th>\n",
              "      <th>Total Amt Wtd Tax.</th>\n",
              "      <th>Partner Type</th>\n",
              "      <th>Title</th>\n",
              "      <th>Fuel Type</th>\n",
              "      <th>Postal Code</th>\n",
              "    </tr>\n",
              "  </thead>\n",
              "  <tbody>\n",
              "    <tr>\n",
              "      <th>count</th>\n",
              "      <td>7.438010e+05</td>\n",
              "      <td>7.438010e+05</td>\n",
              "      <td>7.438010e+05</td>\n",
              "      <td>743801.000000</td>\n",
              "      <td>743801.000000</td>\n",
              "      <td>743801.000000</td>\n",
              "      <td>743801.000000</td>\n",
              "      <td>743801.000000</td>\n",
              "      <td>743801.000000</td>\n",
              "      <td>743801.000000</td>\n",
              "      <td>743801.000000</td>\n",
              "      <td>743801.000000</td>\n",
              "      <td>743801.000000</td>\n",
              "    </tr>\n",
              "    <tr>\n",
              "      <th>mean</th>\n",
              "      <td>7.183450e+09</td>\n",
              "      <td>6.098939e+05</td>\n",
              "      <td>8.416413e+04</td>\n",
              "      <td>1530.608330</td>\n",
              "      <td>291.219836</td>\n",
              "      <td>76.105915</td>\n",
              "      <td>2218.535148</td>\n",
              "      <td>471388.503781</td>\n",
              "      <td>4116.469230</td>\n",
              "      <td>1.231200</td>\n",
              "      <td>1.952764</td>\n",
              "      <td>1.694719</td>\n",
              "      <td>478618.281046</td>\n",
              "    </tr>\n",
              "    <tr>\n",
              "      <th>std</th>\n",
              "      <td>4.735438e+07</td>\n",
              "      <td>2.304533e+05</td>\n",
              "      <td>1.430325e+05</td>\n",
              "      <td>4828.993265</td>\n",
              "      <td>2435.280185</td>\n",
              "      <td>1055.780333</td>\n",
              "      <td>7810.100921</td>\n",
              "      <td>187263.159601</td>\n",
              "      <td>11360.422771</td>\n",
              "      <td>45.491633</td>\n",
              "      <td>0.212143</td>\n",
              "      <td>0.548587</td>\n",
              "      <td>179724.614738</td>\n",
              "    </tr>\n",
              "    <tr>\n",
              "      <th>min</th>\n",
              "      <td>7.000000e+09</td>\n",
              "      <td>1.190000e+02</td>\n",
              "      <td>1.000000e+00</td>\n",
              "      <td>-164.950000</td>\n",
              "      <td>-0.060000</td>\n",
              "      <td>0.000000</td>\n",
              "      <td>-2343.200000</td>\n",
              "      <td>0.000000</td>\n",
              "      <td>-2342.200000</td>\n",
              "      <td>1.000000</td>\n",
              "      <td>1.000000</td>\n",
              "      <td>1.000000</td>\n",
              "      <td>121006.000000</td>\n",
              "    </tr>\n",
              "    <tr>\n",
              "      <th>25%</th>\n",
              "      <td>7.159801e+09</td>\n",
              "      <td>4.254400e+05</td>\n",
              "      <td>3.606100e+04</td>\n",
              "      <td>0.010000</td>\n",
              "      <td>0.000000</td>\n",
              "      <td>0.000000</td>\n",
              "      <td>0.000000</td>\n",
              "      <td>333026.000000</td>\n",
              "      <td>221.560000</td>\n",
              "      <td>1.000000</td>\n",
              "      <td>2.000000</td>\n",
              "      <td>1.000000</td>\n",
              "      <td>342001.000000</td>\n",
              "    </tr>\n",
              "    <tr>\n",
              "      <th>50%</th>\n",
              "      <td>7.179401e+09</td>\n",
              "      <td>6.160930e+05</td>\n",
              "      <td>6.439100e+04</td>\n",
              "      <td>349.960000</td>\n",
              "      <td>0.000000</td>\n",
              "      <td>0.000000</td>\n",
              "      <td>148.390000</td>\n",
              "      <td>485001.000000</td>\n",
              "      <td>1105.200000</td>\n",
              "      <td>1.000000</td>\n",
              "      <td>2.000000</td>\n",
              "      <td>2.000000</td>\n",
              "      <td>500050.000000</td>\n",
              "    </tr>\n",
              "    <tr>\n",
              "      <th>75%</th>\n",
              "      <td>7.214001e+09</td>\n",
              "      <td>8.056700e+05</td>\n",
              "      <td>1.005160e+05</td>\n",
              "      <td>1244.250000</td>\n",
              "      <td>0.000000</td>\n",
              "      <td>0.000000</td>\n",
              "      <td>1981.000000</td>\n",
              "      <td>608001.000000</td>\n",
              "      <td>3925.150000</td>\n",
              "      <td>1.000000</td>\n",
              "      <td>2.000000</td>\n",
              "      <td>2.000000</td>\n",
              "      <td>608001.000000</td>\n",
              "    </tr>\n",
              "    <tr>\n",
              "      <th>max</th>\n",
              "      <td>7.309000e+09</td>\n",
              "      <td>1.001292e+06</td>\n",
              "      <td>9.999999e+06</td>\n",
              "      <td>434000.000000</td>\n",
              "      <td>355200.060000</td>\n",
              "      <td>99974.800000</td>\n",
              "      <td>640296.060000</td>\n",
              "      <td>999999.000000</td>\n",
              "      <td>720296.070000</td>\n",
              "      <td>9003.000000</td>\n",
              "      <td>2.000000</td>\n",
              "      <td>5.000000</td>\n",
              "      <td>999999.000000</td>\n",
              "    </tr>\n",
              "  </tbody>\n",
              "</table>\n",
              "</div>"
            ],
            "text/plain": [
              "         Invoice No   Job Card No  ...      Fuel Type    Postal Code\n",
              "count  7.438010e+05  7.438010e+05  ...  743801.000000  743801.000000\n",
              "mean   7.183450e+09  6.098939e+05  ...       1.694719  478618.281046\n",
              "std    4.735438e+07  2.304533e+05  ...       0.548587  179724.614738\n",
              "min    7.000000e+09  1.190000e+02  ...       1.000000  121006.000000\n",
              "25%    7.159801e+09  4.254400e+05  ...       1.000000  342001.000000\n",
              "50%    7.179401e+09  6.160930e+05  ...       2.000000  500050.000000\n",
              "75%    7.214001e+09  8.056700e+05  ...       2.000000  608001.000000\n",
              "max    7.309000e+09  1.001292e+06  ...       5.000000  999999.000000\n",
              "\n",
              "[8 rows x 13 columns]"
            ]
          },
          "metadata": {
            "tags": []
          },
          "execution_count": 190
        }
      ]
    },
    {
      "cell_type": "code",
      "metadata": {
        "id": "tE1NjTNX1kVg",
        "colab_type": "code",
        "outputId": "80ea8545-3762-4278-8264-21640bc32f0a",
        "colab": {
          "base_uri": "https://localhost:8080/",
          "height": 170
        }
      },
      "source": [
        "invoice_customer_vehicles_plant.shape, invoice_customer_vehicles_plant.columns"
      ],
      "execution_count": 0,
      "outputs": [
        {
          "output_type": "execute_result",
          "data": {
            "text/plain": [
              "((743801, 33),\n",
              " Index(['CITY', 'Cust Type', 'Customer No.', 'District', 'Invoice Date',\n",
              "        'Invoice No', 'Invoice Time', 'Job Card No', 'JobCard Date',\n",
              "        'JobCard Time', 'KMs Reading', 'Labour Total', 'Make', 'Misc Total',\n",
              "        'Model', 'OSL Total', 'Order Type', 'Parts Total', 'Pin code', 'Plant',\n",
              "        'Plant Name1', 'Total Amt Wtd Tax.', 'User ID', 'Partner Type',\n",
              "        'Data Origin', 'Title', 'Vehicle Model', 'License Plate Number',\n",
              "        'Fuel Type', 'Name 1', 'Postal Code', 'City', 'State'],\n",
              "       dtype='object'))"
            ]
          },
          "metadata": {
            "tags": []
          },
          "execution_count": 191
        }
      ]
    },
    {
      "cell_type": "code",
      "metadata": {
        "id": "ZWWfsFxoJ7it",
        "colab_type": "code",
        "colab": {}
      },
      "source": [
        "invoice_customer_vehicles_plant['Invoice Date'] = pd.to_datetime(invoice_customer_vehicles_plant['Invoice Date'])"
      ],
      "execution_count": 0,
      "outputs": []
    },
    {
      "cell_type": "code",
      "metadata": {
        "id": "Zg7fAiE3KC9A",
        "colab_type": "code",
        "colab": {}
      },
      "source": [
        "invoice_customer_vehicles_plant['Invoice Date Time'] = invoice_customer_vehicles_plant['Invoice Date'].astype(str).str.cat(invoice_customer_vehicles_plant[['Invoice Time']].astype(str),sep=' ')"
      ],
      "execution_count": 0,
      "outputs": []
    },
    {
      "cell_type": "code",
      "metadata": {
        "id": "OGPO7y71Kgz2",
        "colab_type": "code",
        "colab": {}
      },
      "source": [
        "invoice_customer_vehicles_plant['JobCard Date'] =  pd.to_datetime(invoice_customer_vehicles_plant['JobCard Date'])"
      ],
      "execution_count": 0,
      "outputs": []
    },
    {
      "cell_type": "code",
      "metadata": {
        "id": "GGrHn9ohKnz6",
        "colab_type": "code",
        "colab": {}
      },
      "source": [
        "invoice_customer_vehicles_plant['JobCard Date Time'] = invoice_customer_vehicles_plant['JobCard Date'].astype(str).str.cat(invoice_customer_vehicles_plant[['JobCard Time']].astype(str), sep=' ')"
      ],
      "execution_count": 0,
      "outputs": []
    },
    {
      "cell_type": "code",
      "metadata": {
        "id": "vU7on3Qt1uTh",
        "colab_type": "code",
        "outputId": "282c05ba-9afa-4b52-cb8f-4e15bf861725",
        "colab": {
          "base_uri": "https://localhost:8080/",
          "height": 204
        }
      },
      "source": [
        "invoice_customer_vehicles_plant.loc[:, ['JobCard Date Time', 'JobCard Date','JobCard Time']].head()"
      ],
      "execution_count": 0,
      "outputs": [
        {
          "output_type": "execute_result",
          "data": {
            "text/html": [
              "<div>\n",
              "<style scoped>\n",
              "    .dataframe tbody tr th:only-of-type {\n",
              "        vertical-align: middle;\n",
              "    }\n",
              "\n",
              "    .dataframe tbody tr th {\n",
              "        vertical-align: top;\n",
              "    }\n",
              "\n",
              "    .dataframe thead th {\n",
              "        text-align: right;\n",
              "    }\n",
              "</style>\n",
              "<table border=\"1\" class=\"dataframe\">\n",
              "  <thead>\n",
              "    <tr style=\"text-align: right;\">\n",
              "      <th></th>\n",
              "      <th>JobCard Date Time</th>\n",
              "      <th>JobCard Date</th>\n",
              "      <th>JobCard Time</th>\n",
              "    </tr>\n",
              "  </thead>\n",
              "  <tbody>\n",
              "    <tr>\n",
              "      <th>0</th>\n",
              "      <td>2017-04-13 17:09:17</td>\n",
              "      <td>2017-04-13</td>\n",
              "      <td>17:09:17</td>\n",
              "    </tr>\n",
              "    <tr>\n",
              "      <th>1</th>\n",
              "      <td>2017-07-26 11:01:16</td>\n",
              "      <td>2017-07-26</td>\n",
              "      <td>11:01:16</td>\n",
              "    </tr>\n",
              "    <tr>\n",
              "      <th>2</th>\n",
              "      <td>2017-08-16 16:16:12</td>\n",
              "      <td>2017-08-16</td>\n",
              "      <td>16:16:12</td>\n",
              "    </tr>\n",
              "    <tr>\n",
              "      <th>3</th>\n",
              "      <td>2017-03-04 11:41:33</td>\n",
              "      <td>2017-03-04</td>\n",
              "      <td>11:41:33</td>\n",
              "    </tr>\n",
              "    <tr>\n",
              "      <th>4</th>\n",
              "      <td>2016-12-28 16:50:13</td>\n",
              "      <td>2016-12-28</td>\n",
              "      <td>16:50:13</td>\n",
              "    </tr>\n",
              "  </tbody>\n",
              "</table>\n",
              "</div>"
            ],
            "text/plain": [
              "     JobCard Date Time JobCard Date JobCard Time\n",
              "0  2017-04-13 17:09:17   2017-04-13     17:09:17\n",
              "1  2017-07-26 11:01:16   2017-07-26     11:01:16\n",
              "2  2017-08-16 16:16:12   2017-08-16     16:16:12\n",
              "3  2017-03-04 11:41:33   2017-03-04     11:41:33\n",
              "4  2016-12-28 16:50:13   2016-12-28     16:50:13"
            ]
          },
          "metadata": {
            "tags": []
          },
          "execution_count": 196
        }
      ]
    },
    {
      "cell_type": "code",
      "metadata": {
        "id": "W-uk27pwLcpo",
        "colab_type": "code",
        "outputId": "1afb44ac-62b0-4372-ce9c-afa03aaf5b73",
        "colab": {
          "base_uri": "https://localhost:8080/",
          "height": 204
        }
      },
      "source": [
        "invoice_customer_vehicles_plant.loc[:, ['Invoice Date Time', 'Invoice Date','Invoice Time']].head()"
      ],
      "execution_count": 0,
      "outputs": [
        {
          "output_type": "execute_result",
          "data": {
            "text/html": [
              "<div>\n",
              "<style scoped>\n",
              "    .dataframe tbody tr th:only-of-type {\n",
              "        vertical-align: middle;\n",
              "    }\n",
              "\n",
              "    .dataframe tbody tr th {\n",
              "        vertical-align: top;\n",
              "    }\n",
              "\n",
              "    .dataframe thead th {\n",
              "        text-align: right;\n",
              "    }\n",
              "</style>\n",
              "<table border=\"1\" class=\"dataframe\">\n",
              "  <thead>\n",
              "    <tr style=\"text-align: right;\">\n",
              "      <th></th>\n",
              "      <th>Invoice Date Time</th>\n",
              "      <th>Invoice Date</th>\n",
              "      <th>Invoice Time</th>\n",
              "    </tr>\n",
              "  </thead>\n",
              "  <tbody>\n",
              "    <tr>\n",
              "      <th>0</th>\n",
              "      <td>2017-04-14 15:29:52</td>\n",
              "      <td>2017-04-14</td>\n",
              "      <td>15:29:52</td>\n",
              "    </tr>\n",
              "    <tr>\n",
              "      <th>1</th>\n",
              "      <td>2017-07-26 12:07:36</td>\n",
              "      <td>2017-07-26</td>\n",
              "      <td>12:07:36</td>\n",
              "    </tr>\n",
              "    <tr>\n",
              "      <th>2</th>\n",
              "      <td>2017-08-16 18:49:05</td>\n",
              "      <td>2017-08-16</td>\n",
              "      <td>18:49:05</td>\n",
              "    </tr>\n",
              "    <tr>\n",
              "      <th>3</th>\n",
              "      <td>2017-03-18 14:46:31</td>\n",
              "      <td>2017-03-18</td>\n",
              "      <td>14:46:31</td>\n",
              "    </tr>\n",
              "    <tr>\n",
              "      <th>4</th>\n",
              "      <td>2016-12-31 11:55:07</td>\n",
              "      <td>2016-12-31</td>\n",
              "      <td>11:55:07</td>\n",
              "    </tr>\n",
              "  </tbody>\n",
              "</table>\n",
              "</div>"
            ],
            "text/plain": [
              "     Invoice Date Time Invoice Date Invoice Time\n",
              "0  2017-04-14 15:29:52   2017-04-14     15:29:52\n",
              "1  2017-07-26 12:07:36   2017-07-26     12:07:36\n",
              "2  2017-08-16 18:49:05   2017-08-16     18:49:05\n",
              "3  2017-03-18 14:46:31   2017-03-18     14:46:31\n",
              "4  2016-12-31 11:55:07   2016-12-31     11:55:07"
            ]
          },
          "metadata": {
            "tags": []
          },
          "execution_count": 197
        }
      ]
    },
    {
      "cell_type": "code",
      "metadata": {
        "id": "9y6CQMMvLgpK",
        "colab_type": "code",
        "colab": {}
      },
      "source": [
        "invoice_customer_vehicles_plant['Invoice Date Time'] = pd.to_datetime(invoice_customer_vehicles_plant['Invoice Date Time'])"
      ],
      "execution_count": 0,
      "outputs": []
    },
    {
      "cell_type": "code",
      "metadata": {
        "id": "reiTdg60LuOU",
        "colab_type": "code",
        "colab": {}
      },
      "source": [
        "invoice_customer_vehicles_plant['JobCard Date Time'] = pd.to_datetime(invoice_customer_vehicles_plant['JobCard Date Time'])"
      ],
      "execution_count": 0,
      "outputs": []
    },
    {
      "cell_type": "code",
      "metadata": {
        "id": "tmqSn4ydL1G-",
        "colab_type": "code",
        "colab": {}
      },
      "source": [
        "invoice_customer_vehicles_plant['ServiceTime'] = invoice_customer_vehicles_plant['Invoice Date Time']-invoice_customer_vehicles_plant['JobCard Date Time']"
      ],
      "execution_count": 0,
      "outputs": []
    },
    {
      "cell_type": "code",
      "metadata": {
        "id": "SnuRQvgYL9iS",
        "colab_type": "code",
        "outputId": "b2669e61-e49c-4705-a7bf-0619152d6180",
        "colab": {
          "base_uri": "https://localhost:8080/",
          "height": 204
        }
      },
      "source": [
        "invoice_customer_vehicles_plant.loc[:, ['ServiceTime']].head()"
      ],
      "execution_count": 0,
      "outputs": [
        {
          "output_type": "execute_result",
          "data": {
            "text/html": [
              "<div>\n",
              "<style scoped>\n",
              "    .dataframe tbody tr th:only-of-type {\n",
              "        vertical-align: middle;\n",
              "    }\n",
              "\n",
              "    .dataframe tbody tr th {\n",
              "        vertical-align: top;\n",
              "    }\n",
              "\n",
              "    .dataframe thead th {\n",
              "        text-align: right;\n",
              "    }\n",
              "</style>\n",
              "<table border=\"1\" class=\"dataframe\">\n",
              "  <thead>\n",
              "    <tr style=\"text-align: right;\">\n",
              "      <th></th>\n",
              "      <th>ServiceTime</th>\n",
              "    </tr>\n",
              "  </thead>\n",
              "  <tbody>\n",
              "    <tr>\n",
              "      <th>0</th>\n",
              "      <td>0 days 22:20:35</td>\n",
              "    </tr>\n",
              "    <tr>\n",
              "      <th>1</th>\n",
              "      <td>0 days 01:06:20</td>\n",
              "    </tr>\n",
              "    <tr>\n",
              "      <th>2</th>\n",
              "      <td>0 days 02:32:53</td>\n",
              "    </tr>\n",
              "    <tr>\n",
              "      <th>3</th>\n",
              "      <td>14 days 03:04:58</td>\n",
              "    </tr>\n",
              "    <tr>\n",
              "      <th>4</th>\n",
              "      <td>2 days 19:04:54</td>\n",
              "    </tr>\n",
              "  </tbody>\n",
              "</table>\n",
              "</div>"
            ],
            "text/plain": [
              "       ServiceTime\n",
              "0  0 days 22:20:35\n",
              "1  0 days 01:06:20\n",
              "2  0 days 02:32:53\n",
              "3 14 days 03:04:58\n",
              "4  2 days 19:04:54"
            ]
          },
          "metadata": {
            "tags": []
          },
          "execution_count": 201
        }
      ]
    },
    {
      "cell_type": "code",
      "metadata": {
        "id": "oCjeRouZMNZi",
        "colab_type": "code",
        "outputId": "7b65013f-bd59-410c-feca-1532d8b08039",
        "colab": {
          "base_uri": "https://localhost:8080/",
          "height": 297
        }
      },
      "source": [
        "invoice_customer_vehicles_plant.loc[:, ['ServiceTime']].describe()"
      ],
      "execution_count": 0,
      "outputs": [
        {
          "output_type": "execute_result",
          "data": {
            "text/html": [
              "<div>\n",
              "<style scoped>\n",
              "    .dataframe tbody tr th:only-of-type {\n",
              "        vertical-align: middle;\n",
              "    }\n",
              "\n",
              "    .dataframe tbody tr th {\n",
              "        vertical-align: top;\n",
              "    }\n",
              "\n",
              "    .dataframe thead th {\n",
              "        text-align: right;\n",
              "    }\n",
              "</style>\n",
              "<table border=\"1\" class=\"dataframe\">\n",
              "  <thead>\n",
              "    <tr style=\"text-align: right;\">\n",
              "      <th></th>\n",
              "      <th>ServiceTime</th>\n",
              "    </tr>\n",
              "  </thead>\n",
              "  <tbody>\n",
              "    <tr>\n",
              "      <th>count</th>\n",
              "      <td>743801</td>\n",
              "    </tr>\n",
              "    <tr>\n",
              "      <th>mean</th>\n",
              "      <td>4 days 14:12:20.529961</td>\n",
              "    </tr>\n",
              "    <tr>\n",
              "      <th>std</th>\n",
              "      <td>14 days 09:21:48.693044</td>\n",
              "    </tr>\n",
              "    <tr>\n",
              "      <th>min</th>\n",
              "      <td>-1 days +23:59:27</td>\n",
              "    </tr>\n",
              "    <tr>\n",
              "      <th>25%</th>\n",
              "      <td>0 days 01:34:17</td>\n",
              "    </tr>\n",
              "    <tr>\n",
              "      <th>50%</th>\n",
              "      <td>0 days 06:54:15</td>\n",
              "    </tr>\n",
              "    <tr>\n",
              "      <th>75%</th>\n",
              "      <td>3 days 01:07:20</td>\n",
              "    </tr>\n",
              "    <tr>\n",
              "      <th>max</th>\n",
              "      <td>650 days 01:10:26</td>\n",
              "    </tr>\n",
              "  </tbody>\n",
              "</table>\n",
              "</div>"
            ],
            "text/plain": [
              "                   ServiceTime\n",
              "count                   743801\n",
              "mean    4 days 14:12:20.529961\n",
              "std    14 days 09:21:48.693044\n",
              "min          -1 days +23:59:27\n",
              "25%            0 days 01:34:17\n",
              "50%            0 days 06:54:15\n",
              "75%            3 days 01:07:20\n",
              "max          650 days 01:10:26"
            ]
          },
          "metadata": {
            "tags": []
          },
          "execution_count": 202
        }
      ]
    },
    {
      "cell_type": "code",
      "metadata": {
        "id": "CTH6E6IcMVii",
        "colab_type": "code",
        "colab": {}
      },
      "source": [
        "invoice_customer_vehicles_plant = invoice_customer_vehicles_plant.loc[invoice_customer_vehicles_plant['ServiceTime']>pd.Timedelta(hours=0),:]"
      ],
      "execution_count": 0,
      "outputs": []
    },
    {
      "cell_type": "code",
      "metadata": {
        "id": "U3KP90vEMlNt",
        "colab_type": "code",
        "outputId": "99eb3bb2-a47a-4c61-8f60-5af3692bcb26",
        "colab": {
          "base_uri": "https://localhost:8080/",
          "height": 297
        }
      },
      "source": [
        "invoice_customer_vehicles_plant.loc[:, ['ServiceTime']].describe()"
      ],
      "execution_count": 0,
      "outputs": [
        {
          "output_type": "execute_result",
          "data": {
            "text/html": [
              "<div>\n",
              "<style scoped>\n",
              "    .dataframe tbody tr th:only-of-type {\n",
              "        vertical-align: middle;\n",
              "    }\n",
              "\n",
              "    .dataframe tbody tr th {\n",
              "        vertical-align: top;\n",
              "    }\n",
              "\n",
              "    .dataframe thead th {\n",
              "        text-align: right;\n",
              "    }\n",
              "</style>\n",
              "<table border=\"1\" class=\"dataframe\">\n",
              "  <thead>\n",
              "    <tr style=\"text-align: right;\">\n",
              "      <th></th>\n",
              "      <th>ServiceTime</th>\n",
              "    </tr>\n",
              "  </thead>\n",
              "  <tbody>\n",
              "    <tr>\n",
              "      <th>count</th>\n",
              "      <td>743800</td>\n",
              "    </tr>\n",
              "    <tr>\n",
              "      <th>mean</th>\n",
              "      <td>4 days 14:12:21.063402</td>\n",
              "    </tr>\n",
              "    <tr>\n",
              "      <th>std</th>\n",
              "      <td>14 days 09:21:49.443709</td>\n",
              "    </tr>\n",
              "    <tr>\n",
              "      <th>min</th>\n",
              "      <td>0 days 00:00:36</td>\n",
              "    </tr>\n",
              "    <tr>\n",
              "      <th>25%</th>\n",
              "      <td>0 days 01:34:17</td>\n",
              "    </tr>\n",
              "    <tr>\n",
              "      <th>50%</th>\n",
              "      <td>0 days 06:54:15</td>\n",
              "    </tr>\n",
              "    <tr>\n",
              "      <th>75%</th>\n",
              "      <td>3 days 01:07:20.250000</td>\n",
              "    </tr>\n",
              "    <tr>\n",
              "      <th>max</th>\n",
              "      <td>650 days 01:10:26</td>\n",
              "    </tr>\n",
              "  </tbody>\n",
              "</table>\n",
              "</div>"
            ],
            "text/plain": [
              "                   ServiceTime\n",
              "count                   743800\n",
              "mean    4 days 14:12:21.063402\n",
              "std    14 days 09:21:49.443709\n",
              "min            0 days 00:00:36\n",
              "25%            0 days 01:34:17\n",
              "50%            0 days 06:54:15\n",
              "75%     3 days 01:07:20.250000\n",
              "max          650 days 01:10:26"
            ]
          },
          "metadata": {
            "tags": []
          },
          "execution_count": 204
        }
      ]
    },
    {
      "cell_type": "code",
      "metadata": {
        "id": "DCfkzQkwMylP",
        "colab_type": "code",
        "colab": {}
      },
      "source": [
        "invoice_customer_vehicles_plant['ServiceTime_category']=None\n",
        "invoice_customer_vehicles_plant.loc[invoice_customer_vehicles_plant['ServiceTime']<pd.Timedelta(hours=13),'ServiceTime_category']='super_fast'\n",
        "invoice_customer_vehicles_plant.loc[(invoice_customer_vehicles_plant['ServiceTime']>=pd.Timedelta(hours=13))&(invoice_customer_vehicles_plant['ServiceTime']<pd.Timedelta(hours=36)),'ServiceTime_category']='fast'\n",
        "invoice_customer_vehicles_plant.loc[(invoice_customer_vehicles_plant['ServiceTime']>=pd.Timedelta(hours=36))&(invoice_customer_vehicles_plant['ServiceTime']<pd.Timedelta(hours=61)),'ServiceTime_category']='mid'\n",
        "invoice_customer_vehicles_plant.loc[(invoice_customer_vehicles_plant['ServiceTime']>=pd.Timedelta(hours=61))&(invoice_customer_vehicles_plant['ServiceTime']<pd.Timedelta(hours=84)),'ServiceTime_category']='slow'\n",
        "invoice_customer_vehicles_plant.loc[invoice_customer_vehicles_plant['ServiceTime']>=pd.Timedelta(hours=84),'ServiceTime_category']='super_slow'"
      ],
      "execution_count": 0,
      "outputs": []
    },
    {
      "cell_type": "code",
      "metadata": {
        "id": "S8PxuX18OITq",
        "colab_type": "code",
        "colab": {}
      },
      "source": [
        "invoice_customer_vehicles_plant.drop(columns=['Invoice Time', 'Invoice Date', 'Invoice No', 'JobCard Date', 'JobCard Time', 'KMs Reading', 'Make', 'Model', 'Pin code', 'Plant', 'Plant Name1', 'User ID', 'District', 'License Plate Number', 'Name 1', 'Postal Code', 'CITY', 'Invoice Date Time', 'JobCard Date Time', 'ServiceTime'], inplace=True)"
      ],
      "execution_count": 0,
      "outputs": []
    },
    {
      "cell_type": "code",
      "metadata": {
        "id": "3wOR3eEhN7iZ",
        "colab_type": "code",
        "outputId": "ddcbee76-82bb-4072-ee78-711ca226baf3",
        "colab": {
          "base_uri": "https://localhost:8080/",
          "height": 323
        }
      },
      "source": [
        "invoice_customer_vehicles_plant.head()"
      ],
      "execution_count": 0,
      "outputs": [
        {
          "output_type": "execute_result",
          "data": {
            "text/html": [
              "<div>\n",
              "<style scoped>\n",
              "    .dataframe tbody tr th:only-of-type {\n",
              "        vertical-align: middle;\n",
              "    }\n",
              "\n",
              "    .dataframe tbody tr th {\n",
              "        vertical-align: top;\n",
              "    }\n",
              "\n",
              "    .dataframe thead th {\n",
              "        text-align: right;\n",
              "    }\n",
              "</style>\n",
              "<table border=\"1\" class=\"dataframe\">\n",
              "  <thead>\n",
              "    <tr style=\"text-align: right;\">\n",
              "      <th></th>\n",
              "      <th>Cust Type</th>\n",
              "      <th>Customer No.</th>\n",
              "      <th>Job Card No</th>\n",
              "      <th>Labour Total</th>\n",
              "      <th>Misc Total</th>\n",
              "      <th>OSL Total</th>\n",
              "      <th>Order Type</th>\n",
              "      <th>Parts Total</th>\n",
              "      <th>Total Amt Wtd Tax.</th>\n",
              "      <th>Partner Type</th>\n",
              "      <th>Data Origin</th>\n",
              "      <th>Title</th>\n",
              "      <th>Vehicle Model</th>\n",
              "      <th>Fuel Type</th>\n",
              "      <th>City</th>\n",
              "      <th>State</th>\n",
              "      <th>ServiceTime_category</th>\n",
              "    </tr>\n",
              "  </thead>\n",
              "  <tbody>\n",
              "    <tr>\n",
              "      <th>0</th>\n",
              "      <td>Retail</td>\n",
              "      <td>E14006</td>\n",
              "      <td>674656</td>\n",
              "      <td>579.13</td>\n",
              "      <td>0.0</td>\n",
              "      <td>0.0</td>\n",
              "      <td>Paid Service</td>\n",
              "      <td>40.54</td>\n",
              "      <td>619.67</td>\n",
              "      <td>1.0</td>\n",
              "      <td>Z001</td>\n",
              "      <td>2.0</td>\n",
              "      <td>Z_HONDA</td>\n",
              "      <td>2</td>\n",
              "      <td>Nashik</td>\n",
              "      <td>Maharashtra</td>\n",
              "      <td>fast</td>\n",
              "    </tr>\n",
              "    <tr>\n",
              "      <th>1</th>\n",
              "      <td>Retail</td>\n",
              "      <td>E14006</td>\n",
              "      <td>809011</td>\n",
              "      <td>3.46</td>\n",
              "      <td>0.0</td>\n",
              "      <td>0.0</td>\n",
              "      <td>Running Repairs</td>\n",
              "      <td>0.00</td>\n",
              "      <td>3.46</td>\n",
              "      <td>1.0</td>\n",
              "      <td>Z001</td>\n",
              "      <td>2.0</td>\n",
              "      <td>Z_HONDA</td>\n",
              "      <td>2</td>\n",
              "      <td>Nashik</td>\n",
              "      <td>Maharashtra</td>\n",
              "      <td>super_fast</td>\n",
              "    </tr>\n",
              "    <tr>\n",
              "      <th>2</th>\n",
              "      <td>Retail</td>\n",
              "      <td>E27136</td>\n",
              "      <td>836012</td>\n",
              "      <td>3.46</td>\n",
              "      <td>0.0</td>\n",
              "      <td>0.0</td>\n",
              "      <td>Paid Service</td>\n",
              "      <td>0.00</td>\n",
              "      <td>3.46</td>\n",
              "      <td>1.0</td>\n",
              "      <td>Z001</td>\n",
              "      <td>2.0</td>\n",
              "      <td>Z_MARUTI</td>\n",
              "      <td>2</td>\n",
              "      <td>Nashik</td>\n",
              "      <td>Maharashtra</td>\n",
              "      <td>super_fast</td>\n",
              "    </tr>\n",
              "    <tr>\n",
              "      <th>3</th>\n",
              "      <td>Retail</td>\n",
              "      <td>E26786</td>\n",
              "      <td>626932</td>\n",
              "      <td>150.48</td>\n",
              "      <td>0.0</td>\n",
              "      <td>0.0</td>\n",
              "      <td>Running Repairs</td>\n",
              "      <td>0.00</td>\n",
              "      <td>150.48</td>\n",
              "      <td>1.0</td>\n",
              "      <td>Z001</td>\n",
              "      <td>2.0</td>\n",
              "      <td>Z_MARUTI</td>\n",
              "      <td>1</td>\n",
              "      <td>Nashik</td>\n",
              "      <td>Maharashtra</td>\n",
              "      <td>super_slow</td>\n",
              "    </tr>\n",
              "    <tr>\n",
              "      <th>4</th>\n",
              "      <td>Retail</td>\n",
              "      <td>131</td>\n",
              "      <td>554552</td>\n",
              "      <td>1519.08</td>\n",
              "      <td>0.0</td>\n",
              "      <td>0.0</td>\n",
              "      <td>Paid Service</td>\n",
              "      <td>889.92</td>\n",
              "      <td>2409.00</td>\n",
              "      <td>1.0</td>\n",
              "      <td>Z005</td>\n",
              "      <td>2.0</td>\n",
              "      <td>Z_MARUTI</td>\n",
              "      <td>1</td>\n",
              "      <td>Nashik</td>\n",
              "      <td>Maharashtra</td>\n",
              "      <td>slow</td>\n",
              "    </tr>\n",
              "  </tbody>\n",
              "</table>\n",
              "</div>"
            ],
            "text/plain": [
              "  Cust Type Customer No.  Job Card No  ...    City        State  ServiceTime_category\n",
              "0    Retail       E14006       674656  ...  Nashik  Maharashtra                  fast\n",
              "1    Retail       E14006       809011  ...  Nashik  Maharashtra            super_fast\n",
              "2    Retail       E27136       836012  ...  Nashik  Maharashtra            super_fast\n",
              "3    Retail       E26786       626932  ...  Nashik  Maharashtra            super_slow\n",
              "4    Retail          131       554552  ...  Nashik  Maharashtra                  slow\n",
              "\n",
              "[5 rows x 17 columns]"
            ]
          },
          "metadata": {
            "tags": []
          },
          "execution_count": 207
        }
      ]
    },
    {
      "cell_type": "markdown",
      "metadata": {
        "id": "O5KHCG7zWRcI",
        "colab_type": "text"
      },
      "source": [
        "**Merge Jtd grouped and invoice_customer_vehicles_plant csv**"
      ]
    },
    {
      "cell_type": "code",
      "metadata": {
        "id": "0E_cdhobWQ0N",
        "colab_type": "code",
        "outputId": "494f32fc-b541-4753-b22f-5a89a48f545e",
        "colab": {
          "base_uri": "https://localhost:8080/",
          "height": 34
        }
      },
      "source": [
        "len(invoice_customer_vehicles_plant['Job Card No'].unique()), len(jtd_grouped['DBM Order'].unique())"
      ],
      "execution_count": 0,
      "outputs": [
        {
          "output_type": "execute_result",
          "data": {
            "text/plain": [
              "(735685, 973473)"
            ]
          },
          "metadata": {
            "tags": []
          },
          "execution_count": 208
        }
      ]
    },
    {
      "cell_type": "code",
      "metadata": {
        "id": "udvRZHfDWp5-",
        "colab_type": "code",
        "colab": {}
      },
      "source": [
        "invoice_customer_vehicles_plant_jtd = pd.merge(invoice_customer_vehicles_plant, jtd_grouped, left_on='Job Card No', right_on='DBM Order').drop('DBM Order', axis=1)"
      ],
      "execution_count": 0,
      "outputs": []
    },
    {
      "cell_type": "code",
      "metadata": {
        "id": "FyDVAUPjW-wd",
        "colab_type": "code",
        "outputId": "6cde7973-213a-40a1-984d-048ed7857bea",
        "colab": {
          "base_uri": "https://localhost:8080/",
          "height": 34
        }
      },
      "source": [
        "invoice_customer_vehicles_plant_jtd.shape"
      ],
      "execution_count": 0,
      "outputs": [
        {
          "output_type": "execute_result",
          "data": {
            "text/plain": [
              "(743689, 21)"
            ]
          },
          "metadata": {
            "tags": []
          },
          "execution_count": 210
        }
      ]
    },
    {
      "cell_type": "code",
      "metadata": {
        "id": "s7Ch81IYXFHW",
        "colab_type": "code",
        "outputId": "3e7a5b66-8c2a-4633-c257-048b5e8fc681",
        "colab": {
          "base_uri": "https://localhost:8080/",
          "height": 236
        }
      },
      "source": [
        "invoice_customer_vehicles_plant_jtd.head(1)"
      ],
      "execution_count": 0,
      "outputs": [
        {
          "output_type": "execute_result",
          "data": {
            "text/html": [
              "<div>\n",
              "<style scoped>\n",
              "    .dataframe tbody tr th:only-of-type {\n",
              "        vertical-align: middle;\n",
              "    }\n",
              "\n",
              "    .dataframe tbody tr th {\n",
              "        vertical-align: top;\n",
              "    }\n",
              "\n",
              "    .dataframe thead th {\n",
              "        text-align: right;\n",
              "    }\n",
              "</style>\n",
              "<table border=\"1\" class=\"dataframe\">\n",
              "  <thead>\n",
              "    <tr style=\"text-align: right;\">\n",
              "      <th></th>\n",
              "      <th>Cust Type</th>\n",
              "      <th>Customer No.</th>\n",
              "      <th>Job Card No</th>\n",
              "      <th>Labour Total</th>\n",
              "      <th>Misc Total</th>\n",
              "      <th>OSL Total</th>\n",
              "      <th>Order Type</th>\n",
              "      <th>Parts Total</th>\n",
              "      <th>Total Amt Wtd Tax.</th>\n",
              "      <th>Partner Type</th>\n",
              "      <th>Data Origin</th>\n",
              "      <th>Title</th>\n",
              "      <th>Vehicle Model</th>\n",
              "      <th>Fuel Type</th>\n",
              "      <th>City</th>\n",
              "      <th>State</th>\n",
              "      <th>ServiceTime_category</th>\n",
              "      <th>Description</th>\n",
              "      <th>Item Category</th>\n",
              "      <th>Order Quantity</th>\n",
              "      <th>Net value</th>\n",
              "    </tr>\n",
              "  </thead>\n",
              "  <tbody>\n",
              "    <tr>\n",
              "      <th>0</th>\n",
              "      <td>Retail</td>\n",
              "      <td>E14006</td>\n",
              "      <td>674656</td>\n",
              "      <td>579.13</td>\n",
              "      <td>0.0</td>\n",
              "      <td>0.0</td>\n",
              "      <td>Paid Service</td>\n",
              "      <td>40.54</td>\n",
              "      <td>619.67</td>\n",
              "      <td>1.0</td>\n",
              "      <td>Z001</td>\n",
              "      <td>2.0</td>\n",
              "      <td>Z_HONDA</td>\n",
              "      <td>2</td>\n",
              "      <td>Nashik</td>\n",
              "      <td>Maharashtra</td>\n",
              "      <td>fast</td>\n",
              "      <td>Wheel Alignment, MISC LABOR 0.5 HOURS, BALANCE...</td>\n",
              "      <td>P001, P002</td>\n",
              "      <td>33.0</td>\n",
              "      <td>619.67</td>\n",
              "    </tr>\n",
              "  </tbody>\n",
              "</table>\n",
              "</div>"
            ],
            "text/plain": [
              "  Cust Type Customer No.  Job Card No  ...  Item Category  Order Quantity  Net value\n",
              "0    Retail       E14006       674656  ...     P001, P002            33.0     619.67\n",
              "\n",
              "[1 rows x 21 columns]"
            ]
          },
          "metadata": {
            "tags": []
          },
          "execution_count": 211
        }
      ]
    },
    {
      "cell_type": "code",
      "metadata": {
        "id": "c8zcL3iL4xxU",
        "colab_type": "code",
        "outputId": "06cf2150-3516-473c-f10f-f69508ec3d57",
        "colab": {
          "base_uri": "https://localhost:8080/",
          "height": 1000
        }
      },
      "source": [
        "for st in invoice_customer_vehicles_plant_jtd['State'].unique():\n",
        "  plt.figure(figsize=(20,5))\n",
        "  print(\"Running for State: {}\".format(st))\n",
        "#   print(invoice_customer_vehicles_plant_jtd[invoice_customer_vehicles_plant_jtd['State'] == st]['Order Type'].value_counts())\n",
        "  sns.countplot(y=invoice_customer_vehicles_plant_jtd[invoice_customer_vehicles_plant_jtd['State'] == st]['Order Type'], palette='Paired', order=invoice_customer_vehicles_plant_jtd[invoice_customer_vehicles_plant_jtd['State'] == st]['Order Type'].value_counts().index)\n",
        "  plt.title('{}'.format(st))\n",
        "  plt.savefig('{}.png'.format(st))"
      ],
      "execution_count": 0,
      "outputs": [
        {
          "output_type": "stream",
          "text": [
            "Running for State: Maharashtra\n",
            "Running for State: Tamil Nadu\n",
            "Running for State: Telangana\n",
            "Running for State: Andhra Pradesh\n",
            "Running for State: Madhya Pradesh\n",
            "Running for State: Punjab\n",
            "Running for State: Rajasthan\n",
            "Running for State: Gujarat\n",
            "Running for State: Puducherry\n",
            "Running for State: Karnataka\n",
            "Running for State: Bihar\n",
            "Running for State: Uttar Pradesh\n",
            "Running for State: Kerala\n",
            "Running for State: Uttarakhand\n",
            "Running for State: West Bengal\n",
            "Running for State: Haryana\n",
            "Running for State: Chandigarh\n",
            "Running for State: Himachal Pradesh\n",
            "Running for State: Chhattisgarh\n",
            "Running for State: Jammu and Kashmir\n"
          ],
          "name": "stdout"
        },
        {
          "output_type": "stream",
          "text": [
            "/usr/local/lib/python3.6/dist-packages/matplotlib/pyplot.py:514: RuntimeWarning: More than 20 figures have been opened. Figures created through the pyplot interface (`matplotlib.pyplot.figure`) are retained until explicitly closed and may consume too much memory. (To control this warning, see the rcParam `figure.max_open_warning`).\n",
            "  max_open_warning, RuntimeWarning)\n"
          ],
          "name": "stderr"
        },
        {
          "output_type": "stream",
          "text": [
            "Running for State: Odisha\n",
            "Running for State: Jharkhand\n",
            "Running for State: Assam\n",
            "Running for State: Delhi\n",
            "Running for State: Goa\n"
          ],
          "name": "stdout"
        },
        {
          "output_type": "display_data",
          "data": {
            "image/png": "[encoded data removed]",
            "text/plain": [
              "<Figure size 1440x360 with 1 Axes>"
            ]
          },
          "metadata": {
            "tags": []
          }
        },
        {
          "output_type": "display_data",
          "data": {
            "image/png": "[encoded data removed]",
            "text/plain": [
              "<Figure size 1440x360 with 1 Axes>"
            ]
          },
          "metadata": {
            "tags": []
          }
        },
        {
          "output_type": "display_data",
          "data": {
            "image/png": "[encoded data removed]",
            "text/plain": [
              "<Figure size 1440x360 with 1 Axes>"
            ]
          },
          "metadata": {
            "tags": []
          }
        },
        {
          "output_type": "display_data",
          "data": {
            "image/png": "[encoded data removed]",
            "text/plain": [
              "<Figure size 1440x360 with 1 Axes>"
            ]
          },
          "metadata": {
            "tags": []
          }
        },
        {
          "output_type": "display_data",
          "data": {
            "image/png": "[encoded data removed]",
            "text/plain": [
              "<Figure size 1440x360 with 1 Axes>"
            ]
          },
          "metadata": {
            "tags": []
          }
        },
        {
          "output_type": "display_data",
          "data": {
            "image/png": "[encoded data removed]",
            "text/plain": [
              "<Figure size 1440x360 with 1 Axes>"
            ]
          },
          "metadata": {
            "tags": []
          }
        },
        {
          "output_type": "display_data",
          "data": {
            "image/png": "[encoded data removed]",
            "text/plain": [
              "<Figure size 1440x360 with 1 Axes>"
            ]
          },
          "metadata": {
            "tags": []
          }
        },
        {
          "output_type": "display_data",
          "data": {
            "image/png": "[encoded data removed]",
            "text/plain": [
              "<Figure size 1440x360 with 1 Axes>"
            ]
          },
          "metadata": {
            "tags": []
          }
        },
        {
          "output_type": "display_data",
          "data": {
            "image/png": "[encoded data removed]",
            "text/plain": [
              "<Figure size 1440x360 with 1 Axes>"
            ]
          },
          "metadata": {
            "tags": []
          }
        },
        {
          "output_type": "display_data",
          "data": {
            "image/png": "[encoded data removed]",
            "text/plain": [
              "<Figure size 1440x360 with 1 Axes>"
            ]
          },
          "metadata": {
            "tags": []
          }
        },
        {
          "output_type": "display_data",
          "data": {
            "image/png": "[encoded data removed]",
            "text/plain": [
              "<Figure size 1440x360 with 1 Axes>"
            ]
          },
          "metadata": {
            "tags": []
          }
        },
        {
          "output_type": "display_data",
          "data": {
            "image/png": "[encoded data removed]",
            "text/plain": [
              "<Figure size 1440x360 with 1 Axes>"
            ]
          },
          "metadata": {
            "tags": []
          }
        },
        {
          "output_type": "display_data",
          "data": {
            "image/png": "[encoded data removed]",
            "text/plain": [
              "<Figure size 1440x360 with 1 Axes>"
            ]
          },
          "metadata": {
            "tags": []
          }
        },
        {
          "output_type": "display_data",
          "data": {
            "image/png": "[encoded data removed]",
            "text/plain": [
              "<Figure size 1440x360 with 1 Axes>"
            ]
          },
          "metadata": {
            "tags": []
          }
        },
        {
          "output_type": "display_data",
          "data": {
            "image/png": "[encoded data removed]",
            "text/plain": [
              "<Figure size 1440x360 with 1 Axes>"
            ]
          },
          "metadata": {
            "tags": []
          }
        },
        {
          "output_type": "display_data",
          "data": {
            "image/png": "[encoded data removed]",
            "text/plain": [
              "<Figure size 1440x360 with 1 Axes>"
            ]
          },
          "metadata": {
            "tags": []
          }
        },
        {
          "output_type": "display_data",
          "data": {
            "image/png": "[encoded data removed]",
            "text/plain": [
              "<Figure size 1440x360 with 1 Axes>"
            ]
          },
          "metadata": {
            "tags": []
          }
        },
        {
          "output_type": "display_data",
          "data": {
            "image/png": "[encoded data removed]",
            "text/plain": [
              "<Figure size 1440x360 with 1 Axes>"
            ]
          },
          "metadata": {
            "tags": []
          }
        },
        {
          "output_type": "display_data",
          "data": {
            "image/png": "[encoded data removed]",
            "text/plain": [
              "<Figure size 1440x360 with 1 Axes>"
            ]
          },
          "metadata": {
            "tags": []
          }
        },
        {
          "output_type": "display_data",
          "data": {
            "image/png": "[encoded data removed]",
            "text/plain": [
              "<Figure size 1440x360 with 1 Axes>"
            ]
          },
          "metadata": {
            "tags": []
          }
        },
        {
          "output_type": "display_data",
          "data": {
            "image/png": "[encoded data removed]",
            "text/plain": [
              "<Figure size 1440x360 with 1 Axes>"
            ]
          },
          "metadata": {
            "tags": []
          }
        },
        {
          "output_type": "display_data",
          "data": {
            "image/png": "[encoded data removed]",
            "text/plain": [
              "<Figure size 1440x360 with 1 Axes>"
            ]
          },
          "metadata": {
            "tags": []
          }
        },
        {
          "output_type": "display_data",
          "data": {
            "image/png": "[encoded data removed]",
            "text/plain": [
              "<Figure size 1440x360 with 1 Axes>"
            ]
          },
          "metadata": {
            "tags": []
          }
        },
        {
          "output_type": "display_data",
          "data": {
            "image/png": "[encoded data removed]",
            "text/plain": [
              "<Figure size 1440x360 with 1 Axes>"
            ]
          },
          "metadata": {
            "tags": []
          }
        },
        {
          "output_type": "display_data",
          "data": {
            "image/png": "[encoded data removed]",
            "text/plain": [
              "<Figure size 1440x360 with 1 Axes>"
            ]
          },
          "metadata": {
            "tags": []
          }
        }
      ]
    },
    {
      "cell_type": "code",
      "metadata": {
        "id": "t051xCzjO7Q0",
        "colab_type": "code",
        "colab": {}
      },
      "source": [
        "aggregation_by_customer_no = {'Cust Type' : lambda x: str(set(x)).strip(\"{}\").replace(\"'\",\"\"),\n",
        "                              'Labour Total':'sum',\n",
        "                              'Misc Total':'sum',\n",
        "                              'OSL Total':'sum',\n",
        "                              'Order Type' : lambda x: str(set(x)).strip(\"{}\").replace(\"'\",\"\"),\n",
        "                              'Parts Total' : 'sum',\n",
        "                              'Total Amt Wtd Tax.' : 'sum',\n",
        "                              'Partner Type': 'nunique',\n",
        "                              'Data Origin' : lambda x: str(set(x)).strip(\"{}\").replace(\"'\",\"\"),\n",
        "                              'Title' : 'nunique',\n",
        "                              'Vehicle Model': lambda x: str(set(x)).strip(\"{}\").replace(\"'\",\"\"),\n",
        "                              'Fuel Type' : 'nunique',\n",
        "                              'City' : lambda x: str(set(x)).strip(\"{}\").replace(\"'\",\"\"),\n",
        "                              'ServiceTime_category' : lambda x: str(set(x)).strip(\"{}\").replace(\"'\",\"\"),\n",
        "                              'Description' : lambda x: str(set(x)).strip(\"{}\").replace(\"'\",\"\"),\n",
        "                              'Item Category' : lambda x: str(set(x)).strip(\"{}\").replace(\"'\",\"\"),\n",
        "                              'Order Quantity' : 'sum',\n",
        "                              'Net value' : 'sum'}"
      ],
      "execution_count": 0,
      "outputs": []
    },
    {
      "cell_type": "code",
      "metadata": {
        "id": "oNfPf9f8d5A9",
        "colab_type": "code",
        "colab": {}
      },
      "source": [
        "invoice_grouped_data = invoice_customer_vehicles_plant_jtd.groupby('Customer No.').agg(aggregation_by_customer_no).reset_index()"
      ],
      "execution_count": 0,
      "outputs": []
    },
    {
      "cell_type": "code",
      "metadata": {
        "id": "d67Au_xWeDlg",
        "colab_type": "code",
        "outputId": "4593c509-bbf1-4119-e829-e3e40d5dc94d",
        "colab": {
          "base_uri": "https://localhost:8080/",
          "height": 34
        }
      },
      "source": [
        "invoice_grouped_data.shape"
      ],
      "execution_count": 0,
      "outputs": [
        {
          "output_type": "execute_result",
          "data": {
            "text/plain": [
              "(406838, 19)"
            ]
          },
          "metadata": {
            "tags": []
          },
          "execution_count": 215
        }
      ]
    },
    {
      "cell_type": "code",
      "metadata": {
        "id": "7NW0bR7PiIS2",
        "colab_type": "code",
        "outputId": "7d2953fe-8f95-4624-af11-459980d72503",
        "colab": {
          "base_uri": "https://localhost:8080/",
          "height": 496
        }
      },
      "source": [
        "invoice_grouped_data.head()"
      ],
      "execution_count": 0,
      "outputs": [
        {
          "output_type": "execute_result",
          "data": {
            "text/html": [
              "<div>\n",
              "<style scoped>\n",
              "    .dataframe tbody tr th:only-of-type {\n",
              "        vertical-align: middle;\n",
              "    }\n",
              "\n",
              "    .dataframe tbody tr th {\n",
              "        vertical-align: top;\n",
              "    }\n",
              "\n",
              "    .dataframe thead th {\n",
              "        text-align: right;\n",
              "    }\n",
              "</style>\n",
              "<table border=\"1\" class=\"dataframe\">\n",
              "  <thead>\n",
              "    <tr style=\"text-align: right;\">\n",
              "      <th></th>\n",
              "      <th>Customer No.</th>\n",
              "      <th>Cust Type</th>\n",
              "      <th>Labour Total</th>\n",
              "      <th>Misc Total</th>\n",
              "      <th>OSL Total</th>\n",
              "      <th>Order Type</th>\n",
              "      <th>Parts Total</th>\n",
              "      <th>Total Amt Wtd Tax.</th>\n",
              "      <th>Partner Type</th>\n",
              "      <th>Data Origin</th>\n",
              "      <th>Title</th>\n",
              "      <th>Vehicle Model</th>\n",
              "      <th>Fuel Type</th>\n",
              "      <th>City</th>\n",
              "      <th>ServiceTime_category</th>\n",
              "      <th>Description</th>\n",
              "      <th>Item Category</th>\n",
              "      <th>Order Quantity</th>\n",
              "      <th>Net value</th>\n",
              "    </tr>\n",
              "  </thead>\n",
              "  <tbody>\n",
              "    <tr>\n",
              "      <th>0</th>\n",
              "      <td>100001</td>\n",
              "      <td>Retail</td>\n",
              "      <td>3429.34</td>\n",
              "      <td>0.0</td>\n",
              "      <td>0.0</td>\n",
              "      <td>Running Repairs, Accidental</td>\n",
              "      <td>834.41</td>\n",
              "      <td>4263.75</td>\n",
              "      <td>1</td>\n",
              "      <td>Z005</td>\n",
              "      <td>1</td>\n",
              "      <td>Z_TOYOTA, Z_MAHINDRA, Z_SKODA</td>\n",
              "      <td>2</td>\n",
              "      <td>Pune</td>\n",
              "      <td>super_fast, mid, super_slow</td>\n",
              "      <td>M - SEAL / BOND TITE(100GM), WASHING, ARALDITE...</td>\n",
              "      <td>P001, P001, P002</td>\n",
              "      <td>1208.2</td>\n",
              "      <td>4263.75</td>\n",
              "    </tr>\n",
              "    <tr>\n",
              "      <th>1</th>\n",
              "      <td>100003</td>\n",
              "      <td>Retail</td>\n",
              "      <td>0.00</td>\n",
              "      <td>0.0</td>\n",
              "      <td>0.0</td>\n",
              "      <td>Accidental</td>\n",
              "      <td>0.00</td>\n",
              "      <td>0.00</td>\n",
              "      <td>1</td>\n",
              "      <td>Z005</td>\n",
              "      <td>1</td>\n",
              "      <td>Z_TOYOTA</td>\n",
              "      <td>1</td>\n",
              "      <td>Shirur</td>\n",
              "      <td>super_fast</td>\n",
              "      <td>nan</td>\n",
              "      <td>G2TX</td>\n",
              "      <td>0.0</td>\n",
              "      <td>0.00</td>\n",
              "    </tr>\n",
              "    <tr>\n",
              "      <th>2</th>\n",
              "      <td>100004</td>\n",
              "      <td>Retail</td>\n",
              "      <td>1532.51</td>\n",
              "      <td>0.0</td>\n",
              "      <td>0.0</td>\n",
              "      <td>Paid Service, Running Repairs</td>\n",
              "      <td>4179.93</td>\n",
              "      <td>5712.44</td>\n",
              "      <td>1</td>\n",
              "      <td>Z005</td>\n",
              "      <td>1</td>\n",
              "      <td>Z_HYUNDAI</td>\n",
              "      <td>1</td>\n",
              "      <td>Boripardhi</td>\n",
              "      <td>super_fast, fast</td>\n",
              "      <td>WASHING, RUST SPRAY, SERVICE KIT-OIL FILTER, F...</td>\n",
              "      <td>P001, P001, P002</td>\n",
              "      <td>104.3</td>\n",
              "      <td>5712.44</td>\n",
              "    </tr>\n",
              "    <tr>\n",
              "      <th>3</th>\n",
              "      <td>100006</td>\n",
              "      <td>Retail</td>\n",
              "      <td>1223.71</td>\n",
              "      <td>0.0</td>\n",
              "      <td>0.0</td>\n",
              "      <td>Paid Service</td>\n",
              "      <td>0.00</td>\n",
              "      <td>1223.71</td>\n",
              "      <td>1</td>\n",
              "      <td>Z006</td>\n",
              "      <td>1</td>\n",
              "      <td>Z_MARUTI</td>\n",
              "      <td>1</td>\n",
              "      <td>Abohar</td>\n",
              "      <td>mid</td>\n",
              "      <td>TOPUP A/C GAS</td>\n",
              "      <td>P001</td>\n",
              "      <td>288.0</td>\n",
              "      <td>1223.71</td>\n",
              "    </tr>\n",
              "    <tr>\n",
              "      <th>4</th>\n",
              "      <td>100007</td>\n",
              "      <td>Retail</td>\n",
              "      <td>11031.37</td>\n",
              "      <td>0.0</td>\n",
              "      <td>0.0</td>\n",
              "      <td>Paid Service, Running Repairs</td>\n",
              "      <td>35257.27</td>\n",
              "      <td>46288.64</td>\n",
              "      <td>1</td>\n",
              "      <td>Z005</td>\n",
              "      <td>1</td>\n",
              "      <td>Z_HYUNDAI</td>\n",
              "      <td>1</td>\n",
              "      <td>Tirupur</td>\n",
              "      <td>super_fast, fast, mid</td>\n",
              "      <td>MISC LABOR 2 HOURS, MISC LABOR 1 HOUR, AIR FIL...</td>\n",
              "      <td>P001, P001, P002</td>\n",
              "      <td>478.0</td>\n",
              "      <td>46288.64</td>\n",
              "    </tr>\n",
              "  </tbody>\n",
              "</table>\n",
              "</div>"
            ],
            "text/plain": [
              "  Customer No. Cust Type  ...  Order Quantity  Net value\n",
              "0       100001    Retail  ...          1208.2    4263.75\n",
              "1       100003    Retail  ...             0.0       0.00\n",
              "2       100004    Retail  ...           104.3    5712.44\n",
              "3       100006    Retail  ...           288.0    1223.71\n",
              "4       100007    Retail  ...           478.0   46288.64\n",
              "\n",
              "[5 rows x 19 columns]"
            ]
          },
          "metadata": {
            "tags": []
          },
          "execution_count": 216
        }
      ]
    },
    {
      "cell_type": "markdown",
      "metadata": {
        "id": "2fFuneQUpFg6",
        "colab_type": "text"
      },
      "source": [
        "**No of customers in each City**"
      ]
    },
    {
      "cell_type": "code",
      "metadata": {
        "id": "EVsRdwcDqbUq",
        "colab_type": "code",
        "colab": {}
      },
      "source": [
        "import seaborn as sns\n",
        "import matplotlib.pyplot as plt"
      ],
      "execution_count": 0,
      "outputs": []
    },
    {
      "cell_type": "code",
      "metadata": {
        "id": "QdxLZ6HDoc4A",
        "colab_type": "code",
        "colab": {}
      },
      "source": [
        "invoice_grouped_data['Order Type'] = invoice_grouped_data['Order Type'].apply(lambda x: ','.join(sorted([w.strip(' ') for w in x.split(',')])))"
      ],
      "execution_count": 0,
      "outputs": []
    },
    {
      "cell_type": "code",
      "metadata": {
        "id": "5rYE0tpxzV1n",
        "colab_type": "code",
        "colab": {}
      },
      "source": [
        "freq_used_services = ['Running Repairs','Paid Service', 'Paid Service,Running Repairs', 'Accidental']"
      ],
      "execution_count": 0,
      "outputs": []
    },
    {
      "cell_type": "code",
      "metadata": {
        "id": "QSdIIicb1XQe",
        "colab_type": "code",
        "colab": {}
      },
      "source": [
        "invoice_grouped_data['Order Type'] = invoice_grouped_data['Order Type'].apply(lambda order: 'Others' if order not in freq_used_services else order)"
      ],
      "execution_count": 0,
      "outputs": []
    },
    {
      "cell_type": "code",
      "metadata": {
        "id": "N4LF2rH1wQFy",
        "colab_type": "code",
        "outputId": "40347971-60ed-4e17-88fc-5074093d96c9",
        "colab": {
          "base_uri": "https://localhost:8080/",
          "height": 119
        }
      },
      "source": [
        "(invoice_grouped_data['Order Type'].value_counts()/len(invoice_grouped_data['Order Type']))*100"
      ],
      "execution_count": 0,
      "outputs": [
        {
          "output_type": "execute_result",
          "data": {
            "text/plain": [
              "Running Repairs                 45.934500\n",
              "Paid Service                    24.773743\n",
              "Paid Service,Running Repairs    12.827710\n",
              "Others                          10.757845\n",
              "Accidental                       5.706202\n",
              "Name: Order Type, dtype: float64"
            ]
          },
          "metadata": {
            "tags": []
          },
          "execution_count": 221
        }
      ]
    },
    {
      "cell_type": "code",
      "metadata": {
        "id": "MpgXFW__3utp",
        "colab_type": "code",
        "colab": {}
      },
      "source": [
        "most_freq_data_origin = (invoice_grouped_data['Data Origin'].value_counts()/len(invoice_grouped_data['Data Origin'])).iloc[0:7].index"
      ],
      "execution_count": 0,
      "outputs": []
    },
    {
      "cell_type": "code",
      "metadata": {
        "id": "GSGWJdsJoLR2",
        "colab_type": "code",
        "colab": {}
      },
      "source": [
        "invoice_grouped_data['Data Origin'] = invoice_grouped_data['Data Origin'].apply(lambda x: 'Others' if x not in most_freq_data_origin else x)"
      ],
      "execution_count": 0,
      "outputs": []
    },
    {
      "cell_type": "code",
      "metadata": {
        "id": "O1iDKD7P4nAa",
        "colab_type": "code",
        "outputId": "0e30b1fb-c0a6-46d4-f833-86bd111b8899",
        "colab": {
          "base_uri": "https://localhost:8080/",
          "height": 170
        }
      },
      "source": [
        "(invoice_grouped_data['Data Origin'].value_counts()/len(invoice_grouped_data['Data Origin']))*100"
      ],
      "execution_count": 0,
      "outputs": [
        {
          "output_type": "execute_result",
          "data": {
            "text/plain": [
              "Z005      28.169689\n",
              "Z006      24.485913\n",
              "Others    14.111022\n",
              "Z001       8.555494\n",
              "Z004       7.042607\n",
              "Z002       6.759447\n",
              "Z019       5.761507\n",
              "Z021       5.114321\n",
              "Name: Data Origin, dtype: float64"
            ]
          },
          "metadata": {
            "tags": []
          },
          "execution_count": 224
        }
      ]
    },
    {
      "cell_type": "code",
      "metadata": {
        "id": "j-p97ALFRHDa",
        "colab_type": "code",
        "colab": {}
      },
      "source": [
        "most_freq_cities = invoice_grouped_data['City'].value_counts().iloc[0:13]"
      ],
      "execution_count": 0,
      "outputs": []
    },
    {
      "cell_type": "code",
      "metadata": {
        "id": "nRZBEN_8SGuB",
        "colab_type": "code",
        "colab": {}
      },
      "source": [
        "invoice_grouped_data['City'] = invoice_grouped_data['City'].apply(lambda x: 'Others' if x not in most_freq_cities else x)"
      ],
      "execution_count": 0,
      "outputs": []
    },
    {
      "cell_type": "code",
      "metadata": {
        "id": "6pgyhFf6Zg61",
        "colab_type": "code",
        "outputId": "a69eff30-fb0d-4da5-e34a-9f8173188881",
        "colab": {
          "base_uri": "https://localhost:8080/",
          "height": 272
        }
      },
      "source": [
        "invoice_grouped_data['City'].value_counts()"
      ],
      "execution_count": 0,
      "outputs": [
        {
          "output_type": "execute_result",
          "data": {
            "text/plain": [
              "Others        320856\n",
              "Chennai        14518\n",
              "Bengaluru       9674\n",
              "Nashik          8618\n",
              "Coimbatore      7644\n",
              "Pune            6001\n",
              "Thane           5922\n",
              "Mangalore       5348\n",
              "Mohali          5264\n",
              "Madurai         4892\n",
              "Nagpur          4819\n",
              "Bhopal          4501\n",
              "Aurangabad      4430\n",
              "Jaipur          4351\n",
              "Name: City, dtype: int64"
            ]
          },
          "metadata": {
            "tags": []
          },
          "execution_count": 301
        }
      ]
    },
    {
      "cell_type": "code",
      "metadata": {
        "id": "EpwKLv1T45Z0",
        "colab_type": "code",
        "colab": {}
      },
      "source": [
        "most_freq_used_veh_models = ((invoice_grouped_data['Vehicle Model'].value_counts()/len(invoice_grouped_data['Vehicle Model']))*100)[((invoice_grouped_data['Vehicle Model'].value_counts()/len(invoice_grouped_data['Vehicle Model']))*100)>2].index"
      ],
      "execution_count": 0,
      "outputs": []
    },
    {
      "cell_type": "code",
      "metadata": {
        "id": "3OjPW7pc4kL8",
        "colab_type": "code",
        "colab": {}
      },
      "source": [
        "invoice_grouped_data['Vehicle Model'] = invoice_grouped_data['Vehicle Model'].apply(lambda x: 'Others' if x not in most_freq_used_veh_models else x)"
      ],
      "execution_count": 0,
      "outputs": []
    },
    {
      "cell_type": "code",
      "metadata": {
        "id": "i10JwjjZ5ucv",
        "colab_type": "code",
        "outputId": "62b2a547-5f49-4593-b253-84aa77493e0d",
        "colab": {
          "base_uri": "https://localhost:8080/",
          "height": 187
        }
      },
      "source": [
        "invoice_grouped_data['Vehicle Model'].value_counts()/len(invoice_grouped_data['Vehicle Model'])*100"
      ],
      "execution_count": 0,
      "outputs": [
        {
          "output_type": "execute_result",
          "data": {
            "text/plain": [
              "Z_MARUTI            32.637807\n",
              "Z_MAHINDRA          17.944243\n",
              "Z_HYUNDAI           14.480457\n",
              "Z_TATA              10.542526\n",
              "Others               8.341650\n",
              "Z_GENERAL MOTORS     4.866065\n",
              "Z_TOYOTA             4.320147\n",
              "Z_FORD               3.966935\n",
              "Z_HONDA              2.900172\n",
              "Name: Vehicle Model, dtype: float64"
            ]
          },
          "metadata": {
            "tags": []
          },
          "execution_count": 227
        }
      ]
    },
    {
      "cell_type": "code",
      "metadata": {
        "id": "vLJjGNsT546B",
        "colab_type": "code",
        "colab": {}
      },
      "source": [
        "most_freq_service_type = ((invoice_grouped_data['ServiceTime_category'].value_counts()/len(invoice_grouped_data['ServiceTime_category']))*100).iloc[0:11]"
      ],
      "execution_count": 0,
      "outputs": []
    },
    {
      "cell_type": "code",
      "metadata": {
        "id": "efQKpAss7GDh",
        "colab_type": "code",
        "colab": {}
      },
      "source": [
        "invoice_grouped_data['ServiceTime_category'] = invoice_grouped_data['ServiceTime_category'].apply(lambda x: 'Others' if x not in most_freq_service_type else x )"
      ],
      "execution_count": 0,
      "outputs": []
    },
    {
      "cell_type": "code",
      "metadata": {
        "id": "1W-Rcr5q7RWV",
        "colab_type": "code",
        "outputId": "a31d7cb0-56a2-4d28-e111-9b6782ba5c5c",
        "colab": {
          "base_uri": "https://localhost:8080/",
          "height": 238
        }
      },
      "source": [
        "((invoice_grouped_data['ServiceTime_category'].value_counts()/len(invoice_grouped_data['ServiceTime_category']))*100)"
      ],
      "execution_count": 0,
      "outputs": [
        {
          "output_type": "execute_result",
          "data": {
            "text/plain": [
              "super_fast                43.779342\n",
              "super_slow                16.563350\n",
              "Others                     9.247415\n",
              "fast                       8.233744\n",
              "mid                        4.304908\n",
              "super_fast, fast           4.282540\n",
              "super_fast, super_slow     3.384885\n",
              "super_slow, super_fast     2.918115\n",
              "slow                       2.694439\n",
              "super_fast, mid            1.909605\n",
              "super_slow, fast           1.551477\n",
              "super_fast, slow           1.130180\n",
              "Name: ServiceTime_category, dtype: float64"
            ]
          },
          "metadata": {
            "tags": []
          },
          "execution_count": 230
        }
      ]
    },
    {
      "cell_type": "code",
      "metadata": {
        "id": "vkkVOX1a8FAK",
        "colab_type": "code",
        "outputId": "e3bd7404-d133-4fc4-e603-a45991b16fdf",
        "colab": {
          "base_uri": "https://localhost:8080/",
          "height": 219
        }
      },
      "source": [
        "invoice_grouped_data.head(1)"
      ],
      "execution_count": 0,
      "outputs": [
        {
          "output_type": "execute_result",
          "data": {
            "text/html": [
              "<div>\n",
              "<style scoped>\n",
              "    .dataframe tbody tr th:only-of-type {\n",
              "        vertical-align: middle;\n",
              "    }\n",
              "\n",
              "    .dataframe tbody tr th {\n",
              "        vertical-align: top;\n",
              "    }\n",
              "\n",
              "    .dataframe thead th {\n",
              "        text-align: right;\n",
              "    }\n",
              "</style>\n",
              "<table border=\"1\" class=\"dataframe\">\n",
              "  <thead>\n",
              "    <tr style=\"text-align: right;\">\n",
              "      <th></th>\n",
              "      <th>Customer No.</th>\n",
              "      <th>Cust Type</th>\n",
              "      <th>Labour Total</th>\n",
              "      <th>Misc Total</th>\n",
              "      <th>OSL Total</th>\n",
              "      <th>Order Type</th>\n",
              "      <th>Parts Total</th>\n",
              "      <th>Total Amt Wtd Tax.</th>\n",
              "      <th>Partner Type</th>\n",
              "      <th>Data Origin</th>\n",
              "      <th>Title</th>\n",
              "      <th>Vehicle Model</th>\n",
              "      <th>Fuel Type</th>\n",
              "      <th>City</th>\n",
              "      <th>ServiceTime_category</th>\n",
              "      <th>Description</th>\n",
              "      <th>Item Category</th>\n",
              "      <th>Order Quantity</th>\n",
              "      <th>Net value</th>\n",
              "    </tr>\n",
              "  </thead>\n",
              "  <tbody>\n",
              "    <tr>\n",
              "      <th>0</th>\n",
              "      <td>100001</td>\n",
              "      <td>Retail</td>\n",
              "      <td>3429.34</td>\n",
              "      <td>0.0</td>\n",
              "      <td>0.0</td>\n",
              "      <td>Others</td>\n",
              "      <td>834.41</td>\n",
              "      <td>4263.75</td>\n",
              "      <td>1</td>\n",
              "      <td>Z005</td>\n",
              "      <td>1</td>\n",
              "      <td>Others</td>\n",
              "      <td>2</td>\n",
              "      <td>Pune</td>\n",
              "      <td>Others</td>\n",
              "      <td>M - SEAL / BOND TITE(100GM), WASHING, ARALDITE...</td>\n",
              "      <td>P001, P001, P002</td>\n",
              "      <td>1208.2</td>\n",
              "      <td>4263.75</td>\n",
              "    </tr>\n",
              "  </tbody>\n",
              "</table>\n",
              "</div>"
            ],
            "text/plain": [
              "  Customer No. Cust Type  ...  Order Quantity  Net value\n",
              "0       100001    Retail  ...          1208.2    4263.75\n",
              "\n",
              "[1 rows x 19 columns]"
            ]
          },
          "metadata": {
            "tags": []
          },
          "execution_count": 231
        }
      ]
    },
    {
      "cell_type": "code",
      "metadata": {
        "id": "Wvb9D1AA8yCp",
        "colab_type": "code",
        "colab": {}
      },
      "source": [
        "invoice_grouped_data.drop(columns=['Description'], inplace=True)"
      ],
      "execution_count": 0,
      "outputs": []
    },
    {
      "cell_type": "code",
      "metadata": {
        "id": "ZaP8d3Ln83BR",
        "colab_type": "code",
        "colab": {}
      },
      "source": [
        "most_freq_used_item_categ = ((invoice_grouped_data['Item Category'].value_counts()/len(invoice_grouped_data['Item Category']))*100).iloc[0:11].index"
      ],
      "execution_count": 0,
      "outputs": []
    },
    {
      "cell_type": "code",
      "metadata": {
        "id": "uf8AnR-L9dJG",
        "colab_type": "code",
        "colab": {}
      },
      "source": [
        "invoice_grouped_data['Item Category'] = invoice_grouped_data['Item Category'].apply(lambda x: 'Others' if x not in most_freq_used_item_categ else x)"
      ],
      "execution_count": 0,
      "outputs": []
    },
    {
      "cell_type": "code",
      "metadata": {
        "id": "na0PI8RD9oy0",
        "colab_type": "code",
        "outputId": "8b04825b-9d8d-46f2-d9c0-bfd0de80ff34",
        "colab": {
          "base_uri": "https://localhost:8080/",
          "height": 185
        }
      },
      "source": [
        "invoice_grouped_data.head(1)"
      ],
      "execution_count": 0,
      "outputs": [
        {
          "output_type": "execute_result",
          "data": {
            "text/html": [
              "<div>\n",
              "<style scoped>\n",
              "    .dataframe tbody tr th:only-of-type {\n",
              "        vertical-align: middle;\n",
              "    }\n",
              "\n",
              "    .dataframe tbody tr th {\n",
              "        vertical-align: top;\n",
              "    }\n",
              "\n",
              "    .dataframe thead th {\n",
              "        text-align: right;\n",
              "    }\n",
              "</style>\n",
              "<table border=\"1\" class=\"dataframe\">\n",
              "  <thead>\n",
              "    <tr style=\"text-align: right;\">\n",
              "      <th></th>\n",
              "      <th>Customer No.</th>\n",
              "      <th>Cust Type</th>\n",
              "      <th>Labour Total</th>\n",
              "      <th>Misc Total</th>\n",
              "      <th>OSL Total</th>\n",
              "      <th>Order Type</th>\n",
              "      <th>Parts Total</th>\n",
              "      <th>Total Amt Wtd Tax.</th>\n",
              "      <th>Partner Type</th>\n",
              "      <th>Data Origin</th>\n",
              "      <th>Title</th>\n",
              "      <th>Vehicle Model</th>\n",
              "      <th>Fuel Type</th>\n",
              "      <th>City</th>\n",
              "      <th>ServiceTime_category</th>\n",
              "      <th>Item Category</th>\n",
              "      <th>Order Quantity</th>\n",
              "      <th>Net value</th>\n",
              "    </tr>\n",
              "  </thead>\n",
              "  <tbody>\n",
              "    <tr>\n",
              "      <th>0</th>\n",
              "      <td>100001</td>\n",
              "      <td>Retail</td>\n",
              "      <td>3429.34</td>\n",
              "      <td>0.0</td>\n",
              "      <td>0.0</td>\n",
              "      <td>Others</td>\n",
              "      <td>834.41</td>\n",
              "      <td>4263.75</td>\n",
              "      <td>1</td>\n",
              "      <td>Z005</td>\n",
              "      <td>1</td>\n",
              "      <td>Others</td>\n",
              "      <td>2</td>\n",
              "      <td>Pune</td>\n",
              "      <td>Others</td>\n",
              "      <td>P001, P001, P002</td>\n",
              "      <td>1208.2</td>\n",
              "      <td>4263.75</td>\n",
              "    </tr>\n",
              "  </tbody>\n",
              "</table>\n",
              "</div>"
            ],
            "text/plain": [
              "  Customer No. Cust Type  ...  Order Quantity  Net value\n",
              "0       100001    Retail  ...          1208.2    4263.75\n",
              "\n",
              "[1 rows x 18 columns]"
            ]
          },
          "metadata": {
            "tags": []
          },
          "execution_count": 235
        }
      ]
    },
    {
      "cell_type": "markdown",
      "metadata": {
        "id": "PfGb7IaFHWfj",
        "colab_type": "text"
      },
      "source": [
        "**Apply Label Encoding on cluster data**"
      ]
    },
    {
      "cell_type": "code",
      "metadata": {
        "id": "DVAicCYnHciH",
        "colab_type": "code",
        "colab": {}
      },
      "source": [
        "from sklearn.preprocessing import LabelEncoder\n",
        "from sklearn.preprocessing import OneHotEncoder"
      ],
      "execution_count": 0,
      "outputs": []
    },
    {
      "cell_type": "code",
      "metadata": {
        "id": "fX9pDVCdHqeL",
        "colab_type": "code",
        "colab": {}
      },
      "source": [
        "le = LabelEncoder()\n",
        "ohe = OneHotEncoder()"
      ],
      "execution_count": 0,
      "outputs": []
    },
    {
      "cell_type": "code",
      "metadata": {
        "id": "etiult2EH2Ze",
        "colab_type": "code",
        "colab": {}
      },
      "source": [
        "invoice_grouped_data_categroical = invoice_grouped_data[['Cust Type', 'Order Type',  'Vehicle Model', 'City', 'ServiceTime_category']]"
      ],
      "execution_count": 0,
      "outputs": []
    },
    {
      "cell_type": "code",
      "metadata": {
        "id": "QlAJSLrnNIo-",
        "colab_type": "code",
        "outputId": "069099e1-8f9a-47c1-928e-dae62af35552",
        "colab": {
          "base_uri": "https://localhost:8080/",
          "height": 204
        }
      },
      "source": [
        "invoice_grouped_data_categroical.head()"
      ],
      "execution_count": 0,
      "outputs": [
        {
          "output_type": "execute_result",
          "data": {
            "text/html": [
              "<div>\n",
              "<style scoped>\n",
              "    .dataframe tbody tr th:only-of-type {\n",
              "        vertical-align: middle;\n",
              "    }\n",
              "\n",
              "    .dataframe tbody tr th {\n",
              "        vertical-align: top;\n",
              "    }\n",
              "\n",
              "    .dataframe thead th {\n",
              "        text-align: right;\n",
              "    }\n",
              "</style>\n",
              "<table border=\"1\" class=\"dataframe\">\n",
              "  <thead>\n",
              "    <tr style=\"text-align: right;\">\n",
              "      <th></th>\n",
              "      <th>Cust Type</th>\n",
              "      <th>Order Type</th>\n",
              "      <th>Vehicle Model</th>\n",
              "      <th>City</th>\n",
              "      <th>ServiceTime_category</th>\n",
              "    </tr>\n",
              "  </thead>\n",
              "  <tbody>\n",
              "    <tr>\n",
              "      <th>0</th>\n",
              "      <td>Retail</td>\n",
              "      <td>Others</td>\n",
              "      <td>Others</td>\n",
              "      <td>Pune</td>\n",
              "      <td>Others</td>\n",
              "    </tr>\n",
              "    <tr>\n",
              "      <th>1</th>\n",
              "      <td>Retail</td>\n",
              "      <td>Accidental</td>\n",
              "      <td>Z_TOYOTA</td>\n",
              "      <td>Others</td>\n",
              "      <td>super_fast</td>\n",
              "    </tr>\n",
              "    <tr>\n",
              "      <th>2</th>\n",
              "      <td>Retail</td>\n",
              "      <td>Paid Service,Running Repairs</td>\n",
              "      <td>Z_HYUNDAI</td>\n",
              "      <td>Others</td>\n",
              "      <td>super_fast, fast</td>\n",
              "    </tr>\n",
              "    <tr>\n",
              "      <th>3</th>\n",
              "      <td>Retail</td>\n",
              "      <td>Paid Service</td>\n",
              "      <td>Z_MARUTI</td>\n",
              "      <td>Others</td>\n",
              "      <td>mid</td>\n",
              "    </tr>\n",
              "    <tr>\n",
              "      <th>4</th>\n",
              "      <td>Retail</td>\n",
              "      <td>Paid Service,Running Repairs</td>\n",
              "      <td>Z_HYUNDAI</td>\n",
              "      <td>Others</td>\n",
              "      <td>Others</td>\n",
              "    </tr>\n",
              "  </tbody>\n",
              "</table>\n",
              "</div>"
            ],
            "text/plain": [
              "  Cust Type                    Order Type  ...    City ServiceTime_category\n",
              "0    Retail                        Others  ...    Pune               Others\n",
              "1    Retail                    Accidental  ...  Others           super_fast\n",
              "2    Retail  Paid Service,Running Repairs  ...  Others     super_fast, fast\n",
              "3    Retail                  Paid Service  ...  Others                  mid\n",
              "4    Retail  Paid Service,Running Repairs  ...  Others               Others\n",
              "\n",
              "[5 rows x 5 columns]"
            ]
          },
          "metadata": {
            "tags": []
          },
          "execution_count": 305
        }
      ]
    },
    {
      "cell_type": "code",
      "metadata": {
        "id": "aPYesXiCHtgj",
        "colab_type": "code",
        "colab": {}
      },
      "source": [
        "invoice_grouped_data_encoded = invoice_grouped_data_categroical.apply(le.fit_transform)"
      ],
      "execution_count": 0,
      "outputs": []
    },
    {
      "cell_type": "code",
      "metadata": {
        "id": "uHv3wIA-avnn",
        "colab_type": "code",
        "outputId": "64f851f8-9191-4ffa-d07a-3968e951fe21",
        "colab": {
          "base_uri": "https://localhost:8080/",
          "height": 34
        }
      },
      "source": [
        "invoice_grouped_data_encoded.shape"
      ],
      "execution_count": 0,
      "outputs": [
        {
          "output_type": "execute_result",
          "data": {
            "text/plain": [
              "(406838, 5)"
            ]
          },
          "metadata": {
            "tags": []
          },
          "execution_count": 325
        }
      ]
    },
    {
      "cell_type": "code",
      "metadata": {
        "id": "hL4GW8PCNiCl",
        "colab_type": "code",
        "colab": {}
      },
      "source": [
        "invoice_grouped_data_numerical = invoice_grouped_data.select_dtypes(include=[np.number])"
      ],
      "execution_count": 0,
      "outputs": []
    },
    {
      "cell_type": "code",
      "metadata": {
        "id": "UdgSmAjnJbZA",
        "colab_type": "code",
        "colab": {}
      },
      "source": [
        "cluster_data = pd.concat([invoice_grouped_data_encoded,invoice_grouped_data_numerical], axis=1)"
      ],
      "execution_count": 0,
      "outputs": []
    },
    {
      "cell_type": "code",
      "metadata": {
        "id": "t-BkaZXrIiUt",
        "colab_type": "code",
        "outputId": "9d5a7507-34be-4911-e853-209293913a49",
        "colab": {
          "base_uri": "https://localhost:8080/",
          "height": 221
        }
      },
      "source": [
        "cluster_data.tail()"
      ],
      "execution_count": 357,
      "outputs": [
        {
          "output_type": "execute_result",
          "data": {
            "text/html": [
              "<div>\n",
              "<style scoped>\n",
              "    .dataframe tbody tr th:only-of-type {\n",
              "        vertical-align: middle;\n",
              "    }\n",
              "\n",
              "    .dataframe tbody tr th {\n",
              "        vertical-align: top;\n",
              "    }\n",
              "\n",
              "    .dataframe thead th {\n",
              "        text-align: right;\n",
              "    }\n",
              "</style>\n",
              "<table border=\"1\" class=\"dataframe\">\n",
              "  <thead>\n",
              "    <tr style=\"text-align: right;\">\n",
              "      <th></th>\n",
              "      <th>Cust Type</th>\n",
              "      <th>Order Type</th>\n",
              "      <th>Vehicle Model</th>\n",
              "      <th>City</th>\n",
              "      <th>ServiceTime_category</th>\n",
              "      <th>Labour Total</th>\n",
              "      <th>Misc Total</th>\n",
              "      <th>OSL Total</th>\n",
              "      <th>Parts Total</th>\n",
              "      <th>Total Amt Wtd Tax.</th>\n",
              "      <th>Partner Type</th>\n",
              "      <th>Title</th>\n",
              "      <th>Fuel Type</th>\n",
              "      <th>Order Quantity</th>\n",
              "      <th>Net value</th>\n",
              "    </tr>\n",
              "  </thead>\n",
              "  <tbody>\n",
              "    <tr>\n",
              "      <th>406833</th>\n",
              "      <td>5</td>\n",
              "      <td>4</td>\n",
              "      <td>4</td>\n",
              "      <td>11</td>\n",
              "      <td>9</td>\n",
              "      <td>0.00</td>\n",
              "      <td>0.00</td>\n",
              "      <td>0.0</td>\n",
              "      <td>0.00</td>\n",
              "      <td>0.00</td>\n",
              "      <td>1</td>\n",
              "      <td>1</td>\n",
              "      <td>1</td>\n",
              "      <td>84.000</td>\n",
              "      <td>0.00</td>\n",
              "    </tr>\n",
              "    <tr>\n",
              "      <th>406834</th>\n",
              "      <td>7</td>\n",
              "      <td>1</td>\n",
              "      <td>0</td>\n",
              "      <td>11</td>\n",
              "      <td>8</td>\n",
              "      <td>1049.46</td>\n",
              "      <td>0.00</td>\n",
              "      <td>0.0</td>\n",
              "      <td>39851.33</td>\n",
              "      <td>40900.79</td>\n",
              "      <td>1</td>\n",
              "      <td>1</td>\n",
              "      <td>1</td>\n",
              "      <td>1317.000</td>\n",
              "      <td>40900.79</td>\n",
              "    </tr>\n",
              "    <tr>\n",
              "      <th>406835</th>\n",
              "      <td>5</td>\n",
              "      <td>4</td>\n",
              "      <td>6</td>\n",
              "      <td>11</td>\n",
              "      <td>9</td>\n",
              "      <td>0.00</td>\n",
              "      <td>0.00</td>\n",
              "      <td>0.0</td>\n",
              "      <td>3604.74</td>\n",
              "      <td>3604.74</td>\n",
              "      <td>1</td>\n",
              "      <td>1</td>\n",
              "      <td>1</td>\n",
              "      <td>17.875</td>\n",
              "      <td>3604.74</td>\n",
              "    </tr>\n",
              "    <tr>\n",
              "      <th>406836</th>\n",
              "      <td>5</td>\n",
              "      <td>4</td>\n",
              "      <td>0</td>\n",
              "      <td>11</td>\n",
              "      <td>8</td>\n",
              "      <td>105.04</td>\n",
              "      <td>0.00</td>\n",
              "      <td>0.0</td>\n",
              "      <td>2830.32</td>\n",
              "      <td>2935.36</td>\n",
              "      <td>1</td>\n",
              "      <td>1</td>\n",
              "      <td>1</td>\n",
              "      <td>58.500</td>\n",
              "      <td>2935.36</td>\n",
              "    </tr>\n",
              "    <tr>\n",
              "      <th>406837</th>\n",
              "      <td>5</td>\n",
              "      <td>3</td>\n",
              "      <td>7</td>\n",
              "      <td>11</td>\n",
              "      <td>10</td>\n",
              "      <td>1008.91</td>\n",
              "      <td>0.82</td>\n",
              "      <td>0.0</td>\n",
              "      <td>1715.03</td>\n",
              "      <td>2724.76</td>\n",
              "      <td>1</td>\n",
              "      <td>1</td>\n",
              "      <td>1</td>\n",
              "      <td>93.500</td>\n",
              "      <td>2724.76</td>\n",
              "    </tr>\n",
              "  </tbody>\n",
              "</table>\n",
              "</div>"
            ],
            "text/plain": [
              "        Cust Type  Order Type  ...  Order Quantity  Net value\n",
              "406833          5           4  ...          84.000       0.00\n",
              "406834          7           1  ...        1317.000   40900.79\n",
              "406835          5           4  ...          17.875    3604.74\n",
              "406836          5           4  ...          58.500    2935.36\n",
              "406837          5           3  ...          93.500    2724.76\n",
              "\n",
              "[5 rows x 15 columns]"
            ]
          },
          "metadata": {
            "tags": []
          },
          "execution_count": 357
        }
      ]
    },
    {
      "cell_type": "code",
      "metadata": {
        "id": "bGTNdsaCJqj8",
        "colab_type": "code",
        "outputId": "d1b1fffd-aeaf-41df-e4b4-b870f5befbf8",
        "colab": {
          "base_uri": "https://localhost:8080/",
          "height": 34
        }
      },
      "source": [
        "cluster_data.shape"
      ],
      "execution_count": 358,
      "outputs": [
        {
          "output_type": "execute_result",
          "data": {
            "text/plain": [
              "(406838, 15)"
            ]
          },
          "metadata": {
            "tags": []
          },
          "execution_count": 358
        }
      ]
    },
    {
      "cell_type": "code",
      "metadata": {
        "id": "WKfs3nsYHNZ3",
        "colab_type": "code",
        "colab": {}
      },
      "source": [
        "cluster_data.drop(columns=['OSL Total', 'Misc Total'], inplace=True)"
      ],
      "execution_count": 0,
      "outputs": []
    },
    {
      "cell_type": "code",
      "metadata": {
        "id": "SFzZZYaMHn4X",
        "colab_type": "code",
        "colab": {}
      },
      "source": [
        "# cluster_data.drop(columns=['Partner Type', 'Fuel Type'], inplace=True)"
      ],
      "execution_count": 0,
      "outputs": []
    },
    {
      "cell_type": "code",
      "metadata": {
        "id": "7T9Sf_JYN0Uz",
        "colab_type": "code",
        "colab": {}
      },
      "source": [
        "# cluster_data.drop(columns=['Cust Type'], inplace=True)"
      ],
      "execution_count": 0,
      "outputs": []
    },
    {
      "cell_type": "markdown",
      "metadata": {
        "id": "daOdM5BV_AVs",
        "colab_type": "text"
      },
      "source": [
        "## Apply Clustering Algorthims"
      ]
    },
    {
      "cell_type": "code",
      "metadata": {
        "id": "l48hKfdB-_YT",
        "colab_type": "code",
        "colab": {}
      },
      "source": [
        "from sklearn.cluster import KMeans"
      ],
      "execution_count": 0,
      "outputs": []
    },
    {
      "cell_type": "code",
      "metadata": {
        "id": "rwlzzHBqLCZ6",
        "colab_type": "code",
        "colab": {}
      },
      "source": [
        "dist=[]\n",
        "# Iterate from 1-9\n",
        "for i in range(1, 10):\n",
        "    # Initialize KMeans algorithm\n",
        "    km = KMeans(n_clusters=i, init='k-means++', n_init=10, max_iter=300, random_state=0)\n",
        "    # Fit on data\n",
        "    km.fit(cluster_data)\n",
        "    # Append WCSS to list storing WCSS\n",
        "    dist.append(km.inertia_)"
      ],
      "execution_count": 0,
      "outputs": []
    },
    {
      "cell_type": "code",
      "metadata": {
        "id": "VYdA3IaRNxDw",
        "colab_type": "code",
        "colab": {}
      },
      "source": [
        "import matplotlib.pyplot as plt"
      ],
      "execution_count": 0,
      "outputs": []
    },
    {
      "cell_type": "code",
      "metadata": {
        "id": "jOU0wmqUNo1s",
        "colab_type": "code",
        "outputId": "3546f459-c57a-4cae-d89a-8e7aa8461259",
        "colab": {
          "base_uri": "https://localhost:8080/",
          "height": 290
        }
      },
      "source": [
        "# Line plot # clusters on X-axis and WCSS on Y-axis \n",
        "plt.plot(range(1, 10), dist, 'bo-')\n",
        "plt.xlabel('No of Clusters')\n",
        "plt.ylabel('inertia_')\n",
        "plt.show()"
      ],
      "execution_count": 0,
      "outputs": [
        {
          "output_type": "display_data",
          "data": {
            "image/png": "[encoded data removed]",
            "text/plain": [
              "<Figure size 432x288 with 1 Axes>"
            ]
          },
          "metadata": {
            "tags": []
          }
        }
      ]
    },
    {
      "cell_type": "code",
      "metadata": {
        "id": "jQO3DzC4PJM3",
        "colab_type": "code",
        "colab": {}
      },
      "source": [
        "cluster  = KMeans(n_clusters=5, init='k-means++', max_iter=300, n_init=10, random_state=0)\n",
        "# create 'cluster' column\n",
        "cluster_data['cluster'] = cluster.fit_predict(cluster_data)"
      ],
      "execution_count": 0,
      "outputs": []
    },
    {
      "cell_type": "code",
      "metadata": {
        "id": "t9L2FZOiGRrq",
        "colab_type": "code",
        "outputId": "786cfb84-75eb-489f-ce49-04ab8769d3ec",
        "colab": {
          "base_uri": "https://localhost:8080/",
          "height": 119
        }
      },
      "source": [
        "cluster_data['cluster'].value_counts()"
      ],
      "execution_count": 361,
      "outputs": [
        {
          "output_type": "execute_result",
          "data": {
            "text/plain": [
              "0    363928\n",
              "1     37365\n",
              "4      5009\n",
              "2       500\n",
              "3        36\n",
              "Name: cluster, dtype: int64"
            ]
          },
          "metadata": {
            "tags": []
          },
          "execution_count": 361
        }
      ]
    },
    {
      "cell_type": "code",
      "metadata": {
        "id": "kzZHIJI4P1wD",
        "colab_type": "code",
        "colab": {}
      },
      "source": [
        "# Cluster centers\n",
        "centroids = cluster.cluster_centers_"
      ],
      "execution_count": 0,
      "outputs": []
    },
    {
      "cell_type": "code",
      "metadata": {
        "id": "wnutvCjuP-SU",
        "colab_type": "code",
        "colab": {}
      },
      "source": [
        "# Within cluster sum of squares\n",
        "wcss = km.inertia_"
      ],
      "execution_count": 0,
      "outputs": []
    },
    {
      "cell_type": "code",
      "metadata": {
        "id": "mHwkeFRSP_Z8",
        "colab_type": "code",
        "outputId": "e51641be-9b8b-43ae-b65c-4828b2346b37",
        "colab": {
          "base_uri": "https://localhost:8080/",
          "height": 357
        }
      },
      "source": [
        "centroids"
      ],
      "execution_count": 364,
      "outputs": [
        {
          "output_type": "execute_result",
          "data": {
            "text/plain": [
              "array([[8.99976370e+00, 2.96816251e+00, 4.78722709e+00, 9.96002935e+00,\n",
              "        4.61122377e+00, 1.28135628e+03, 1.63382350e+03, 3.21903826e+03,\n",
              "        1.00000000e+00, 1.00000000e+00, 1.00713026e+00, 2.76990766e+02,\n",
              "        3.32576306e+03],\n",
              "       [8.99756378e+00, 1.69276899e+00, 4.37651594e+00, 9.48555672e+00,\n",
              "        4.92097020e+00, 1.18046839e+04, 1.68873125e+04, 3.13927948e+04,\n",
              "        1.00000000e+00, 1.00000000e+00, 1.02586138e+00, 2.84724686e+03,\n",
              "        3.25177033e+04],\n",
              "       [8.91600000e+00, 7.94000000e-01, 4.01400000e+00, 9.51600000e+00,\n",
              "        5.60200000e+00, 8.78912278e+04, 1.88916736e+05, 3.01619072e+05,\n",
              "        1.00000000e+00, 1.00000000e+00, 1.07000000e+00, 1.91438233e+04,\n",
              "        3.63015546e+05],\n",
              "       [8.36111111e+00, 8.88888889e-01, 3.77777778e+00, 9.27777778e+00,\n",
              "        3.69444444e+00, 2.29897523e+05, 6.02174984e+05, 9.50163369e+05,\n",
              "        1.00000000e+00, 1.00000000e+00, 1.30555556e+00, 5.85893465e+04,\n",
              "        1.37130994e+06],\n",
              "       [8.99161174e+00, 1.10385460e+00, 4.28380268e+00, 9.41621730e+00,\n",
              "        5.02496505e+00, 3.52485705e+04, 6.14361889e+04, 1.05498465e+05,\n",
              "        1.00000000e+00, 1.00000000e+00, 1.04114240e+00, 7.71215425e+03,\n",
              "        1.11189946e+05]])"
            ]
          },
          "metadata": {
            "tags": []
          },
          "execution_count": 364
        }
      ]
    },
    {
      "cell_type": "code",
      "metadata": {
        "id": "-5wT9alhQCg6",
        "colab_type": "code",
        "outputId": "7ef1466e-c5aa-4a26-8ad8-528b644dd8a5",
        "colab": {
          "base_uri": "https://localhost:8080/",
          "height": 34
        }
      },
      "source": [
        "wcss"
      ],
      "execution_count": 0,
      "outputs": [
        {
          "output_type": "execute_result",
          "data": {
            "text/plain": [
              "69224772242292.66"
            ]
          },
          "metadata": {
            "tags": []
          },
          "execution_count": 340
        }
      ]
    },
    {
      "cell_type": "code",
      "metadata": {
        "id": "W1Nm7-VePIbp",
        "colab_type": "code",
        "outputId": "06a7c2e5-49f8-465d-807b-f3c8edff9455",
        "colab": {
          "base_uri": "https://localhost:8080/",
          "height": 221
        }
      },
      "source": [
        "cluster_data.head()"
      ],
      "execution_count": 365,
      "outputs": [
        {
          "output_type": "execute_result",
          "data": {
            "text/html": [
              "<div>\n",
              "<style scoped>\n",
              "    .dataframe tbody tr th:only-of-type {\n",
              "        vertical-align: middle;\n",
              "    }\n",
              "\n",
              "    .dataframe tbody tr th {\n",
              "        vertical-align: top;\n",
              "    }\n",
              "\n",
              "    .dataframe thead th {\n",
              "        text-align: right;\n",
              "    }\n",
              "</style>\n",
              "<table border=\"1\" class=\"dataframe\">\n",
              "  <thead>\n",
              "    <tr style=\"text-align: right;\">\n",
              "      <th></th>\n",
              "      <th>Cust Type</th>\n",
              "      <th>Order Type</th>\n",
              "      <th>Vehicle Model</th>\n",
              "      <th>City</th>\n",
              "      <th>ServiceTime_category</th>\n",
              "      <th>Labour Total</th>\n",
              "      <th>Parts Total</th>\n",
              "      <th>Total Amt Wtd Tax.</th>\n",
              "      <th>Partner Type</th>\n",
              "      <th>Title</th>\n",
              "      <th>Fuel Type</th>\n",
              "      <th>Order Quantity</th>\n",
              "      <th>Net value</th>\n",
              "      <th>cluster</th>\n",
              "    </tr>\n",
              "  </thead>\n",
              "  <tbody>\n",
              "    <tr>\n",
              "      <th>0</th>\n",
              "      <td>9</td>\n",
              "      <td>1</td>\n",
              "      <td>0</td>\n",
              "      <td>12</td>\n",
              "      <td>0</td>\n",
              "      <td>3429.34</td>\n",
              "      <td>834.41</td>\n",
              "      <td>4263.75</td>\n",
              "      <td>1</td>\n",
              "      <td>1</td>\n",
              "      <td>2</td>\n",
              "      <td>1208.2</td>\n",
              "      <td>4263.75</td>\n",
              "      <td>0</td>\n",
              "    </tr>\n",
              "    <tr>\n",
              "      <th>1</th>\n",
              "      <td>9</td>\n",
              "      <td>0</td>\n",
              "      <td>8</td>\n",
              "      <td>11</td>\n",
              "      <td>4</td>\n",
              "      <td>0.00</td>\n",
              "      <td>0.00</td>\n",
              "      <td>0.00</td>\n",
              "      <td>1</td>\n",
              "      <td>1</td>\n",
              "      <td>1</td>\n",
              "      <td>0.0</td>\n",
              "      <td>0.00</td>\n",
              "      <td>0</td>\n",
              "    </tr>\n",
              "    <tr>\n",
              "      <th>2</th>\n",
              "      <td>9</td>\n",
              "      <td>3</td>\n",
              "      <td>4</td>\n",
              "      <td>11</td>\n",
              "      <td>5</td>\n",
              "      <td>1532.51</td>\n",
              "      <td>4179.93</td>\n",
              "      <td>5712.44</td>\n",
              "      <td>1</td>\n",
              "      <td>1</td>\n",
              "      <td>1</td>\n",
              "      <td>104.3</td>\n",
              "      <td>5712.44</td>\n",
              "      <td>0</td>\n",
              "    </tr>\n",
              "    <tr>\n",
              "      <th>3</th>\n",
              "      <td>9</td>\n",
              "      <td>2</td>\n",
              "      <td>6</td>\n",
              "      <td>11</td>\n",
              "      <td>2</td>\n",
              "      <td>1223.71</td>\n",
              "      <td>0.00</td>\n",
              "      <td>1223.71</td>\n",
              "      <td>1</td>\n",
              "      <td>1</td>\n",
              "      <td>1</td>\n",
              "      <td>288.0</td>\n",
              "      <td>1223.71</td>\n",
              "      <td>0</td>\n",
              "    </tr>\n",
              "    <tr>\n",
              "      <th>4</th>\n",
              "      <td>9</td>\n",
              "      <td>3</td>\n",
              "      <td>4</td>\n",
              "      <td>11</td>\n",
              "      <td>0</td>\n",
              "      <td>11031.37</td>\n",
              "      <td>35257.27</td>\n",
              "      <td>46288.64</td>\n",
              "      <td>1</td>\n",
              "      <td>1</td>\n",
              "      <td>1</td>\n",
              "      <td>478.0</td>\n",
              "      <td>46288.64</td>\n",
              "      <td>1</td>\n",
              "    </tr>\n",
              "  </tbody>\n",
              "</table>\n",
              "</div>"
            ],
            "text/plain": [
              "   Cust Type  Order Type  Vehicle Model  ...  Order Quantity  Net value  cluster\n",
              "0          9           1              0  ...          1208.2    4263.75        0\n",
              "1          9           0              8  ...             0.0       0.00        0\n",
              "2          9           3              4  ...           104.3    5712.44        0\n",
              "3          9           2              6  ...           288.0    1223.71        0\n",
              "4          9           3              4  ...           478.0   46288.64        1\n",
              "\n",
              "[5 rows x 14 columns]"
            ]
          },
          "metadata": {
            "tags": []
          },
          "execution_count": 365
        }
      ]
    },
    {
      "cell_type": "code",
      "metadata": {
        "id": "ZtJfcaz_QHl4",
        "colab_type": "code",
        "colab": {
          "base_uri": "https://localhost:8080/",
          "height": 884
        },
        "outputId": "3e09c3cc-80b5-4b16-8f11-24f0756a655b"
      },
      "source": [
        "for col in ['Order Type', 'Vehicle Model', 'City', 'ServiceTime_category', 'Title']:\n",
        "  print(\"Running for col: {}\".format(col))\n",
        "  print((cluster_data[cluster_data['cluster']==0][col].value_counts()/len(cluster_data[cluster_data['cluster']==0][col]))*100)\n",
        "  plt.show()"
      ],
      "execution_count": 366,
      "outputs": [
        {
          "output_type": "stream",
          "text": [
            "Running for col: Order Type\n",
            "4    50.158273\n",
            "2    26.682750\n",
            "3    11.931756\n",
            "1     7.026390\n",
            "0     4.200831\n",
            "Name: Order Type, dtype: float64\n",
            "Running for col: Vehicle Model\n",
            "6    34.074048\n",
            "5    16.971214\n",
            "4    14.746873\n",
            "7    10.631224\n",
            "0     7.672397\n",
            "2     4.837495\n",
            "8     4.203579\n",
            "1     3.938416\n",
            "3     2.924754\n",
            "Name: Vehicle Model, dtype: float64\n",
            "Running for col: City\n",
            "11    79.571783\n",
            "3      3.117100\n",
            "1      2.407619\n",
            "10     2.237805\n",
            "4      1.725891\n",
            "12     1.473368\n",
            "13     1.368677\n",
            "7      1.315920\n",
            "9      1.245026\n",
            "8      1.197215\n",
            "6      1.110934\n",
            "2      1.099393\n",
            "5      1.068893\n",
            "0      1.060375\n",
            "Name: City, dtype: float64\n",
            "Running for col: ServiceTime_category\n",
            "4     48.352147\n",
            "9     15.415687\n",
            "1      8.949847\n",
            "0      5.953101\n",
            "2      4.615199\n",
            "5      4.367347\n",
            "8      2.960750\n",
            "3      2.846992\n",
            "11     2.318316\n",
            "6      1.917962\n",
            "10     1.198864\n",
            "7      1.103790\n",
            "Name: ServiceTime_category, dtype: float64\n",
            "Running for col: Title\n",
            "1    100.0\n",
            "Name: Title, dtype: float64\n"
          ],
          "name": "stdout"
        }
      ]
    },
    {
      "cell_type": "code",
      "metadata": {
        "id": "gywFC6R5gHap",
        "colab_type": "code",
        "colab": {
          "base_uri": "https://localhost:8080/",
          "height": 187
        },
        "outputId": "22665990-91d3-4abf-ab3c-35ecf82776e5"
      },
      "source": [
        "for col in ['Labour Total', 'Parts Total', 'Total Amt Wtd Tax.', 'Order Quantity', 'Net value']:\n",
        "  print(\"Running for col: {}\".format(col))\n",
        "  print(cluster_data[cluster_data['cluster']==0][col].median())\n",
        "#   plt.show()"
      ],
      "execution_count": 367,
      "outputs": [
        {
          "output_type": "stream",
          "text": [
            "Running for col: Labour Total\n",
            "529.63\n",
            "Running for col: Parts Total\n",
            "343.74\n",
            "Running for col: Total Amt Wtd Tax.\n",
            "1595.85\n",
            "Running for col: Order Quantity\n",
            "84.0\n",
            "Running for col: Net value\n",
            "1645.625\n"
          ],
          "name": "stdout"
        }
      ]
    },
    {
      "cell_type": "code",
      "metadata": {
        "id": "dlazRcG8hjfR",
        "colab_type": "code",
        "colab": {}
      },
      "source": [
        "cluster_df = pd.DataFrame(columns=cluster_data.columns)"
      ],
      "execution_count": 0,
      "outputs": []
    },
    {
      "cell_type": "code",
      "metadata": {
        "id": "zKYkJ_Kygpzu",
        "colab_type": "code",
        "colab": {
          "base_uri": "https://localhost:8080/",
          "height": 102
        },
        "outputId": "96f648ce-ae5d-4bed-b6f1-cc4156d46ce8"
      },
      "source": [
        "datList = []\n",
        "for cluster in range(5):\n",
        "  print(cluster)\n",
        "  cluster_segment = cluster_data[cluster_data['cluster'] == cluster]\n",
        "  data={}\n",
        "  for col in cluster_data.columns:\n",
        "    if col in ['Labour Total', 'Parts Total', 'Total Amt Wtd Tax.', 'Order Quantity', 'Net value']:\n",
        "      data[col] = cluster_segment[col].median()\n",
        "    else:\n",
        "      data[col] = cluster_segment[col].mode().values[0]\n",
        "  datList.append(data)  "
      ],
      "execution_count": 402,
      "outputs": [
        {
          "output_type": "stream",
          "text": [
            "0\n",
            "1\n",
            "2\n",
            "3\n",
            "4\n"
          ],
          "name": "stdout"
        }
      ]
    },
    {
      "cell_type": "code",
      "metadata": {
        "id": "e7AVIZE9hQse",
        "colab_type": "code",
        "colab": {
          "base_uri": "https://localhost:8080/",
          "height": 252
        },
        "outputId": "6e8876c8-4b33-4ff1-bf01-e414bd29fce0"
      },
      "source": [
        "cluster_df.append(datList).set_index('cluster')"
      ],
      "execution_count": 405,
      "outputs": [
        {
          "output_type": "execute_result",
          "data": {
            "text/html": [
              "<div>\n",
              "<style scoped>\n",
              "    .dataframe tbody tr th:only-of-type {\n",
              "        vertical-align: middle;\n",
              "    }\n",
              "\n",
              "    .dataframe tbody tr th {\n",
              "        vertical-align: top;\n",
              "    }\n",
              "\n",
              "    .dataframe thead th {\n",
              "        text-align: right;\n",
              "    }\n",
              "</style>\n",
              "<table border=\"1\" class=\"dataframe\">\n",
              "  <thead>\n",
              "    <tr style=\"text-align: right;\">\n",
              "      <th></th>\n",
              "      <th>Cust Type</th>\n",
              "      <th>Order Type</th>\n",
              "      <th>Vehicle Model</th>\n",
              "      <th>City</th>\n",
              "      <th>ServiceTime_category</th>\n",
              "      <th>Labour Total</th>\n",
              "      <th>Parts Total</th>\n",
              "      <th>Total Amt Wtd Tax.</th>\n",
              "      <th>Partner Type</th>\n",
              "      <th>Title</th>\n",
              "      <th>Fuel Type</th>\n",
              "      <th>Order Quantity</th>\n",
              "      <th>Net value</th>\n",
              "    </tr>\n",
              "    <tr>\n",
              "      <th>cluster</th>\n",
              "      <th></th>\n",
              "      <th></th>\n",
              "      <th></th>\n",
              "      <th></th>\n",
              "      <th></th>\n",
              "      <th></th>\n",
              "      <th></th>\n",
              "      <th></th>\n",
              "      <th></th>\n",
              "      <th></th>\n",
              "      <th></th>\n",
              "      <th></th>\n",
              "      <th></th>\n",
              "    </tr>\n",
              "  </thead>\n",
              "  <tbody>\n",
              "    <tr>\n",
              "      <th>0</th>\n",
              "      <td>9</td>\n",
              "      <td>4</td>\n",
              "      <td>6</td>\n",
              "      <td>11</td>\n",
              "      <td>4</td>\n",
              "      <td>529.63</td>\n",
              "      <td>343.740</td>\n",
              "      <td>1595.850</td>\n",
              "      <td>1</td>\n",
              "      <td>1</td>\n",
              "      <td>1</td>\n",
              "      <td>84.000</td>\n",
              "      <td>1645.625</td>\n",
              "    </tr>\n",
              "    <tr>\n",
              "      <th>1</th>\n",
              "      <td>9</td>\n",
              "      <td>1</td>\n",
              "      <td>5</td>\n",
              "      <td>11</td>\n",
              "      <td>0</td>\n",
              "      <td>9389.92</td>\n",
              "      <td>15301.320</td>\n",
              "      <td>27453.250</td>\n",
              "      <td>1</td>\n",
              "      <td>1</td>\n",
              "      <td>1</td>\n",
              "      <td>1062.000</td>\n",
              "      <td>28162.630</td>\n",
              "    </tr>\n",
              "    <tr>\n",
              "      <th>2</th>\n",
              "      <td>9</td>\n",
              "      <td>1</td>\n",
              "      <td>5</td>\n",
              "      <td>11</td>\n",
              "      <td>9</td>\n",
              "      <td>64333.85</td>\n",
              "      <td>186169.135</td>\n",
              "      <td>275261.335</td>\n",
              "      <td>1</td>\n",
              "      <td>1</td>\n",
              "      <td>1</td>\n",
              "      <td>6291.000</td>\n",
              "      <td>310303.500</td>\n",
              "    </tr>\n",
              "    <tr>\n",
              "      <th>3</th>\n",
              "      <td>9</td>\n",
              "      <td>1</td>\n",
              "      <td>5</td>\n",
              "      <td>11</td>\n",
              "      <td>0</td>\n",
              "      <td>133940.25</td>\n",
              "      <td>608728.380</td>\n",
              "      <td>871229.675</td>\n",
              "      <td>1</td>\n",
              "      <td>1</td>\n",
              "      <td>1</td>\n",
              "      <td>22047.202</td>\n",
              "      <td>1295354.665</td>\n",
              "    </tr>\n",
              "    <tr>\n",
              "      <th>4</th>\n",
              "      <td>9</td>\n",
              "      <td>1</td>\n",
              "      <td>5</td>\n",
              "      <td>11</td>\n",
              "      <td>0</td>\n",
              "      <td>27875.32</td>\n",
              "      <td>57888.310</td>\n",
              "      <td>94872.780</td>\n",
              "      <td>1</td>\n",
              "      <td>1</td>\n",
              "      <td>1</td>\n",
              "      <td>3050.500</td>\n",
              "      <td>98492.030</td>\n",
              "    </tr>\n",
              "  </tbody>\n",
              "</table>\n",
              "</div>"
            ],
            "text/plain": [
              "        Cust Type Order Type  ... Order Quantity    Net value\n",
              "cluster                       ...                            \n",
              "0               9          4  ...         84.000     1645.625\n",
              "1               9          1  ...       1062.000    28162.630\n",
              "2               9          1  ...       6291.000   310303.500\n",
              "3               9          1  ...      22047.202  1295354.665\n",
              "4               9          1  ...       3050.500    98492.030\n",
              "\n",
              "[5 rows x 13 columns]"
            ]
          },
          "metadata": {
            "tags": []
          },
          "execution_count": 405
        }
      ]
    }
  ]
}